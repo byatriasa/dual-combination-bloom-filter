{
  "nbformat": 4,
  "nbformat_minor": 0,
  "metadata": {
    "colab": {
      "name": "DCOMB",
      "provenance": [],
      "collapsed_sections": [
        "m_j-tRkAVAh3",
        "rkqSg2EP3Fyd",
        "YCAGczhkcwhJ"
      ],
      "toc_visible": true
    },
    "kernelspec": {
      "display_name": "Python 3",
      "name": "python3"
    },
    "language_info": {
      "name": "python"
    }
  },
  "cells": [
    {
      "cell_type": "markdown",
      "metadata": {
        "id": "m_j-tRkAVAh3"
      },
      "source": [
        "# CLASS: Bloom Filter"
      ]
    },
    {
      "cell_type": "markdown",
      "metadata": {
        "id": "I5K38pv-Sssg"
      },
      "source": [
        "Library"
      ]
    },
    {
      "cell_type": "code",
      "metadata": {
        "id": "YXprNrQhSQv0",
        "colab": {
          "base_uri": "https://localhost:8080/"
        },
        "outputId": "4e4c0279-d62b-47aa-aa3b-1e35994251d3"
      },
      "source": [
        "!pip install bitarray\n",
        "\n",
        "import math\n",
        "import time\n",
        "import hashlib\n",
        "import pandas as pd\n",
        "\n",
        "from bitarray import bitarray\n",
        "from google.colab import files"
      ],
      "execution_count": null,
      "outputs": [
        {
          "output_type": "stream",
          "name": "stdout",
          "text": [
            "Collecting bitarray\n",
            "  Downloading bitarray-2.3.4.tar.gz (88 kB)\n",
            "\u001b[?25l\r\u001b[K     |███▊                            | 10 kB 24.7 MB/s eta 0:00:01\r\u001b[K     |███████▍                        | 20 kB 26.9 MB/s eta 0:00:01\r\u001b[K     |███████████▏                    | 30 kB 28.2 MB/s eta 0:00:01\r\u001b[K     |██████████████▉                 | 40 kB 30.9 MB/s eta 0:00:01\r\u001b[K     |██████████████████▋             | 51 kB 34.4 MB/s eta 0:00:01\r\u001b[K     |██████████████████████▎         | 61 kB 37.7 MB/s eta 0:00:01\r\u001b[K     |██████████████████████████      | 71 kB 29.4 MB/s eta 0:00:01\r\u001b[K     |█████████████████████████████▊  | 81 kB 31.0 MB/s eta 0:00:01\r\u001b[K     |████████████████████████████████| 88 kB 6.4 MB/s \n",
            "\u001b[?25hBuilding wheels for collected packages: bitarray\n",
            "  Building wheel for bitarray (setup.py) ... \u001b[?25l\u001b[?25hdone\n",
            "  Created wheel for bitarray: filename=bitarray-2.3.4-cp37-cp37m-linux_x86_64.whl size=171982 sha256=4591a02483f68c76f6dc56c2e9f7f53309fbdc46f85a8c988af0e323ea8668ec\n",
            "  Stored in directory: /root/.cache/pip/wheels/84/cc/5b/0e861bdb5294d22d2d4f595df936f964a95258387e11494d41\n",
            "Successfully built bitarray\n",
            "Installing collected packages: bitarray\n",
            "Successfully installed bitarray-2.3.4\n"
          ]
        }
      ]
    },
    {
      "cell_type": "markdown",
      "metadata": {
        "id": "cQL_KkcZSy5U"
      },
      "source": [
        "Class: __Bloom Filter__\n",
        "> Consist:\n",
        "- Function: __init__: to initialize the class, functions, and class methods functions used\n",
        "- Function: __add__: to insert a specified desired element to the array\n",
        "- Function: __check__: to an existence of a specified element in the array\n",
        "- Function: (classmethod) __get_size__: to calculate the size of the array\n",
        "- Function: (classmethod) __get_hash_count__: to calculate the hash count needed to hash a specified element"
      ]
    },
    {
      "cell_type": "code",
      "metadata": {
        "id": "OEC-wDJTS1H6"
      },
      "source": [
        "class BloomFilter(object):\n",
        "\n",
        "\t'''\n",
        "\tClass for Bloom filter, using SHA256 hash function\n",
        "\t'''\n",
        "\n",
        "\tdef __init__(self, items_count, fp_prob):\n",
        "\t\t'''\n",
        "    Bloom Filter is a bit of array of specified size (m) and initially sets to zero\n",
        "\n",
        "    Glosarium:\n",
        "\t\t  n = items_count : int\n",
        "\t\t\t  Number of items expected to be stored in bloom filter\n",
        "\t\t  p = fp_prob : float\n",
        "\t\t\t  False Positive probability in decimal\n",
        "      k = hash count\n",
        "        Hash count needed for specified value. Formula commented alongside the function.\n",
        "      m = size of array\n",
        "        m CAN'T BE INPUTED MANUALLY without calculating the items count and hash count. Otherwise, collision increases.\n",
        "\t\t'''\n",
        "\n",
        "\t\t# Initialize false positive probability in decimal\n",
        "\t\tself.fp_prob = fp_prob\n",
        "\n",
        "\t\t# Initialize size (m) of bit array to use\n",
        "\t\tself.size = self.get_size(items_count, fp_prob)\n",
        "\n",
        "\t\t# Initialize number of hash functions (k) to use\n",
        "\t\tself.hash_count = self.get_hash_count(self.size, items_count)\n",
        "\n",
        "\t\t# Initialize bit array of given size\n",
        "    # Creating the array that will use the bloom filter method\n",
        "\t\tself.bit_array = bitarray(self.size)\n",
        "\n",
        "\t\t# Initialize all bits as 0\n",
        "\t\tself.bit_array.setall(0)\n",
        "\n",
        "\t@classmethod\n",
        "\tdef from_bit_array(self, text, n, fp_prob):\n",
        "\t\tba = bitarray(len(text))\n",
        "\n",
        "\t\tfor i in range(len(text)):\n",
        "\t\t\tba[i] = int(text[i])\n",
        "\n",
        "\t\tbf = BloomFilter(n, fp_prob)\n",
        "\n",
        "\t\tbf.bit_array = ba\n",
        "\n",
        "\t\treturn bf\n",
        "\n",
        "\tdef add(self, item):\n",
        "\t\t'''\n",
        "\t\tEncode and insert an item into the filter\n",
        "\t\t'''\n",
        "\t\tdigests = []\n",
        "\t\tfor i in range(self.hash_count):\n",
        "\n",
        "\t\t\t# create digest for given item.\n",
        "\t\t\t# using SHA256\n",
        "      # checking the bit value\n",
        "      # set bit value = position mod m\n",
        "\t\t\tdigest = int(hashlib.sha256(item.encode()).hexdigest(),16) % self.size\n",
        "\t\t\tdigests.append(digest)\n",
        "\n",
        "\t\t\t# set the bit True in bit_array\n",
        "\t\t\tself.bit_array[digest] = True\n",
        "\n",
        "\tdef check(self, item):\n",
        "\t\t'''\n",
        "\t\tCheck for existence of an item in filter\n",
        "\t\t'''\n",
        "\t\tfor i in range(self.hash_count):\n",
        "\t\t\tdigest = int(hashlib.sha256(item.encode()).hexdigest(),16) % self.size\n",
        "\t\t\tif self.bit_array[digest] == False:\n",
        "\n",
        "\t\t\t\t# if any of bit is False then,its not present\n",
        "\t\t\t\t# in filter\n",
        "\t\t\t\t# else there is probability that it exist\n",
        "\t\t\t\treturn False\n",
        "\t\treturn True\n",
        "\n",
        "\t@classmethod\n",
        "\tdef get_size(self, n, p):\n",
        "\t\t'''\n",
        "\t\tReturn the size of bit array(m) to used using\n",
        "\t\tfollowing formula\n",
        "\t\tm = -(n * lg(p)) / (lg(2)^2)\n",
        "\t\tn : int\n",
        "\t\t\tnumber of items expected to be stored in filter\n",
        "\t\tp : float\n",
        "\t\t\tFalse Positive probability in decimal\n",
        "\t\t'''\n",
        "\t\tm = -(n * math.log(p))/(math.log(2)**2)\n",
        "\t\treturn int(m)\n",
        "\n",
        "\t@classmethod\n",
        "\tdef get_hash_count(self, m, n):\n",
        "\t\t'''\n",
        "\t\tReturn the hash function(k) to be used using\n",
        "\t\tfollowing formula\n",
        "\t\tk = (m/n) * lg(2)\n",
        "\n",
        "\t\tm : int\n",
        "\t\t\tsize of bit array\n",
        "\t\tn : int\n",
        "\t\t\tnumber of items expected to be stored in filter\n",
        "\t\t'''\n",
        "\t\tk = (m/n) * math.log(2)\n",
        "\t\treturn int(k)"
      ],
      "execution_count": null,
      "outputs": []
    },
    {
      "cell_type": "markdown",
      "metadata": {
        "id": "rkqSg2EP3Fyd"
      },
      "source": [
        "# FUNCTION: create_list\n"
      ]
    },
    {
      "cell_type": "code",
      "metadata": {
        "id": "9kr9xVrlS_3O"
      },
      "source": [
        "def create_list(array_count, element_count, fp_prob):\n",
        "  '''\n",
        "  Function to create multiple array that recall bloom filter method.\n",
        "  '''\n",
        "  array_bf = []\n",
        "  a = array_count\n",
        "  n = element_count\n",
        "  p = fp_prob\n",
        "\n",
        "  for i in range(a):\n",
        "    BF = BloomFilter(n, p)\n",
        "    array_bf.append(BF)\n",
        "\n",
        "  return array_bf\n",
        "\n",
        "  # baca data dari csv, insert."
      ],
      "execution_count": null,
      "outputs": []
    },
    {
      "cell_type": "markdown",
      "metadata": {
        "id": "lIixmPvoT1AM"
      },
      "source": [
        "# LOAD DATA CSV"
      ]
    },
    {
      "cell_type": "code",
      "metadata": {
        "id": "7-OtgtFkUYVS"
      },
      "source": [
        "## Read csv dataset\n",
        "source_block_df = pd.read_csv('https://gist.githubusercontent.com/alanmsmxyz/35046b1f8383cb01febaee9cca7fa565/raw/8ca9a696c0cb34102472b7247b9f17b8f303875e/block.csv')\n",
        "source_index_df = pd.read_csv('https://gist.githubusercontent.com/alanmsmxyz/35046b1f8383cb01febaee9cca7fa565/raw/8ca9a696c0cb34102472b7247b9f17b8f303875e/index.csv')\n",
        "keys_df = pd.read_csv('https://gist.githubusercontent.com/alanmsmxyz/35046b1f8383cb01febaee9cca7fa565/raw/8ca9a696c0cb34102472b7247b9f17b8f303875e/keys.csv')"
      ],
      "execution_count": null,
      "outputs": []
    },
    {
      "cell_type": "code",
      "source": [
        "# filter n amount of block to be used\n",
        "block_df = source_block_df.head(100)\n",
        "\n",
        "# get all index for filtered blocks\n",
        "latest_block = block_df['block_id'][len(block_df) - 1]\n",
        "index_df = source_index_df.loc[source_index_df['block_id'] <= latest_block]"
      ],
      "metadata": {
        "id": "hr2Dg1RZQg2K"
      },
      "execution_count": null,
      "outputs": []
    },
    {
      "cell_type": "markdown",
      "metadata": {
        "id": "I-mC__KjX5iN"
      },
      "source": [
        "# Layer 1"
      ]
    },
    {
      "cell_type": "markdown",
      "source": [
        "## Static"
      ],
      "metadata": {
        "id": "9DbpYJKa16Am"
      }
    },
    {
      "cell_type": "code",
      "source": [
        "def create_layer_1_static(element_count):\n",
        "  return create_list(element_count, 20, 0.0001)"
      ],
      "metadata": {
        "id": "-kwgR71DwNDE"
      },
      "execution_count": null,
      "outputs": []
    },
    {
      "cell_type": "code",
      "source": [
        "def add_layer_1_static(layer_1_static_list, block_id, block_indexes_df):\n",
        "  for index in block_indexes_df['index']:\n",
        "    layer_1_static_list[block_id].add(index)"
      ],
      "metadata": {
        "id": "9fJpyJUNwkR8"
      },
      "execution_count": null,
      "outputs": []
    },
    {
      "cell_type": "code",
      "metadata": {
        "id": "xpK5XnfbWAKF"
      },
      "source": [
        "## Static Bloom Filter, with each bloom filter of n capacity\n",
        "layer_1_static_list = create_layer_1_static(len(block_df))\n",
        "\n",
        "timeinsert_layer1 = pd.DataFrame(data = {\n",
        "    'block_id': [],\n",
        "    'insert time': []\n",
        "})\n",
        "\n",
        "# insert data ke bloom filter dan hitung insert time\n",
        "for block_id in block_df['block_id']:\n",
        "  block_indexes_df = index_df.loc[index_df['block_id'] == block_id]\n",
        "\n",
        "  # start timer\n",
        "  t0 = time.perf_counter()\n",
        "\n",
        "  add_layer_1_static(layer_1_static_list, block_id, block_indexes_df)\n",
        "\n",
        "  # end timer\n",
        "  t1 = time.perf_counter()\n",
        "  ti = t1 - t0\n",
        "\n",
        "  timeinsert_layer1 = timeinsert_layer1.append({\n",
        "      'block_id': block_id,\n",
        "      'insert time': ti,\n",
        "  }, ignore_index=True)\n",
        "\n",
        "# total storage layer 1 dalam bit\n",
        "# print(layer_1_static_list[0].size * len(block_df))\n",
        "# print(layer_1_static_list[0].size * len(block_df) / 8)\n",
        "\n",
        "# for bf in layer_1_static_list:\n",
        "#   size += bf.size\n",
        "\n",
        "# print(size)\n",
        "\n",
        "fpp_layer1 = pd.DataFrame(data = {\n",
        "    'block_id': [],\n",
        "    'n': [],\n",
        "    'k': [],\n",
        "    'fpp':[]\n",
        "})\n",
        "\n",
        "fpp = 0\n",
        "\n",
        "# hitung fpp dan storage dari tiap BF\n",
        "for i in range(len(block_df)):\n",
        "\n",
        "  # start fpp\n",
        "  n = len(index_df.loc[index_df['block_id'] == i])\n",
        "  k = layer_1_static_list[i].hash_count\n",
        "\n",
        "  fpp = pow(1 - (pow(1 - (1 / 383), (n * k))), k)\n",
        "\n",
        "  fpp_layer1 = fpp_layer1.append({\n",
        "      'block_id': i,\n",
        "      'n': n,\n",
        "      'k': k,\n",
        "      'fpp': fpp\n",
        "  }, ignore_index=True)\n",
        "  # end fpp\n",
        "\n",
        "# clean-up tipe data, set block_id ke integer di dataframe benchmark\n",
        "timeinsert_layer1['block_id'] = timeinsert_layer1['block_id'].apply(int)\n",
        "fpp_layer1['block_id'] = fpp_layer1['block_id'].apply(int)"
      ],
      "execution_count": null,
      "outputs": []
    },
    {
      "cell_type": "code",
      "metadata": {
        "id": "MVZ-8Xt82zp7"
      },
      "source": [
        "# export layer 1 static\n",
        "layer_1_static_df = pd.DataFrame(data = {\n",
        "    'block_id': [],\n",
        "    'bit_array': [],\n",
        "})\n",
        "\n",
        "\n",
        "for i in range(len(layer_1_static_list)):\n",
        "  bit_array = ''.join(str(x) for x in layer_1_static_list[i].bit_array)\n",
        "  layer_1_static_df = layer_1_static_df.append({\n",
        "      'block_id': i,\n",
        "      'bit_array': bit_array\n",
        "  }, ignore_index=True)\n",
        "\n",
        "\n",
        "# set block_id sebagai integer\n",
        "layer_1_static_df['block_id'] = layer_1_static_df['block_id'].apply(int)"
      ],
      "execution_count": null,
      "outputs": []
    },
    {
      "cell_type": "markdown",
      "source": [
        "### Query"
      ],
      "metadata": {
        "id": "a6Qair39Ot4-"
      }
    },
    {
      "cell_type": "code",
      "source": [
        "# query\n",
        "timequery_layer1 = pd.DataFrame(data = {\n",
        "    'block_id': [],\n",
        "    'index': [],\n",
        "    'query_time': [],\n",
        "    'query_result': []\n",
        "})\n",
        "\n",
        "for i in index_df.index:\n",
        "  block_to_query = index_df['block_id'][i]\n",
        "  index_to_query = index_df['index'][i]\n",
        "\n",
        "  t0 = time.perf_counter()\n",
        "\n",
        "  query_result = layer_1_static_list[block_to_query].check(index_to_query)\n",
        "\n",
        "  t1 = time.perf_counter()\n",
        "  ti = t1 - t0\n",
        "\n",
        "  timequery_layer1 = timequery_layer1.append({\n",
        "      'block_id': block_to_query,\n",
        "      'index': index_to_query,\n",
        "      'query_time': ti,\n",
        "      'query_result': query_result\n",
        "  }, ignore_index=True)\n",
        "\n",
        "# set block_id sebagai integer\n",
        "timequery_layer1['block_id'] = timequery_layer1['block_id'].apply(int)"
      ],
      "metadata": {
        "id": "pf5QokQ12iG-"
      },
      "execution_count": null,
      "outputs": []
    },
    {
      "cell_type": "markdown",
      "source": [
        "### CSVs"
      ],
      "metadata": {
        "id": "QWs8gr8gBIot"
      }
    },
    {
      "cell_type": "code",
      "source": [
        "# export layer_1 static\n",
        "layer_1_static_df.to_csv('layer_1_static.csv', index=False)\n",
        "files.download('layer_1_static.csv')"
      ],
      "metadata": {
        "id": "cpb9d4YzBz3Y",
        "colab": {
          "base_uri": "https://localhost:8080/",
          "height": 17
        },
        "outputId": "a823b9f4-edd1-4743-f1bb-36aa6920ee51"
      },
      "execution_count": null,
      "outputs": [
        {
          "output_type": "display_data",
          "data": {
            "application/javascript": [
              "\n",
              "    async function download(id, filename, size) {\n",
              "      if (!google.colab.kernel.accessAllowed) {\n",
              "        return;\n",
              "      }\n",
              "      const div = document.createElement('div');\n",
              "      const label = document.createElement('label');\n",
              "      label.textContent = `Downloading \"${filename}\": `;\n",
              "      div.appendChild(label);\n",
              "      const progress = document.createElement('progress');\n",
              "      progress.max = size;\n",
              "      div.appendChild(progress);\n",
              "      document.body.appendChild(div);\n",
              "\n",
              "      const buffers = [];\n",
              "      let downloaded = 0;\n",
              "\n",
              "      const channel = await google.colab.kernel.comms.open(id);\n",
              "      // Send a message to notify the kernel that we're ready.\n",
              "      channel.send({})\n",
              "\n",
              "      for await (const message of channel.messages) {\n",
              "        // Send a message to notify the kernel that we're ready.\n",
              "        channel.send({})\n",
              "        if (message.buffers) {\n",
              "          for (const buffer of message.buffers) {\n",
              "            buffers.push(buffer);\n",
              "            downloaded += buffer.byteLength;\n",
              "            progress.value = downloaded;\n",
              "          }\n",
              "        }\n",
              "      }\n",
              "      const blob = new Blob(buffers, {type: 'application/binary'});\n",
              "      const a = document.createElement('a');\n",
              "      a.href = window.URL.createObjectURL(blob);\n",
              "      a.download = filename;\n",
              "      div.appendChild(a);\n",
              "      a.click();\n",
              "      div.remove();\n",
              "    }\n",
              "  "
            ],
            "text/plain": [
              "<IPython.core.display.Javascript object>"
            ]
          },
          "metadata": {}
        },
        {
          "output_type": "display_data",
          "data": {
            "application/javascript": [
              "download(\"download_7c98c019-31e0-40f8-a2f7-2330c9b8f843\", \"layer_1_static.csv\", 20133)"
            ],
            "text/plain": [
              "<IPython.core.display.Javascript object>"
            ]
          },
          "metadata": {}
        }
      ]
    },
    {
      "cell_type": "code",
      "source": [
        "# export insert time\n",
        "timeinsert_layer1.to_csv('timeinsert_layer1.csv', index=False)\n",
        "files.download('timeinsert_layer1.csv')"
      ],
      "metadata": {
        "id": "_Xzeoq1m09HA",
        "colab": {
          "base_uri": "https://localhost:8080/",
          "height": 17
        },
        "outputId": "cacd0a54-4ad0-4628-add4-68a93f0bfb62"
      },
      "execution_count": null,
      "outputs": [
        {
          "output_type": "display_data",
          "data": {
            "application/javascript": [
              "\n",
              "    async function download(id, filename, size) {\n",
              "      if (!google.colab.kernel.accessAllowed) {\n",
              "        return;\n",
              "      }\n",
              "      const div = document.createElement('div');\n",
              "      const label = document.createElement('label');\n",
              "      label.textContent = `Downloading \"${filename}\": `;\n",
              "      div.appendChild(label);\n",
              "      const progress = document.createElement('progress');\n",
              "      progress.max = size;\n",
              "      div.appendChild(progress);\n",
              "      document.body.appendChild(div);\n",
              "\n",
              "      const buffers = [];\n",
              "      let downloaded = 0;\n",
              "\n",
              "      const channel = await google.colab.kernel.comms.open(id);\n",
              "      // Send a message to notify the kernel that we're ready.\n",
              "      channel.send({})\n",
              "\n",
              "      for await (const message of channel.messages) {\n",
              "        // Send a message to notify the kernel that we're ready.\n",
              "        channel.send({})\n",
              "        if (message.buffers) {\n",
              "          for (const buffer of message.buffers) {\n",
              "            buffers.push(buffer);\n",
              "            downloaded += buffer.byteLength;\n",
              "            progress.value = downloaded;\n",
              "          }\n",
              "        }\n",
              "      }\n",
              "      const blob = new Blob(buffers, {type: 'application/binary'});\n",
              "      const a = document.createElement('a');\n",
              "      a.href = window.URL.createObjectURL(blob);\n",
              "      a.download = filename;\n",
              "      div.appendChild(a);\n",
              "      a.click();\n",
              "      div.remove();\n",
              "    }\n",
              "  "
            ],
            "text/plain": [
              "<IPython.core.display.Javascript object>"
            ]
          },
          "metadata": {}
        },
        {
          "output_type": "display_data",
          "data": {
            "application/javascript": [
              "download(\"download_31f02376-7dd5-40a4-8112-ba56eca5fd79\", \"timeinsert_layer1.csv\", 1313)"
            ],
            "text/plain": [
              "<IPython.core.display.Javascript object>"
            ]
          },
          "metadata": {}
        }
      ]
    },
    {
      "cell_type": "code",
      "source": [
        "# export fpp value\n",
        "fpp_layer1.to_csv('fpp_layer1.csv', index=False)\n",
        "files.download('fpp_layer1.csv')"
      ],
      "metadata": {
        "id": "XjKfjLGBvsl7",
        "colab": {
          "base_uri": "https://localhost:8080/",
          "height": 17
        },
        "outputId": "4f4811c8-4ff6-4664-99da-d74876b2fbf4"
      },
      "execution_count": null,
      "outputs": [
        {
          "output_type": "display_data",
          "data": {
            "application/javascript": [
              "\n",
              "    async function download(id, filename, size) {\n",
              "      if (!google.colab.kernel.accessAllowed) {\n",
              "        return;\n",
              "      }\n",
              "      const div = document.createElement('div');\n",
              "      const label = document.createElement('label');\n",
              "      label.textContent = `Downloading \"${filename}\": `;\n",
              "      div.appendChild(label);\n",
              "      const progress = document.createElement('progress');\n",
              "      progress.max = size;\n",
              "      div.appendChild(progress);\n",
              "      document.body.appendChild(div);\n",
              "\n",
              "      const buffers = [];\n",
              "      let downloaded = 0;\n",
              "\n",
              "      const channel = await google.colab.kernel.comms.open(id);\n",
              "      // Send a message to notify the kernel that we're ready.\n",
              "      channel.send({})\n",
              "\n",
              "      for await (const message of channel.messages) {\n",
              "        // Send a message to notify the kernel that we're ready.\n",
              "        channel.send({})\n",
              "        if (message.buffers) {\n",
              "          for (const buffer of message.buffers) {\n",
              "            buffers.push(buffer);\n",
              "            downloaded += buffer.byteLength;\n",
              "            progress.value = downloaded;\n",
              "          }\n",
              "        }\n",
              "      }\n",
              "      const blob = new Blob(buffers, {type: 'application/binary'});\n",
              "      const a = document.createElement('a');\n",
              "      a.href = window.URL.createObjectURL(blob);\n",
              "      a.download = filename;\n",
              "      div.appendChild(a);\n",
              "      a.click();\n",
              "      div.remove();\n",
              "    }\n",
              "  "
            ],
            "text/plain": [
              "<IPython.core.display.Javascript object>"
            ]
          },
          "metadata": {}
        },
        {
          "output_type": "display_data",
          "data": {
            "application/javascript": [
              "download(\"download_e7edfa2f-c69e-4a39-b225-5bba930b48df\", \"fpp_layer1.csv\", 1827)"
            ],
            "text/plain": [
              "<IPython.core.display.Javascript object>"
            ]
          },
          "metadata": {}
        }
      ]
    },
    {
      "cell_type": "code",
      "source": [
        "# export query time\n",
        "timequery_layer1.to_csv('timequery_layer1.csv', index=False)\n",
        "files.download('timequery_layer1.csv')"
      ],
      "metadata": {
        "id": "p1dgAa4JBcr_",
        "colab": {
          "base_uri": "https://localhost:8080/",
          "height": 17
        },
        "outputId": "a764b1f0-fd7b-4968-c5d0-d5b219270b8a"
      },
      "execution_count": null,
      "outputs": [
        {
          "output_type": "display_data",
          "data": {
            "application/javascript": [
              "\n",
              "    async function download(id, filename, size) {\n",
              "      if (!google.colab.kernel.accessAllowed) {\n",
              "        return;\n",
              "      }\n",
              "      const div = document.createElement('div');\n",
              "      const label = document.createElement('label');\n",
              "      label.textContent = `Downloading \"${filename}\": `;\n",
              "      div.appendChild(label);\n",
              "      const progress = document.createElement('progress');\n",
              "      progress.max = size;\n",
              "      div.appendChild(progress);\n",
              "      document.body.appendChild(div);\n",
              "\n",
              "      const buffers = [];\n",
              "      let downloaded = 0;\n",
              "\n",
              "      const channel = await google.colab.kernel.comms.open(id);\n",
              "      // Send a message to notify the kernel that we're ready.\n",
              "      channel.send({})\n",
              "\n",
              "      for await (const message of channel.messages) {\n",
              "        // Send a message to notify the kernel that we're ready.\n",
              "        channel.send({})\n",
              "        if (message.buffers) {\n",
              "          for (const buffer of message.buffers) {\n",
              "            buffers.push(buffer);\n",
              "            downloaded += buffer.byteLength;\n",
              "            progress.value = downloaded;\n",
              "          }\n",
              "        }\n",
              "      }\n",
              "      const blob = new Blob(buffers, {type: 'application/binary'});\n",
              "      const a = document.createElement('a');\n",
              "      a.href = window.URL.createObjectURL(blob);\n",
              "      a.download = filename;\n",
              "      div.appendChild(a);\n",
              "      a.click();\n",
              "      div.remove();\n",
              "    }\n",
              "  "
            ],
            "text/plain": [
              "<IPython.core.display.Javascript object>"
            ]
          },
          "metadata": {}
        },
        {
          "output_type": "display_data",
          "data": {
            "application/javascript": [
              "download(\"download_7619325d-85c0-430a-9a8f-97bf7462608f\", \"timequery_layer1.csv\", 260460)"
            ],
            "text/plain": [
              "<IPython.core.display.Javascript object>"
            ]
          },
          "metadata": {}
        }
      ]
    },
    {
      "cell_type": "markdown",
      "source": [
        "## Dynamic"
      ],
      "metadata": {
        "id": "7DIhuGK82IpS"
      }
    },
    {
      "cell_type": "code",
      "source": [
        "def create_layer_1_dynamic(fp_prob):\n",
        "  new_layer_1_dynamic_list = []\n",
        "\n",
        "  for block_id in block_df.block_id:\n",
        "    n = len(index_df.loc[index_df['block_id'] == block_id])\n",
        "    new_layer_1_dynamic_list.append(BloomFilter(n, fp_prob))\n",
        "\n",
        "  return new_layer_1_dynamic_list"
      ],
      "metadata": {
        "id": "03KwN1sYzODZ"
      },
      "execution_count": null,
      "outputs": []
    },
    {
      "cell_type": "code",
      "source": [
        "def add_layer_1_dynamic(layer_1_dynamic_list, block_id, block_indexes_df):\n",
        "    for index in block_indexes_df['index']:\n",
        "      layer_1_dynamic_list[block_id].add(index)"
      ],
      "metadata": {
        "id": "SNNge5vFzVnX"
      },
      "execution_count": null,
      "outputs": []
    },
    {
      "cell_type": "code",
      "metadata": {
        "id": "xtESiNQnYxHY",
        "colab": {
          "base_uri": "https://localhost:8080/"
        },
        "outputId": "8bceeb97-57d9-4dfe-e99d-53bf4e70a58b"
      },
      "source": [
        "## Dynamic Bloom Filter, with n = count index for each block\n",
        "layer_1_dynamic_list = create_layer_1_dynamic(0.0001)\n",
        "size = 0\n",
        "\n",
        "for block_id in block_df['block_id']:\n",
        "  current_block_df = index_df.loc[index_df['block_id'] == block_id]\n",
        "  add_layer_1_dynamic(layer_1_dynamic_list, block_id, current_block_df)\n",
        "\n",
        "\n",
        "for bf in layer_1_dynamic_list:\n",
        "  size += bf.size\n",
        "\n",
        "print(layer_1_dynamic_list)\n",
        "print(layer_1_dynamic_list[0].bit_array)\n",
        "print(layer_1_dynamic_list[0].size)\n",
        "\n",
        "print(layer_1_dynamic_list[2].bit_array)\n",
        "print(layer_1_dynamic_list[2].size)\n",
        "\n",
        "# size dynamic bloom filter dalam bit\n",
        "print(size)\n",
        "\n",
        "# fp is fixed at 0.0001"
      ],
      "execution_count": null,
      "outputs": [
        {
          "output_type": "stream",
          "name": "stdout",
          "text": [
            "[<__main__.BloomFilter object at 0x7f5966669810>, <__main__.BloomFilter object at 0x7f5966669790>, <__main__.BloomFilter object at 0x7f595f8659d0>, <__main__.BloomFilter object at 0x7f595f865d50>, <__main__.BloomFilter object at 0x7f595f8657d0>, <__main__.BloomFilter object at 0x7f5985931510>, <__main__.BloomFilter object at 0x7f5985931dd0>, <__main__.BloomFilter object at 0x7f5985931490>, <__main__.BloomFilter object at 0x7f595f865e50>, <__main__.BloomFilter object at 0x7f595f865dd0>, <__main__.BloomFilter object at 0x7f595ed50810>, <__main__.BloomFilter object at 0x7f595ed503d0>, <__main__.BloomFilter object at 0x7f595ed502d0>, <__main__.BloomFilter object at 0x7f595ed50350>, <__main__.BloomFilter object at 0x7f595ed50850>, <__main__.BloomFilter object at 0x7f595ed508d0>, <__main__.BloomFilter object at 0x7f595ed509d0>, <__main__.BloomFilter object at 0x7f595ed50890>, <__main__.BloomFilter object at 0x7f595ed50950>, <__main__.BloomFilter object at 0x7f595ed50990>, <__main__.BloomFilter object at 0x7f595ed50910>, <__main__.BloomFilter object at 0x7f595ed50710>, <__main__.BloomFilter object at 0x7f595ed50790>, <__main__.BloomFilter object at 0x7f595ed507d0>, <__main__.BloomFilter object at 0x7f595ed50490>, <__main__.BloomFilter object at 0x7f595ed50750>, <__main__.BloomFilter object at 0x7f595ed506d0>, <__main__.BloomFilter object at 0x7f595ed50390>, <__main__.BloomFilter object at 0x7f595ed50590>, <__main__.BloomFilter object at 0x7f595ed50550>, <__main__.BloomFilter object at 0x7f595ed50510>, <__main__.BloomFilter object at 0x7f595ed50a50>, <__main__.BloomFilter object at 0x7f595ed50a10>, <__main__.BloomFilter object at 0x7f595ed50a90>, <__main__.BloomFilter object at 0x7f595ed50ad0>, <__main__.BloomFilter object at 0x7f595ed50b10>, <__main__.BloomFilter object at 0x7f595ed50b50>, <__main__.BloomFilter object at 0x7f595ed50b90>, <__main__.BloomFilter object at 0x7f595ed50bd0>, <__main__.BloomFilter object at 0x7f595ed50c10>, <__main__.BloomFilter object at 0x7f595ed50c50>, <__main__.BloomFilter object at 0x7f595ed50c90>, <__main__.BloomFilter object at 0x7f595ed50cd0>, <__main__.BloomFilter object at 0x7f595ed50d10>, <__main__.BloomFilter object at 0x7f595ed50d50>, <__main__.BloomFilter object at 0x7f595ed50d90>, <__main__.BloomFilter object at 0x7f595ed50dd0>, <__main__.BloomFilter object at 0x7f595ed50e10>, <__main__.BloomFilter object at 0x7f595ed50e50>, <__main__.BloomFilter object at 0x7f595ed50e90>, <__main__.BloomFilter object at 0x7f595ed50ed0>, <__main__.BloomFilter object at 0x7f595ed50f10>]\n",
            "bitarray('0000001010000000000000000000000000000000000000000000000000001000000100100000001000000000000000000000000000000000000')\n",
            "115\n",
            "bitarray('00000000000000000000000000010000000000000010000000000000000000010100000000000000000000000000000010000000000000000000000000000000000010000000000000010000000000000000001000101000000000100000000000000000000000000000000001000000000000')\n",
            "230\n",
            "11500\n"
          ]
        }
      ]
    },
    {
      "cell_type": "code",
      "metadata": {
        "id": "Q0JV3Uaf_n4F",
        "colab": {
          "base_uri": "https://localhost:8080/"
        },
        "outputId": "d51d404d-0154-447d-c2f1-39295a835b14"
      },
      "source": [
        "# export layer 1 dynamic\n",
        "layer_1_dynamic_df = pd.DataFrame(data = {\n",
        "    'block_id': [],\n",
        "    'bit_array': [],\n",
        "})\n",
        "\n",
        "\n",
        "for i in range(len(layer_1_dynamic_list)):\n",
        "  bit_array = ''.join(str(x) for x in layer_1_dynamic_list[i].bit_array)\n",
        "  layer_1_dynamic_df = layer_1_dynamic_df.append({\n",
        "      'block_id': i,\n",
        "      'bit_array': bit_array\n",
        "  }, ignore_index=True)\n",
        "\n",
        "print(layer_1_dynamic_df)"
      ],
      "execution_count": null,
      "outputs": [
        {
          "output_type": "stream",
          "name": "stdout",
          "text": [
            "    block_id                                          bit_array\n",
            "0        0.0  0000001010000000000000000000000000000000000000...\n",
            "1        1.0  0000100100001000000000000000000000000000100000...\n",
            "2        2.0  0000000000000000000000000001000000000000001000...\n",
            "3        3.0  0000000000000000000000000000000000000000000000...\n",
            "4        4.0  0000010000000010000000000000101000000000000000...\n",
            "5        5.0  0000001000000000000000000000000000000000000001...\n",
            "6        6.0  0000000000000001000000000000000010000001000000...\n",
            "7        7.0  0000000000000000000000000000000000010000001000...\n",
            "8        8.0  0000010001000000011000000000000000000000000000...\n",
            "9        9.0  0000000000000100000000000000000001000000000000...\n",
            "10      10.0  0000000000001000101000000000000000000000000000...\n",
            "11      11.0  0000000000000000000000000000000000000000000000...\n",
            "12      12.0  0001000000000000000001000000000010000000000000...\n",
            "13      13.0  0000000000000000000000000000000000000100000100...\n",
            "14      14.0  0001001000000000000000000000000000010000000000...\n",
            "15      15.0  0000000000010000000000000010010000000000000000...\n",
            "16      16.0  0000001000100000001000000000000000000000000000...\n",
            "17      17.0  0000100000000000000000000000000000000000000000...\n",
            "18      18.0  0000000000000000000000000000000000000000000000...\n",
            "19      19.0  0101000000000000000000000000000000000000000010...\n",
            "20      20.0  0000000000000000000000000000000000000010000000...\n",
            "21      21.0  0001000100000100000000000000000000000000000000...\n",
            "22      22.0  0000000000000000000000000000000000000000000100...\n",
            "23      23.0  0000000000000000000000000000000000000000000000...\n",
            "24      24.0  0000000000000000000000000000000000000000000000...\n",
            "25      25.0  0000000100000000000000000000000100000000000000...\n",
            "26      26.0  0000000000000000000010000000010000000000000010...\n",
            "27      27.0  0000000100010000000000000000000000000000000000...\n",
            "28      28.0  1010000010000000000000000010000000010010000000...\n",
            "29      29.0  0000000000000000000000000000001000000000100000...\n",
            "30      30.0  0000100000000000000000000000001011000000000000...\n",
            "31      31.0  0000000000000000000000000000000000000000000000...\n",
            "32      32.0  0000000000000000000000000000000000001000000000...\n",
            "33      33.0  0000100000000000000000000000000000000000000000...\n",
            "34      34.0  0000000000000010000000100100000000000000000000...\n",
            "35      35.0  0000000000001000000000000000000000000100000000...\n",
            "36      36.0  0000000000000000000010000000000100000000000000...\n",
            "37      37.0  0000000000000000001000000000000000000000000000...\n",
            "38      38.0  0000000000100000000001000000000000000000000000...\n",
            "39      39.0  0000000000000000000000000000000000000000000000...\n",
            "40      40.0  0000010000000000100000000000000000001000000000...\n",
            "41      41.0  0000100100000000000000000010000000000000000000...\n",
            "42      42.0  0000000100000001000000000000000000000000000000...\n",
            "43      43.0  0000000000000000000000010000000000000000000000...\n",
            "44      44.0  0001000000000000000000000000000000000000000010...\n",
            "45      45.0  0000000000000000000010000000000000000000000000...\n",
            "46      46.0  0000000000010000000100000000000000000000000000...\n",
            "47      47.0  0000000000000000000000010000000001000000000000...\n",
            "48      48.0  0000001100000000000000000000001000000000000000...\n",
            "49      49.0  0000000001000000010000000000000000000000000000...\n",
            "50      50.0  0000000000000010000000001000000000000000001000...\n",
            "51      51.0  0000000000000000000000000000000000000000000000...\n"
          ]
        }
      ]
    },
    {
      "cell_type": "code",
      "source": [
        "## layer 1 dynamic\n",
        "layer_1_dynamic_df.to_csv('layer_1_dynamic.csv', index=False)\n",
        "files.download('layer_1_dynamic.csv')"
      ],
      "metadata": {
        "id": "CEE5tVGa1HsL",
        "colab": {
          "base_uri": "https://localhost:8080/",
          "height": 17
        },
        "outputId": "448de054-1e50-403d-80c5-1cf2609e23ac"
      },
      "execution_count": null,
      "outputs": [
        {
          "output_type": "display_data",
          "data": {
            "application/javascript": [
              "\n",
              "    async function download(id, filename, size) {\n",
              "      if (!google.colab.kernel.accessAllowed) {\n",
              "        return;\n",
              "      }\n",
              "      const div = document.createElement('div');\n",
              "      const label = document.createElement('label');\n",
              "      label.textContent = `Downloading \"${filename}\": `;\n",
              "      div.appendChild(label);\n",
              "      const progress = document.createElement('progress');\n",
              "      progress.max = size;\n",
              "      div.appendChild(progress);\n",
              "      document.body.appendChild(div);\n",
              "\n",
              "      const buffers = [];\n",
              "      let downloaded = 0;\n",
              "\n",
              "      const channel = await google.colab.kernel.comms.open(id);\n",
              "      // Send a message to notify the kernel that we're ready.\n",
              "      channel.send({})\n",
              "\n",
              "      for await (const message of channel.messages) {\n",
              "        // Send a message to notify the kernel that we're ready.\n",
              "        channel.send({})\n",
              "        if (message.buffers) {\n",
              "          for (const buffer of message.buffers) {\n",
              "            buffers.push(buffer);\n",
              "            downloaded += buffer.byteLength;\n",
              "            progress.value = downloaded;\n",
              "          }\n",
              "        }\n",
              "      }\n",
              "      const blob = new Blob(buffers, {type: 'application/binary'});\n",
              "      const a = document.createElement('a');\n",
              "      a.href = window.URL.createObjectURL(blob);\n",
              "      a.download = filename;\n",
              "      div.appendChild(a);\n",
              "      a.click();\n",
              "      div.remove();\n",
              "    }\n",
              "  "
            ],
            "text/plain": [
              "<IPython.core.display.Javascript object>"
            ]
          },
          "metadata": {}
        },
        {
          "output_type": "display_data",
          "data": {
            "application/javascript": [
              "download(\"download_b046c4f7-fcc5-4e86-8f33-53c6af1a1f7d\", \"layer_1_static.csv\", 20133)"
            ],
            "text/plain": [
              "<IPython.core.display.Javascript object>"
            ]
          },
          "metadata": {}
        },
        {
          "output_type": "display_data",
          "data": {
            "application/javascript": [
              "\n",
              "    async function download(id, filename, size) {\n",
              "      if (!google.colab.kernel.accessAllowed) {\n",
              "        return;\n",
              "      }\n",
              "      const div = document.createElement('div');\n",
              "      const label = document.createElement('label');\n",
              "      label.textContent = `Downloading \"${filename}\": `;\n",
              "      div.appendChild(label);\n",
              "      const progress = document.createElement('progress');\n",
              "      progress.max = size;\n",
              "      div.appendChild(progress);\n",
              "      document.body.appendChild(div);\n",
              "\n",
              "      const buffers = [];\n",
              "      let downloaded = 0;\n",
              "\n",
              "      const channel = await google.colab.kernel.comms.open(id);\n",
              "      // Send a message to notify the kernel that we're ready.\n",
              "      channel.send({})\n",
              "\n",
              "      for await (const message of channel.messages) {\n",
              "        // Send a message to notify the kernel that we're ready.\n",
              "        channel.send({})\n",
              "        if (message.buffers) {\n",
              "          for (const buffer of message.buffers) {\n",
              "            buffers.push(buffer);\n",
              "            downloaded += buffer.byteLength;\n",
              "            progress.value = downloaded;\n",
              "          }\n",
              "        }\n",
              "      }\n",
              "      const blob = new Blob(buffers, {type: 'application/binary'});\n",
              "      const a = document.createElement('a');\n",
              "      a.href = window.URL.createObjectURL(blob);\n",
              "      a.download = filename;\n",
              "      div.appendChild(a);\n",
              "      a.click();\n",
              "      div.remove();\n",
              "    }\n",
              "  "
            ],
            "text/plain": [
              "<IPython.core.display.Javascript object>"
            ]
          },
          "metadata": {}
        },
        {
          "output_type": "display_data",
          "data": {
            "application/javascript": [
              "download(\"download_dc94aa33-2c68-4610-a245-da012ced9590\", \"layer_1_dynamic.csv\", 11821)"
            ],
            "text/plain": [
              "<IPython.core.display.Javascript object>"
            ]
          },
          "metadata": {}
        }
      ]
    },
    {
      "cell_type": "markdown",
      "metadata": {
        "id": "YCAGczhkcwhJ"
      },
      "source": [
        "# Layer 2"
      ]
    },
    {
      "cell_type": "code",
      "metadata": {
        "id": "gQjtR-M-EwfK"
      },
      "source": [
        "def get_pk_from_index(index):\n",
        "  # index consist of\n",
        "  # stream head hash (40)+ cipher hash (40) + pk\n",
        "  return index[80:]"
      ],
      "execution_count": null,
      "outputs": []
    },
    {
      "cell_type": "code",
      "metadata": {
        "id": "ERzMjAZBb4Ue"
      },
      "source": [
        "def get_longest_pk(block_id):\n",
        "  block_index_df = index_df.loc[index_df['block_id'] == block_id]\n",
        "\n",
        "  longest_pk = ''\n",
        "\n",
        "  for index in block_index_df['index']:\n",
        "    current_index_pk = get_pk_from_index(index)\n",
        "\n",
        "    if len(current_index_pk) > len(longest_pk):\n",
        "      longest_pk = current_index_pk\n",
        "\n",
        "  return longest_pk"
      ],
      "execution_count": null,
      "outputs": []
    },
    {
      "cell_type": "code",
      "metadata": {
        "id": "mM8KY-8ajint"
      },
      "source": [
        "def pk_to_pk_code(pk):\n",
        "  return ''.join(format(x, 'b') for x in bytearray(pk, 'UTF-8'))"
      ],
      "execution_count": null,
      "outputs": []
    },
    {
      "cell_type": "markdown",
      "metadata": {
        "id": "T1HfMSp7YfB1"
      },
      "source": [
        "## 2.1. UBF1"
      ]
    },
    {
      "cell_type": "code",
      "metadata": {
        "id": "QDll6rtMH4r5"
      },
      "source": [
        "# membuat ubf1 untuk 1 block\n",
        "def create_ubf1(pk_code, a, n, p):\n",
        "  f = len(pk_code)\n",
        " \n",
        "  union_bits_count = f - a + 1\n",
        "\n",
        "  ubf1 = create_list(union_bits_count, n, p)\n",
        "\n",
        "  return ubf1"
      ],
      "execution_count": null,
      "outputs": []
    },
    {
      "cell_type": "code",
      "metadata": {
        "id": "vGqsvHhlhbi1"
      },
      "source": [
        "# menambahkan data ke ubf sesuai metode pemotongan pada paper\n",
        "def add_ubf1(ubf, longest_pk_code, block_id, a):\n",
        "  block_index_df = index_df.loc[index_df['block_id'] == block_id]\n",
        "\n",
        "  for index in block_index_df:\n",
        "    pk = get_pk_from_index(index)\n",
        "    pk_code = pk_to_pk_code(pk)\n",
        "\n",
        "    # padd 0 (ljust) of each index pk until len(pk_code) == len(longest_pk_code)\n",
        "    pk_code = pk_code.ljust(len(longest_pk_code), '0')\n",
        "\n",
        "    for u in range (len(ubf)):\n",
        "      ubf[u].add(pk_code[:a])\n",
        "\n",
        "      pk_code = pk_code[1:]\n",
        "\n",
        "  return(ubf)"
      ],
      "execution_count": null,
      "outputs": []
    },
    {
      "cell_type": "code",
      "metadata": {
        "id": "sDOYQPvil8xZ",
        "colab": {
          "base_uri": "https://localhost:8080/"
        },
        "outputId": "8c6b5532-0938-404f-8ce0-5ee3ae0802af"
      },
      "source": [
        "# ubf1_list[block][ubf_id]\n",
        "# ubf_id : union bits count\n",
        "ubf1_list = []\n",
        "a = 1000\n",
        "n = 20\n",
        "p = 0.0001\n",
        "\n",
        "# iterasi untuk semua blok\n",
        "for block_id in block_df['block_id']:\n",
        "\n",
        "  # cari pk terpanjang untuk setiap blok dari index\n",
        "  longest_pk = get_longest_pk(int(block_id))\n",
        "\n",
        "  # konversi pk terpanjang menjadi biner (pk_code)\n",
        "  longest_pk_code = pk_to_pk_code(longest_pk)\n",
        "\n",
        "  # create & add ubf1\n",
        "  ubf1 = create_ubf1(longest_pk_code, a, n, p)\n",
        "  ubf1 = add_ubf1(ubf1, longest_pk_code, block_id, a)\n",
        "\n",
        "  ubf1_list.append(ubf1)\n",
        "\n",
        "print(len(ubf1_list[0][0].bit_array))"
      ],
      "execution_count": null,
      "outputs": [
        {
          "output_type": "stream",
          "name": "stdout",
          "text": [
            "383\n"
          ]
        }
      ]
    },
    {
      "cell_type": "code",
      "metadata": {
        "id": "os_hEwDODSk7",
        "colab": {
          "base_uri": "https://localhost:8080/"
        },
        "outputId": "6f71f147-a78b-4f0e-b24a-26b4a32c4227"
      },
      "source": [
        "# export ubf1\n",
        "# export layer 1\n",
        "ubf1_df = pd.DataFrame(data = {\n",
        "    'block_id': [],\n",
        "    'ubf_id': [],\n",
        "    'bit_array': [],\n",
        "})\n",
        "\n",
        "\n",
        "for i in range(len(ubf1_list)):\n",
        "  for j in range(len(ubf1_list[i])):\n",
        "    bit_array = ''.join(str(x) for x in ubf1_list[i][j].bit_array)\n",
        "\n",
        "    ubf1_df = ubf1_df.append({\n",
        "        'block_id': i,\n",
        "        'ubf_id': j,\n",
        "        'bit_array': bit_array\n",
        "    }, ignore_index=True)\n",
        "  \n",
        "print(ubf1_df)"
      ],
      "execution_count": null,
      "outputs": [
        {
          "output_type": "stream",
          "name": "stdout",
          "text": [
            "       block_id  ubf_id                                          bit_array\n",
            "0           0.0     0.0  0000000000000000000000000000010000000000000000...\n",
            "1           0.0     1.0  0000000000000000000000000000010000000000000000...\n",
            "2           0.0     2.0  0000000000000000000000000000010000000000000000...\n",
            "3           0.0     3.0  0000000000000000000000000000010000000000000000...\n",
            "4           0.0     4.0  0000000000000000000000000000010000000000000000...\n",
            "...         ...     ...                                                ...\n",
            "54345      51.0  1045.0  0000000000000000000000000000010000000000000000...\n",
            "54346      51.0  1046.0  0000000000000000000000000000010000000000000000...\n",
            "54347      51.0  1047.0  0000000000000000000000000000010000000000000000...\n",
            "54348      51.0  1048.0  0000000000000000000000000000010000000000000000...\n",
            "54349      51.0  1049.0  0000000000000000000000000000010000000000000000...\n",
            "\n",
            "[54350 rows x 3 columns]\n"
          ]
        }
      ]
    },
    {
      "cell_type": "markdown",
      "metadata": {
        "id": "LRaRt87dYhWB"
      },
      "source": [
        "## 2.1. UBF2"
      ]
    },
    {
      "cell_type": "code",
      "metadata": {
        "id": "K1CUnMblGTxo"
      },
      "source": [
        "# membuat ubf1 untuk 1 block\n",
        "def create_ubf2(pk_code, a, n, p):\n",
        "  f = len(pk_code)\n",
        " \n",
        "  union_bits_count = -(f // -a) # equal to ceil(f / a)\n",
        "\n",
        "  ubf2 = create_list(union_bits_count, n, p)\n",
        "\n",
        "  return ubf2"
      ],
      "execution_count": null,
      "outputs": []
    },
    {
      "cell_type": "code",
      "metadata": {
        "id": "IAOTftFuHDSN"
      },
      "source": [
        "# menambahkan data ke ubf sesuai proposed method\n",
        "def add_ubf2(ubf, longest_pk_code, block_id, a):\n",
        "  block_index_df = index_df.loc[index_df['block_id'] == block_id]\n",
        "\n",
        "  for index in block_index_df:\n",
        "    pk = get_pk_from_index(index)\n",
        "    pk_code = pk_to_pk_code(pk)\n",
        "\n",
        "    # padd 0 (ljust) of each index pk until len(pk_code) == len(longest_pk_code)\n",
        "    pk_code = pk_code.ljust(len(longest_pk_code), '0')\n",
        "\n",
        "    for u in range (len(ubf)):\n",
        "      ubf[u].add(pk_code[:a])\n",
        "\n",
        "      pk_code = pk_code[a:]\n",
        "\n",
        "  return(ubf)"
      ],
      "execution_count": null,
      "outputs": []
    },
    {
      "cell_type": "code",
      "metadata": {
        "id": "M8JCdSFmIK0B"
      },
      "source": [
        "ubf2_list = []\n",
        "\n",
        "# iterasi untuk semua blok\n",
        "for block_id in block_df['block_id']:\n",
        "  # cari pk terpanjang untuk setiap blok dari index\n",
        "  longest_pk = get_longest_pk(int(block_id))\n",
        "\n",
        "  # konversi pk terpanjang menjadi biner (pk_code)\n",
        "  longest_pk_code = pk_to_pk_code(longest_pk)\n",
        "\n",
        "  # buat UBF2 sesuai pk_code\n",
        "  ubf2 = create_ubf2(longest_pk_code, 1000, 20, 0.0001)\n",
        "  ubf2 = add_ubf2(ubf2, longest_pk_code, block_id, 1000)\n",
        "\n",
        "  ubf2_list.append(ubf2)"
      ],
      "execution_count": null,
      "outputs": []
    },
    {
      "cell_type": "code",
      "metadata": {
        "id": "Zf6oKu3UD7iK",
        "colab": {
          "base_uri": "https://localhost:8080/"
        },
        "outputId": "4859746b-ecfe-4830-88fa-45b16e78f19e"
      },
      "source": [
        "# export ubf2\n",
        "# export layer 2\n",
        "ubf2_df = pd.DataFrame(data = {\n",
        "    'block_id': [],\n",
        "    'ubf_id': [],\n",
        "    'bit_array': [],\n",
        "})\n",
        "\n",
        "\n",
        "for i in range(len(ubf2_list)):\n",
        "  for j in range(len(ubf2_list[i])):\n",
        "    bit_array = ''.join(str(x) for x in ubf2_list[i][j].bit_array)\n",
        "\n",
        "    ubf2_df = ubf2_df.append({\n",
        "        'block_id': i,\n",
        "        'ubf_id': j,\n",
        "        'bit_array': bit_array\n",
        "    }, ignore_index=True)\n",
        "  \n",
        "print(ubf2_df)"
      ],
      "execution_count": null,
      "outputs": [
        {
          "output_type": "stream",
          "name": "stdout",
          "text": [
            "     block_id  ubf_id                                          bit_array\n",
            "0         0.0     0.0  0000000000000000000000000000010000000000000000...\n",
            "1         0.0     1.0  0000000000000000000000000000010000000000000000...\n",
            "2         0.0     2.0  0000000000000000000000000000000000000000000000...\n",
            "3         1.0     0.0  0000000000000000000000000000010000000000000000...\n",
            "4         1.0     1.0  0000000000000000000000000000010000000000000000...\n",
            "..        ...     ...                                                ...\n",
            "151      50.0     1.0  0000000000000000000000000000010000000000000000...\n",
            "152      50.0     2.0  0000000000000000000000000000000000000000000000...\n",
            "153      51.0     0.0  0000000000000000000000000000010000000000000000...\n",
            "154      51.0     1.0  0000000000000000000000000000010000000000000000...\n",
            "155      51.0     2.0  0000000000000000000000000000000000000000000000...\n",
            "\n",
            "[156 rows x 3 columns]\n"
          ]
        }
      ]
    },
    {
      "cell_type": "markdown",
      "metadata": {
        "id": "dkTBl8oAmWt2"
      },
      "source": [
        "## 2.2 DBF"
      ]
    },
    {
      "cell_type": "code",
      "metadata": {
        "id": "S0cpEJVOtHuf"
      },
      "source": [
        "def create_dbf(pk_code):\n",
        "  return create_list(len(pk_code), 20, 0.001 )"
      ],
      "execution_count": null,
      "outputs": []
    },
    {
      "cell_type": "code",
      "metadata": {
        "id": "Twc6cMUQtnUv"
      },
      "source": [
        "def add_dbf(dbf, pk_code, block_id):\n",
        "  for i in range(len(pk_code)):\n",
        "    if int(pk_code[i]) == 0: continue\n",
        "\n",
        "    block_index_df = index_df.loc[index_df['block_id'] == block_id]\n",
        "\n",
        "    for index in block_index_df:\n",
        "      dbf[i].add(index)\n",
        "\n",
        "  return dbf"
      ],
      "execution_count": null,
      "outputs": []
    },
    {
      "cell_type": "code",
      "metadata": {
        "id": "KRuOHm-eqgIa"
      },
      "source": [
        "# dfb_list[block_id][pk_code_pos]\n",
        "dbf_list = []\n",
        "\n",
        "for block_id in block_df['block_id']:\n",
        "  # cari pk terpanjang untuk setiap blok dari index\n",
        "  longest_pk = get_longest_pk(int(block_id))\n",
        "\n",
        "  # konversi pk terpanjang menjadi biner (pk_code)\n",
        "  pk_code = pk_to_pk_code(longest_pk)\n",
        "\n",
        "  # buat DBF sesuai pk_code\n",
        "  dbf = create_dbf(pk_code)\n",
        "  dbf = add_dbf(dbf, pk_code, block_id)\n",
        "\n",
        "  dbf_list.append(dbf)"
      ],
      "execution_count": null,
      "outputs": []
    },
    {
      "cell_type": "code",
      "metadata": {
        "id": "JcuZa15RDYZ_",
        "colab": {
          "base_uri": "https://localhost:8080/"
        },
        "outputId": "9fa8c4c7-4f28-434b-9bca-e4deab0460a2"
      },
      "source": [
        "print(dbf_list[0])\n",
        "print(dbf_list[0][0].bit_array)"
      ],
      "execution_count": null,
      "outputs": [
        {
          "output_type": "stream",
          "name": "stdout",
          "text": [
            "[<__main__.BloomFilter object at 0x7f595c2cf650>, <__main__.BloomFilter object at 0x7f595c2cf610>, <__main__.BloomFilter object at 0x7f595c2cf750>, <__main__.BloomFilter object at 0x7f595c2cf690>, <__main__.BloomFilter object at 0x7f595c2cf6d0>, <__main__.BloomFilter object at 0x7f595c2cf7d0>, <__main__.BloomFilter object at 0x7f595c2cf850>, <__main__.BloomFilter object at 0x7f595c2cf890>, <__main__.BloomFilter object at 0x7f595c2cf810>, <__main__.BloomFilter object at 0x7f595c2cf790>, <__main__.BloomFilter object at 0x7f595c2cf8d0>, <__main__.BloomFilter object at 0x7f595c2cf910>, <__main__.BloomFilter object at 0x7f595c2cf950>, <__main__.BloomFilter object at 0x7f595c2cf990>, <__main__.BloomFilter object at 0x7f595c2cf9d0>, <__main__.BloomFilter object at 0x7f595c2cfa10>, <__main__.BloomFilter object at 0x7f595c2cfa50>, <__main__.BloomFilter object at 0x7f595c2cfa90>, <__main__.BloomFilter object at 0x7f595c2cfad0>, <__main__.BloomFilter object at 0x7f595c2cfb10>, <__main__.BloomFilter object at 0x7f595c2cfb50>, <__main__.BloomFilter object at 0x7f595c2cfb90>, <__main__.BloomFilter object at 0x7f595c2cfbd0>, <__main__.BloomFilter object at 0x7f595c2cfc10>, <__main__.BloomFilter object at 0x7f595c2cfc50>, <__main__.BloomFilter object at 0x7f595c2cfc90>, <__main__.BloomFilter object at 0x7f595c2cfcd0>, <__main__.BloomFilter object at 0x7f595c2cfd10>, <__main__.BloomFilter object at 0x7f595c2cfd50>, <__main__.BloomFilter object at 0x7f595c2cfd90>, <__main__.BloomFilter object at 0x7f595c2cfdd0>, <__main__.BloomFilter object at 0x7f595c2cfe10>, <__main__.BloomFilter object at 0x7f595c2cfe50>, <__main__.BloomFilter object at 0x7f595c2cfe90>, <__main__.BloomFilter object at 0x7f595c2cfed0>, <__main__.BloomFilter object at 0x7f595c2cff10>, <__main__.BloomFilter object at 0x7f595c2cff50>, <__main__.BloomFilter object at 0x7f595c2cff90>, <__main__.BloomFilter object at 0x7f595c2cffd0>, <__main__.BloomFilter object at 0x7f595c2cf590>, <__main__.BloomFilter object at 0x7f595c2cf710>, <__main__.BloomFilter object at 0x7f595c2cd050>, <__main__.BloomFilter object at 0x7f595c2cd090>, <__main__.BloomFilter object at 0x7f595c2cd0d0>, <__main__.BloomFilter object at 0x7f595c2cd110>, <__main__.BloomFilter object at 0x7f595c2cd150>, <__main__.BloomFilter object at 0x7f595c2cd190>, <__main__.BloomFilter object at 0x7f595c2cd1d0>, <__main__.BloomFilter object at 0x7f595c2cd210>, <__main__.BloomFilter object at 0x7f595c2cd250>, <__main__.BloomFilter object at 0x7f595c2cd290>, <__main__.BloomFilter object at 0x7f595c2cd2d0>, <__main__.BloomFilter object at 0x7f595c2cd310>, <__main__.BloomFilter object at 0x7f595c2cd350>, <__main__.BloomFilter object at 0x7f595c2cd390>, <__main__.BloomFilter object at 0x7f595c2cd3d0>, <__main__.BloomFilter object at 0x7f595c2cd410>, <__main__.BloomFilter object at 0x7f595c2cd450>, <__main__.BloomFilter object at 0x7f595c2cd490>, <__main__.BloomFilter object at 0x7f595c2cd4d0>, <__main__.BloomFilter object at 0x7f595c2cd510>, <__main__.BloomFilter object at 0x7f595c2cd550>, <__main__.BloomFilter object at 0x7f595c2cd590>, <__main__.BloomFilter object at 0x7f595c2cd5d0>, <__main__.BloomFilter object at 0x7f595c2cd610>, <__main__.BloomFilter object at 0x7f595c2cd650>, <__main__.BloomFilter object at 0x7f595c2cd690>, <__main__.BloomFilter object at 0x7f595c2cd6d0>, <__main__.BloomFilter object at 0x7f595c2cd710>, <__main__.BloomFilter object at 0x7f595c2cd750>, <__main__.BloomFilter object at 0x7f595c2cd790>, <__main__.BloomFilter object at 0x7f595c2cd7d0>, <__main__.BloomFilter object at 0x7f595c2cd810>, <__main__.BloomFilter object at 0x7f595c2cd850>, <__main__.BloomFilter object at 0x7f595c2cd890>, <__main__.BloomFilter object at 0x7f595c2cd8d0>, <__main__.BloomFilter object at 0x7f595c2cd910>, <__main__.BloomFilter object at 0x7f595c2cd950>, <__main__.BloomFilter object at 0x7f595c2cd990>, <__main__.BloomFilter object at 0x7f595c2cd9d0>, <__main__.BloomFilter object at 0x7f595c2cda10>, <__main__.BloomFilter object at 0x7f595c2cda50>, <__main__.BloomFilter object at 0x7f595c2cda90>, <__main__.BloomFilter object at 0x7f595c2cdad0>, <__main__.BloomFilter object at 0x7f595c2cdb10>, <__main__.BloomFilter object at 0x7f595c2cdb50>, <__main__.BloomFilter object at 0x7f595c2cdb90>, <__main__.BloomFilter object at 0x7f595c2cdbd0>, <__main__.BloomFilter object at 0x7f595c2cdc10>, <__main__.BloomFilter object at 0x7f595c2cdc50>, <__main__.BloomFilter object at 0x7f595c2cdc90>, <__main__.BloomFilter object at 0x7f595c2cdcd0>, <__main__.BloomFilter object at 0x7f595c2cdd10>, <__main__.BloomFilter object at 0x7f595c2cdd50>, <__main__.BloomFilter object at 0x7f595c2cdd90>, <__main__.BloomFilter object at 0x7f595c2cddd0>, <__main__.BloomFilter object at 0x7f595c2cde10>, <__main__.BloomFilter object at 0x7f595c2cde50>, <__main__.BloomFilter object at 0x7f595c2cde90>, <__main__.BloomFilter object at 0x7f595c2cded0>, <__main__.BloomFilter object at 0x7f595c2cdf10>, <__main__.BloomFilter object at 0x7f595c2cdf50>, <__main__.BloomFilter object at 0x7f595c2cdf90>, <__main__.BloomFilter object at 0x7f595c2cdfd0>, <__main__.BloomFilter object at 0x7f595c2e5050>, <__main__.BloomFilter object at 0x7f595c2e5090>, <__main__.BloomFilter object at 0x7f595c2e50d0>, <__main__.BloomFilter object at 0x7f595c2e5110>, <__main__.BloomFilter object at 0x7f595c2e5150>, <__main__.BloomFilter object at 0x7f595c2e5190>, <__main__.BloomFilter object at 0x7f595c2e51d0>, <__main__.BloomFilter object at 0x7f595c2e5210>, <__main__.BloomFilter object at 0x7f595c2e5250>, <__main__.BloomFilter object at 0x7f595c2e5290>, <__main__.BloomFilter object at 0x7f595c2e52d0>, <__main__.BloomFilter object at 0x7f595c2e5310>, <__main__.BloomFilter object at 0x7f595c2e5350>, <__main__.BloomFilter object at 0x7f595c2e5390>, <__main__.BloomFilter object at 0x7f595c2e53d0>, <__main__.BloomFilter object at 0x7f595c2e5410>, <__main__.BloomFilter object at 0x7f595c2e5450>, <__main__.BloomFilter object at 0x7f595c2e5490>, <__main__.BloomFilter object at 0x7f595c2e54d0>, <__main__.BloomFilter object at 0x7f595c2e5510>, <__main__.BloomFilter object at 0x7f595c2e5550>, <__main__.BloomFilter object at 0x7f595c2e5590>, <__main__.BloomFilter object at 0x7f595c2e55d0>, <__main__.BloomFilter object at 0x7f595c2e5610>, <__main__.BloomFilter object at 0x7f595c2e5650>, <__main__.BloomFilter object at 0x7f595c2e5690>, <__main__.BloomFilter object at 0x7f595c2e56d0>, <__main__.BloomFilter object at 0x7f595c2e5710>, <__main__.BloomFilter object at 0x7f595c2e5750>, <__main__.BloomFilter object at 0x7f595c2e5790>, <__main__.BloomFilter object at 0x7f595c2e57d0>, <__main__.BloomFilter object at 0x7f595c2e5810>, <__main__.BloomFilter object at 0x7f595c2e5850>, <__main__.BloomFilter object at 0x7f595c2e5890>, <__main__.BloomFilter object at 0x7f595c2e58d0>, <__main__.BloomFilter object at 0x7f595c2e5910>, <__main__.BloomFilter object at 0x7f595c2e5950>, <__main__.BloomFilter object at 0x7f595c2e5990>, <__main__.BloomFilter object at 0x7f595c2e59d0>, <__main__.BloomFilter object at 0x7f595c2e5a10>, <__main__.BloomFilter object at 0x7f595c2e5a50>, <__main__.BloomFilter object at 0x7f595c2e5a90>, <__main__.BloomFilter object at 0x7f595c2e5ad0>, <__main__.BloomFilter object at 0x7f595c2e5b10>, <__main__.BloomFilter object at 0x7f595c2e5b50>, <__main__.BloomFilter object at 0x7f595c2e5b90>, <__main__.BloomFilter object at 0x7f595c2e5bd0>, <__main__.BloomFilter object at 0x7f595c2e5c10>, <__main__.BloomFilter object at 0x7f595c2e5c50>, <__main__.BloomFilter object at 0x7f595c2e5c90>, <__main__.BloomFilter object at 0x7f595c2e5cd0>, <__main__.BloomFilter object at 0x7f595c2e5d10>, <__main__.BloomFilter object at 0x7f595c2e5d50>, <__main__.BloomFilter object at 0x7f595c2e5d90>, <__main__.BloomFilter object at 0x7f595c2e5dd0>, <__main__.BloomFilter object at 0x7f595c2e5e10>, <__main__.BloomFilter object at 0x7f595c2e5e50>, <__main__.BloomFilter object at 0x7f595c2e5e90>, <__main__.BloomFilter object at 0x7f595c2e5ed0>, <__main__.BloomFilter object at 0x7f595c2e5f10>, <__main__.BloomFilter object at 0x7f595c2e5f50>, <__main__.BloomFilter object at 0x7f595c2e5f90>, <__main__.BloomFilter object at 0x7f595c2e5fd0>, <__main__.BloomFilter object at 0x7f595c2eb050>, <__main__.BloomFilter object at 0x7f595c2eb090>, <__main__.BloomFilter object at 0x7f595c2eb0d0>, <__main__.BloomFilter object at 0x7f595c2eb110>, <__main__.BloomFilter object at 0x7f595c2eb150>, <__main__.BloomFilter object at 0x7f595c2eb190>, <__main__.BloomFilter object at 0x7f595c2eb1d0>, <__main__.BloomFilter object at 0x7f595c2eb210>, <__main__.BloomFilter object at 0x7f595c2eb250>, <__main__.BloomFilter object at 0x7f595c2eb290>, <__main__.BloomFilter object at 0x7f595c2eb2d0>, <__main__.BloomFilter object at 0x7f595c2eb310>, <__main__.BloomFilter object at 0x7f595c2eb350>, <__main__.BloomFilter object at 0x7f595c2eb390>, <__main__.BloomFilter object at 0x7f595c2eb3d0>, <__main__.BloomFilter object at 0x7f595c2eb410>, <__main__.BloomFilter object at 0x7f595c2eb450>, <__main__.BloomFilter object at 0x7f595c2eb490>, <__main__.BloomFilter object at 0x7f595c2eb4d0>, <__main__.BloomFilter object at 0x7f595c2eb510>, <__main__.BloomFilter object at 0x7f595c2eb550>, <__main__.BloomFilter object at 0x7f595c2eb590>, <__main__.BloomFilter object at 0x7f595c2eb5d0>, <__main__.BloomFilter object at 0x7f595c2eb610>, <__main__.BloomFilter object at 0x7f595c2eb650>, <__main__.BloomFilter object at 0x7f595c2eb690>, <__main__.BloomFilter object at 0x7f595c2eb6d0>, <__main__.BloomFilter object at 0x7f595c2eb710>, <__main__.BloomFilter object at 0x7f595c2eb750>, <__main__.BloomFilter object at 0x7f595c2eb790>, <__main__.BloomFilter object at 0x7f595c2eb7d0>, <__main__.BloomFilter object at 0x7f595c2eb810>, <__main__.BloomFilter object at 0x7f595c2eb850>, <__main__.BloomFilter object at 0x7f595c2eb890>, <__main__.BloomFilter object at 0x7f595c2eb8d0>, <__main__.BloomFilter object at 0x7f595c2eb910>, <__main__.BloomFilter object at 0x7f595c2eb950>, <__main__.BloomFilter object at 0x7f595c2eb990>, <__main__.BloomFilter object at 0x7f595c2eb9d0>, <__main__.BloomFilter object at 0x7f595c2eba10>, <__main__.BloomFilter object at 0x7f595c2eba50>, <__main__.BloomFilter object at 0x7f595c2eba90>, <__main__.BloomFilter object at 0x7f595c2ebad0>, <__main__.BloomFilter object at 0x7f595c2ebb10>, <__main__.BloomFilter object at 0x7f595c2ebb50>, <__main__.BloomFilter object at 0x7f595c2ebb90>, <__main__.BloomFilter object at 0x7f595c2ebbd0>, <__main__.BloomFilter object at 0x7f595c2ebc10>, <__main__.BloomFilter object at 0x7f595c2ebc50>, <__main__.BloomFilter object at 0x7f595c2ebc90>, <__main__.BloomFilter object at 0x7f595c2ebcd0>, <__main__.BloomFilter object at 0x7f595c2ebd10>, <__main__.BloomFilter object at 0x7f595c2ebd50>, <__main__.BloomFilter object at 0x7f595c2ebd90>, <__main__.BloomFilter object at 0x7f595c2ebdd0>, <__main__.BloomFilter object at 0x7f595c2ebe10>, <__main__.BloomFilter object at 0x7f595c2ebe50>, <__main__.BloomFilter object at 0x7f595c2ebe90>, <__main__.BloomFilter object at 0x7f595c2ebed0>, <__main__.BloomFilter object at 0x7f595c2ebf10>, <__main__.BloomFilter object at 0x7f595c2ebf50>, <__main__.BloomFilter object at 0x7f595c2ebf90>, <__main__.BloomFilter object at 0x7f595f87ed90>, <__main__.BloomFilter object at 0x7f595ff807d0>, <__main__.BloomFilter object at 0x7f595ed81710>, <__main__.BloomFilter object at 0x7f595ed81050>, <__main__.BloomFilter object at 0x7f595ed813d0>, <__main__.BloomFilter object at 0x7f595ed817d0>, <__main__.BloomFilter object at 0x7f595ed81350>, <__main__.BloomFilter object at 0x7f595ed81950>, <__main__.BloomFilter object at 0x7f595ed810d0>, <__main__.BloomFilter object at 0x7f595ed81790>, <__main__.BloomFilter object at 0x7f595c33fad0>, <__main__.BloomFilter object at 0x7f595c33fb10>, <__main__.BloomFilter object at 0x7f595c33fc50>, <__main__.BloomFilter object at 0x7f595c33fc10>, <__main__.BloomFilter object at 0x7f595c33f750>, <__main__.BloomFilter object at 0x7f595c33f290>, <__main__.BloomFilter object at 0x7f595c33ffd0>, <__main__.BloomFilter object at 0x7f595c33f110>, <__main__.BloomFilter object at 0x7f595c33f9d0>, <__main__.BloomFilter object at 0x7f5966669550>, <__main__.BloomFilter object at 0x7f595daef050>, <__main__.BloomFilter object at 0x7f595daefd10>, <__main__.BloomFilter object at 0x7f595daef650>, <__main__.BloomFilter object at 0x7f595daefdd0>, <__main__.BloomFilter object at 0x7f595daef350>, <__main__.BloomFilter object at 0x7f595daef990>, <__main__.BloomFilter object at 0x7f595daef9d0>, <__main__.BloomFilter object at 0x7f595daefd50>, <__main__.BloomFilter object at 0x7f595daef290>, <__main__.BloomFilter object at 0x7f595daef090>, <__main__.BloomFilter object at 0x7f595daef0d0>, <__main__.BloomFilter object at 0x7f595daef210>, <__main__.BloomFilter object at 0x7f595daef3d0>, <__main__.BloomFilter object at 0x7f595daef4d0>, <__main__.BloomFilter object at 0x7f595daef8d0>, <__main__.BloomFilter object at 0x7f595daef810>, <__main__.BloomFilter object at 0x7f595daef190>, <__main__.BloomFilter object at 0x7f595daefad0>, <__main__.BloomFilter object at 0x7f595daef490>, <__main__.BloomFilter object at 0x7f595daeff90>, <__main__.BloomFilter object at 0x7f595daef7d0>, <__main__.BloomFilter object at 0x7f595daefed0>, <__main__.BloomFilter object at 0x7f595daefb90>, <__main__.BloomFilter object at 0x7f595daef890>, <__main__.BloomFilter object at 0x7f595daefb10>, <__main__.BloomFilter object at 0x7f595daefe50>, <__main__.BloomFilter object at 0x7f595daefc50>, <__main__.BloomFilter object at 0x7f595daef410>, <__main__.BloomFilter object at 0x7f595daef850>, <__main__.BloomFilter object at 0x7f595f602290>, <__main__.BloomFilter object at 0x7f595f602250>, <__main__.BloomFilter object at 0x7f595f602a10>, <__main__.BloomFilter object at 0x7f595f602550>, <__main__.BloomFilter object at 0x7f595f602c90>, <__main__.BloomFilter object at 0x7f595f6024d0>, <__main__.BloomFilter object at 0x7f595f602990>, <__main__.BloomFilter object at 0x7f595f602f50>, <__main__.BloomFilter object at 0x7f595f602ad0>, <__main__.BloomFilter object at 0x7f595f602a90>, <__main__.BloomFilter object at 0x7f595edb3350>, <__main__.BloomFilter object at 0x7f595edb34d0>, <__main__.BloomFilter object at 0x7f595dae9210>, <__main__.BloomFilter object at 0x7f595dae97d0>, <__main__.BloomFilter object at 0x7f595dae9450>, <__main__.BloomFilter object at 0x7f595dae9290>, <__main__.BloomFilter object at 0x7f595dae9390>, <__main__.BloomFilter object at 0x7f595dae95d0>, <__main__.BloomFilter object at 0x7f595dae9b50>, <__main__.BloomFilter object at 0x7f595dae9c90>, <__main__.BloomFilter object at 0x7f595dae9490>, <__main__.BloomFilter object at 0x7f595dae90d0>, <__main__.BloomFilter object at 0x7f595dae9b90>, <__main__.BloomFilter object at 0x7f595dae9190>, <__main__.BloomFilter object at 0x7f595dae92d0>, <__main__.BloomFilter object at 0x7f595dae9550>, <__main__.BloomFilter object at 0x7f595dae94d0>, <__main__.BloomFilter object at 0x7f595dae9f10>, <__main__.BloomFilter object at 0x7f595dae98d0>, <__main__.BloomFilter object at 0x7f595dae9e10>, <__main__.BloomFilter object at 0x7f595dae9d10>, <__main__.BloomFilter object at 0x7f595dae9590>, <__main__.BloomFilter object at 0x7f595dae9690>, <__main__.BloomFilter object at 0x7f595dae9710>, <__main__.BloomFilter object at 0x7f595ed7f150>, <__main__.BloomFilter object at 0x7f595ed7f490>, <__main__.BloomFilter object at 0x7f595ed7f1d0>, <__main__.BloomFilter object at 0x7f595ed7f390>, <__main__.BloomFilter object at 0x7f595c2ebfd0>, <__main__.BloomFilter object at 0x7f595c2f2050>, <__main__.BloomFilter object at 0x7f595c2f2090>, <__main__.BloomFilter object at 0x7f595c2f20d0>, <__main__.BloomFilter object at 0x7f595c2f2110>, <__main__.BloomFilter object at 0x7f595c2f2150>, <__main__.BloomFilter object at 0x7f595c2f2190>, <__main__.BloomFilter object at 0x7f595c2f21d0>, <__main__.BloomFilter object at 0x7f595c2f2210>, <__main__.BloomFilter object at 0x7f595c2f2250>, <__main__.BloomFilter object at 0x7f595c2f2290>, <__main__.BloomFilter object at 0x7f595c2f22d0>, <__main__.BloomFilter object at 0x7f595c2f2310>, <__main__.BloomFilter object at 0x7f595c2f2350>, <__main__.BloomFilter object at 0x7f595c2f2390>, <__main__.BloomFilter object at 0x7f595c2f23d0>, <__main__.BloomFilter object at 0x7f595c2f2410>, <__main__.BloomFilter object at 0x7f595c2f2450>, <__main__.BloomFilter object at 0x7f595c2f2490>, <__main__.BloomFilter object at 0x7f595c2f24d0>, <__main__.BloomFilter object at 0x7f595c2f2510>, <__main__.BloomFilter object at 0x7f595c2f2550>, <__main__.BloomFilter object at 0x7f595c2f2590>, <__main__.BloomFilter object at 0x7f595c2f25d0>, <__main__.BloomFilter object at 0x7f595c2f2610>, <__main__.BloomFilter object at 0x7f595c2f2650>, <__main__.BloomFilter object at 0x7f595c2f2690>, <__main__.BloomFilter object at 0x7f595c2f26d0>, <__main__.BloomFilter object at 0x7f595c2f2710>, <__main__.BloomFilter object at 0x7f595c2f2750>, <__main__.BloomFilter object at 0x7f595c2f2790>, <__main__.BloomFilter object at 0x7f595c2f27d0>, <__main__.BloomFilter object at 0x7f595c2f2810>, <__main__.BloomFilter object at 0x7f595c2f2850>, <__main__.BloomFilter object at 0x7f595c2f2890>, <__main__.BloomFilter object at 0x7f595c2f28d0>, <__main__.BloomFilter object at 0x7f595c2f2910>, <__main__.BloomFilter object at 0x7f595c2f2950>, <__main__.BloomFilter object at 0x7f595c2f2990>, <__main__.BloomFilter object at 0x7f595c2f29d0>, <__main__.BloomFilter object at 0x7f595c2f2a10>, <__main__.BloomFilter object at 0x7f595c2f2a50>, <__main__.BloomFilter object at 0x7f595c2f2a90>, <__main__.BloomFilter object at 0x7f595c2f2ad0>, <__main__.BloomFilter object at 0x7f595c2f2b10>, <__main__.BloomFilter object at 0x7f595c2f2b50>, <__main__.BloomFilter object at 0x7f595c2f2b90>, <__main__.BloomFilter object at 0x7f595c2f2bd0>, <__main__.BloomFilter object at 0x7f595c2f2c10>, <__main__.BloomFilter object at 0x7f595c2f2c50>, <__main__.BloomFilter object at 0x7f595c2f2c90>, <__main__.BloomFilter object at 0x7f595c2f2cd0>, <__main__.BloomFilter object at 0x7f595c2f2d10>, <__main__.BloomFilter object at 0x7f595c2f2d50>, <__main__.BloomFilter object at 0x7f595c2f2d90>, <__main__.BloomFilter object at 0x7f595c2f2dd0>, <__main__.BloomFilter object at 0x7f595c2f2e10>, <__main__.BloomFilter object at 0x7f595c2f2e50>, <__main__.BloomFilter object at 0x7f595c2f2e90>, <__main__.BloomFilter object at 0x7f595c2f2ed0>, <__main__.BloomFilter object at 0x7f595c2f2f10>, <__main__.BloomFilter object at 0x7f595c2f2f50>, <__main__.BloomFilter object at 0x7f595c2f2f90>, <__main__.BloomFilter object at 0x7f595c2f2fd0>, <__main__.BloomFilter object at 0x7f595c2f8050>, <__main__.BloomFilter object at 0x7f595c2f8090>, <__main__.BloomFilter object at 0x7f595c2f80d0>, <__main__.BloomFilter object at 0x7f595c2f8110>, <__main__.BloomFilter object at 0x7f595c2f8150>, <__main__.BloomFilter object at 0x7f595c2f8190>, <__main__.BloomFilter object at 0x7f595c2f81d0>, <__main__.BloomFilter object at 0x7f595c2f8210>, <__main__.BloomFilter object at 0x7f595c2f8250>, <__main__.BloomFilter object at 0x7f595c2f8290>, <__main__.BloomFilter object at 0x7f595c2f82d0>, <__main__.BloomFilter object at 0x7f595c2f8310>, <__main__.BloomFilter object at 0x7f595c2f8350>, <__main__.BloomFilter object at 0x7f595c2f8390>, <__main__.BloomFilter object at 0x7f595c2f83d0>, <__main__.BloomFilter object at 0x7f595c2f8410>, <__main__.BloomFilter object at 0x7f595c2f8450>, <__main__.BloomFilter object at 0x7f595c2f8490>, <__main__.BloomFilter object at 0x7f595c2f84d0>, <__main__.BloomFilter object at 0x7f595c2f8510>, <__main__.BloomFilter object at 0x7f595c2f8550>, <__main__.BloomFilter object at 0x7f595c2f8590>, <__main__.BloomFilter object at 0x7f595c2f85d0>, <__main__.BloomFilter object at 0x7f595c2f8610>, <__main__.BloomFilter object at 0x7f595c2f8650>, <__main__.BloomFilter object at 0x7f595c2f8690>, <__main__.BloomFilter object at 0x7f595c2f86d0>, <__main__.BloomFilter object at 0x7f595c2f8710>, <__main__.BloomFilter object at 0x7f595c2f8750>, <__main__.BloomFilter object at 0x7f595c2f8790>, <__main__.BloomFilter object at 0x7f595c2f87d0>, <__main__.BloomFilter object at 0x7f595c2f8810>, <__main__.BloomFilter object at 0x7f595c2f8850>, <__main__.BloomFilter object at 0x7f595c2f8890>, <__main__.BloomFilter object at 0x7f595c2f88d0>, <__main__.BloomFilter object at 0x7f595c2f8910>, <__main__.BloomFilter object at 0x7f595c2f8950>, <__main__.BloomFilter object at 0x7f595c2f8990>, <__main__.BloomFilter object at 0x7f595c2f89d0>, <__main__.BloomFilter object at 0x7f595c2f8a10>, <__main__.BloomFilter object at 0x7f595c2f8a50>, <__main__.BloomFilter object at 0x7f595c2f8a90>, <__main__.BloomFilter object at 0x7f595c2f8ad0>, <__main__.BloomFilter object at 0x7f595c2f8b10>, <__main__.BloomFilter object at 0x7f595c2f8b50>, <__main__.BloomFilter object at 0x7f595c2f8b90>, <__main__.BloomFilter object at 0x7f595c2f8bd0>, <__main__.BloomFilter object at 0x7f595c2f8c10>, <__main__.BloomFilter object at 0x7f595c2f8c50>, <__main__.BloomFilter object at 0x7f595c2f8c90>, <__main__.BloomFilter object at 0x7f595c2f8cd0>, <__main__.BloomFilter object at 0x7f595c2f8d10>, <__main__.BloomFilter object at 0x7f595c2f8d50>, <__main__.BloomFilter object at 0x7f595c2f8d90>, <__main__.BloomFilter object at 0x7f595c2f8dd0>, <__main__.BloomFilter object at 0x7f595c2f8e10>, <__main__.BloomFilter object at 0x7f595c2f8e50>, <__main__.BloomFilter object at 0x7f595c2f8e90>, <__main__.BloomFilter object at 0x7f595c2f8ed0>, <__main__.BloomFilter object at 0x7f595c2f8f10>, <__main__.BloomFilter object at 0x7f595c2f8f50>, <__main__.BloomFilter object at 0x7f595c2f8f90>, <__main__.BloomFilter object at 0x7f595c2f8fd0>, <__main__.BloomFilter object at 0x7f595c2fd050>, <__main__.BloomFilter object at 0x7f595c2fd090>, <__main__.BloomFilter object at 0x7f595c2fd0d0>, <__main__.BloomFilter object at 0x7f595c2fd110>, <__main__.BloomFilter object at 0x7f595c2fd150>, <__main__.BloomFilter object at 0x7f595c2fd190>, <__main__.BloomFilter object at 0x7f595c2fd1d0>, <__main__.BloomFilter object at 0x7f595c2fd210>, <__main__.BloomFilter object at 0x7f595c2fd250>, <__main__.BloomFilter object at 0x7f595c2fd290>, <__main__.BloomFilter object at 0x7f595c2fd2d0>, <__main__.BloomFilter object at 0x7f595c2fd310>, <__main__.BloomFilter object at 0x7f595c2fd350>, <__main__.BloomFilter object at 0x7f595c2fd390>, <__main__.BloomFilter object at 0x7f595c2fd3d0>, <__main__.BloomFilter object at 0x7f595c2fd410>, <__main__.BloomFilter object at 0x7f595c2fd450>, <__main__.BloomFilter object at 0x7f595c2fd490>, <__main__.BloomFilter object at 0x7f595c2fd4d0>, <__main__.BloomFilter object at 0x7f595c2fd510>, <__main__.BloomFilter object at 0x7f595c2fd550>, <__main__.BloomFilter object at 0x7f595c2fd590>, <__main__.BloomFilter object at 0x7f595c2fd5d0>, <__main__.BloomFilter object at 0x7f595c2fd610>, <__main__.BloomFilter object at 0x7f595c2fd650>, <__main__.BloomFilter object at 0x7f595c2fd690>, <__main__.BloomFilter object at 0x7f595c2fd6d0>, <__main__.BloomFilter object at 0x7f595c2fd710>, <__main__.BloomFilter object at 0x7f595c2fd750>, <__main__.BloomFilter object at 0x7f595c2fd790>, <__main__.BloomFilter object at 0x7f595c2fd7d0>, <__main__.BloomFilter object at 0x7f595c2fd810>, <__main__.BloomFilter object at 0x7f595c2fd850>, <__main__.BloomFilter object at 0x7f595c2fd890>, <__main__.BloomFilter object at 0x7f595c2fd8d0>, <__main__.BloomFilter object at 0x7f595c2fd910>, <__main__.BloomFilter object at 0x7f595c2fd950>, <__main__.BloomFilter object at 0x7f595c2fd990>, <__main__.BloomFilter object at 0x7f595c2fd9d0>, <__main__.BloomFilter object at 0x7f595c2fda10>, <__main__.BloomFilter object at 0x7f595c2fda50>, <__main__.BloomFilter object at 0x7f595c2fda90>, <__main__.BloomFilter object at 0x7f595c2fdad0>, <__main__.BloomFilter object at 0x7f595c2fdb10>, <__main__.BloomFilter object at 0x7f595c2fdb50>, <__main__.BloomFilter object at 0x7f595c2fdb90>, <__main__.BloomFilter object at 0x7f595c2fdbd0>, <__main__.BloomFilter object at 0x7f595c2fdc10>, <__main__.BloomFilter object at 0x7f595c2fdc50>, <__main__.BloomFilter object at 0x7f595c2fdc90>, <__main__.BloomFilter object at 0x7f595c2fdcd0>, <__main__.BloomFilter object at 0x7f595c2fdd10>, <__main__.BloomFilter object at 0x7f595c2fdd50>, <__main__.BloomFilter object at 0x7f595c2fdd90>, <__main__.BloomFilter object at 0x7f595c2fddd0>, <__main__.BloomFilter object at 0x7f595c2fde10>, <__main__.BloomFilter object at 0x7f595c2fde50>, <__main__.BloomFilter object at 0x7f595c2fde90>, <__main__.BloomFilter object at 0x7f595c2fded0>, <__main__.BloomFilter object at 0x7f595c2fdf10>, <__main__.BloomFilter object at 0x7f595c2fdf50>, <__main__.BloomFilter object at 0x7f595c2fdf90>, <__main__.BloomFilter object at 0x7f595c2fdfd0>, <__main__.BloomFilter object at 0x7f595c303050>, <__main__.BloomFilter object at 0x7f595c303090>, <__main__.BloomFilter object at 0x7f595c3030d0>, <__main__.BloomFilter object at 0x7f595c303110>, <__main__.BloomFilter object at 0x7f595c303150>, <__main__.BloomFilter object at 0x7f595c303190>, <__main__.BloomFilter object at 0x7f595c3031d0>, <__main__.BloomFilter object at 0x7f595c303210>, <__main__.BloomFilter object at 0x7f595c303250>, <__main__.BloomFilter object at 0x7f595c303290>, <__main__.BloomFilter object at 0x7f595c3032d0>, <__main__.BloomFilter object at 0x7f595c303310>, <__main__.BloomFilter object at 0x7f595c303350>, <__main__.BloomFilter object at 0x7f595c303390>, <__main__.BloomFilter object at 0x7f595c3033d0>, <__main__.BloomFilter object at 0x7f595c303410>, <__main__.BloomFilter object at 0x7f595c303450>, <__main__.BloomFilter object at 0x7f595c303490>, <__main__.BloomFilter object at 0x7f595c3034d0>, <__main__.BloomFilter object at 0x7f595c303510>, <__main__.BloomFilter object at 0x7f595c303550>, <__main__.BloomFilter object at 0x7f595c303590>, <__main__.BloomFilter object at 0x7f595c3035d0>, <__main__.BloomFilter object at 0x7f595c303610>, <__main__.BloomFilter object at 0x7f595c303650>, <__main__.BloomFilter object at 0x7f595c303690>, <__main__.BloomFilter object at 0x7f595c3036d0>, <__main__.BloomFilter object at 0x7f595c303710>, <__main__.BloomFilter object at 0x7f595c303750>, <__main__.BloomFilter object at 0x7f595c303790>, <__main__.BloomFilter object at 0x7f595c3037d0>, <__main__.BloomFilter object at 0x7f595c303810>, <__main__.BloomFilter object at 0x7f595c303850>, <__main__.BloomFilter object at 0x7f595c303890>, <__main__.BloomFilter object at 0x7f595c3038d0>, <__main__.BloomFilter object at 0x7f595c303910>, <__main__.BloomFilter object at 0x7f595c303950>, <__main__.BloomFilter object at 0x7f595c303990>, <__main__.BloomFilter object at 0x7f595c3039d0>, <__main__.BloomFilter object at 0x7f595c303a10>, <__main__.BloomFilter object at 0x7f595c303a50>, <__main__.BloomFilter object at 0x7f595c303a90>, <__main__.BloomFilter object at 0x7f595c303ad0>, <__main__.BloomFilter object at 0x7f595c303b10>, <__main__.BloomFilter object at 0x7f595c303b50>, <__main__.BloomFilter object at 0x7f595c303b90>, <__main__.BloomFilter object at 0x7f595c303bd0>, <__main__.BloomFilter object at 0x7f595c303c10>, <__main__.BloomFilter object at 0x7f595c303c50>, <__main__.BloomFilter object at 0x7f595c303c90>, <__main__.BloomFilter object at 0x7f595c303cd0>, <__main__.BloomFilter object at 0x7f595c303d10>, <__main__.BloomFilter object at 0x7f595c303d50>, <__main__.BloomFilter object at 0x7f595c303d90>, <__main__.BloomFilter object at 0x7f595c303dd0>, <__main__.BloomFilter object at 0x7f595c303e10>, <__main__.BloomFilter object at 0x7f595c303e50>, <__main__.BloomFilter object at 0x7f595c303e90>, <__main__.BloomFilter object at 0x7f595c303ed0>, <__main__.BloomFilter object at 0x7f595c303f10>, <__main__.BloomFilter object at 0x7f595c303f50>, <__main__.BloomFilter object at 0x7f595c303f90>, <__main__.BloomFilter object at 0x7f595c303fd0>, <__main__.BloomFilter object at 0x7f595c308050>, <__main__.BloomFilter object at 0x7f595c308090>, <__main__.BloomFilter object at 0x7f595c3080d0>, <__main__.BloomFilter object at 0x7f595c308110>, <__main__.BloomFilter object at 0x7f595c308150>, <__main__.BloomFilter object at 0x7f595c308190>, <__main__.BloomFilter object at 0x7f595c3081d0>, <__main__.BloomFilter object at 0x7f595c308210>, <__main__.BloomFilter object at 0x7f595c308250>, <__main__.BloomFilter object at 0x7f595c308290>, <__main__.BloomFilter object at 0x7f595c3082d0>, <__main__.BloomFilter object at 0x7f595c308310>, <__main__.BloomFilter object at 0x7f595c308350>, <__main__.BloomFilter object at 0x7f595c308390>, <__main__.BloomFilter object at 0x7f595c3083d0>, <__main__.BloomFilter object at 0x7f595c308410>, <__main__.BloomFilter object at 0x7f595c308450>, <__main__.BloomFilter object at 0x7f595c308490>, <__main__.BloomFilter object at 0x7f595c3084d0>, <__main__.BloomFilter object at 0x7f595c308510>, <__main__.BloomFilter object at 0x7f595c308550>, <__main__.BloomFilter object at 0x7f595c308590>, <__main__.BloomFilter object at 0x7f595c3085d0>, <__main__.BloomFilter object at 0x7f595c308610>, <__main__.BloomFilter object at 0x7f595c308650>, <__main__.BloomFilter object at 0x7f595c308690>, <__main__.BloomFilter object at 0x7f595c3086d0>, <__main__.BloomFilter object at 0x7f595c308710>, <__main__.BloomFilter object at 0x7f595c308750>, <__main__.BloomFilter object at 0x7f595c308790>, <__main__.BloomFilter object at 0x7f595c3087d0>, <__main__.BloomFilter object at 0x7f595c308810>, <__main__.BloomFilter object at 0x7f595c308850>, <__main__.BloomFilter object at 0x7f595c308890>, <__main__.BloomFilter object at 0x7f595c3088d0>, <__main__.BloomFilter object at 0x7f595c308910>, <__main__.BloomFilter object at 0x7f595c308950>, <__main__.BloomFilter object at 0x7f595c308990>, <__main__.BloomFilter object at 0x7f595c3089d0>, <__main__.BloomFilter object at 0x7f595c308a10>, <__main__.BloomFilter object at 0x7f595c308a50>, <__main__.BloomFilter object at 0x7f595c308a90>, <__main__.BloomFilter object at 0x7f595c308ad0>, <__main__.BloomFilter object at 0x7f595c308b10>, <__main__.BloomFilter object at 0x7f595c308b50>, <__main__.BloomFilter object at 0x7f595c308b90>, <__main__.BloomFilter object at 0x7f595c308bd0>, <__main__.BloomFilter object at 0x7f595c308c10>, <__main__.BloomFilter object at 0x7f595c308c50>, <__main__.BloomFilter object at 0x7f595c308c90>, <__main__.BloomFilter object at 0x7f595c308cd0>, <__main__.BloomFilter object at 0x7f595c308d10>, <__main__.BloomFilter object at 0x7f595c308d50>, <__main__.BloomFilter object at 0x7f595c308d90>, <__main__.BloomFilter object at 0x7f595c308dd0>, <__main__.BloomFilter object at 0x7f595c308e10>, <__main__.BloomFilter object at 0x7f595c308e50>, <__main__.BloomFilter object at 0x7f595c308e90>, <__main__.BloomFilter object at 0x7f595c308ed0>, <__main__.BloomFilter object at 0x7f595c308f10>, <__main__.BloomFilter object at 0x7f595c308f50>, <__main__.BloomFilter object at 0x7f595c308f90>, <__main__.BloomFilter object at 0x7f595c308fd0>, <__main__.BloomFilter object at 0x7f595c28f050>, <__main__.BloomFilter object at 0x7f595c28f090>, <__main__.BloomFilter object at 0x7f595c28f0d0>, <__main__.BloomFilter object at 0x7f595c28f110>, <__main__.BloomFilter object at 0x7f595c28f150>, <__main__.BloomFilter object at 0x7f595c28f190>, <__main__.BloomFilter object at 0x7f595c28f1d0>, <__main__.BloomFilter object at 0x7f595c28f210>, <__main__.BloomFilter object at 0x7f595c28f250>, <__main__.BloomFilter object at 0x7f595c28f290>, <__main__.BloomFilter object at 0x7f595c28f2d0>, <__main__.BloomFilter object at 0x7f595c28f310>, <__main__.BloomFilter object at 0x7f595c28f350>, <__main__.BloomFilter object at 0x7f595c28f390>, <__main__.BloomFilter object at 0x7f595c28f3d0>, <__main__.BloomFilter object at 0x7f595c28f410>, <__main__.BloomFilter object at 0x7f595c28f450>, <__main__.BloomFilter object at 0x7f595c28f490>, <__main__.BloomFilter object at 0x7f595c28f4d0>, <__main__.BloomFilter object at 0x7f595c28f510>, <__main__.BloomFilter object at 0x7f595c28f550>, <__main__.BloomFilter object at 0x7f595c28f590>, <__main__.BloomFilter object at 0x7f595c28f5d0>, <__main__.BloomFilter object at 0x7f595c28f610>, <__main__.BloomFilter object at 0x7f595c28f650>, <__main__.BloomFilter object at 0x7f595c28f690>, <__main__.BloomFilter object at 0x7f595c28f6d0>, <__main__.BloomFilter object at 0x7f595c28f710>, <__main__.BloomFilter object at 0x7f595c28f750>, <__main__.BloomFilter object at 0x7f595c28f790>, <__main__.BloomFilter object at 0x7f595c28f7d0>, <__main__.BloomFilter object at 0x7f595c28f810>, <__main__.BloomFilter object at 0x7f595c28f850>, <__main__.BloomFilter object at 0x7f595c28f890>, <__main__.BloomFilter object at 0x7f595c28f8d0>, <__main__.BloomFilter object at 0x7f595c28f910>, <__main__.BloomFilter object at 0x7f595c28f950>, <__main__.BloomFilter object at 0x7f595c28f990>, <__main__.BloomFilter object at 0x7f595c28f9d0>, <__main__.BloomFilter object at 0x7f595c28fa10>, <__main__.BloomFilter object at 0x7f595c28fa50>, <__main__.BloomFilter object at 0x7f595c28fa90>, <__main__.BloomFilter object at 0x7f595c28fad0>, <__main__.BloomFilter object at 0x7f595c28fb10>, <__main__.BloomFilter object at 0x7f595c28fb50>, <__main__.BloomFilter object at 0x7f595c28fb90>, <__main__.BloomFilter object at 0x7f595c28fbd0>, <__main__.BloomFilter object at 0x7f595c28fc10>, <__main__.BloomFilter object at 0x7f595c28fc50>, <__main__.BloomFilter object at 0x7f595c28fc90>, <__main__.BloomFilter object at 0x7f595c28fcd0>, <__main__.BloomFilter object at 0x7f595c28fd10>, <__main__.BloomFilter object at 0x7f595c28fd50>, <__main__.BloomFilter object at 0x7f595c28fd90>, <__main__.BloomFilter object at 0x7f595c28fdd0>, <__main__.BloomFilter object at 0x7f595c28fe10>, <__main__.BloomFilter object at 0x7f595c28fe50>, <__main__.BloomFilter object at 0x7f595c28fe90>, <__main__.BloomFilter object at 0x7f595c28fed0>, <__main__.BloomFilter object at 0x7f595c28ff10>, <__main__.BloomFilter object at 0x7f595c28ff50>, <__main__.BloomFilter object at 0x7f595c28ff90>, <__main__.BloomFilter object at 0x7f595c28ffd0>, <__main__.BloomFilter object at 0x7f595c293050>, <__main__.BloomFilter object at 0x7f595c293090>, <__main__.BloomFilter object at 0x7f595c2930d0>, <__main__.BloomFilter object at 0x7f595c293110>, <__main__.BloomFilter object at 0x7f595c293150>, <__main__.BloomFilter object at 0x7f595c293190>, <__main__.BloomFilter object at 0x7f595c2931d0>, <__main__.BloomFilter object at 0x7f595c293210>, <__main__.BloomFilter object at 0x7f595c293250>, <__main__.BloomFilter object at 0x7f595c293290>, <__main__.BloomFilter object at 0x7f595c2932d0>, <__main__.BloomFilter object at 0x7f595c293310>, <__main__.BloomFilter object at 0x7f595c293350>, <__main__.BloomFilter object at 0x7f595c293390>, <__main__.BloomFilter object at 0x7f595c2933d0>, <__main__.BloomFilter object at 0x7f595c293410>, <__main__.BloomFilter object at 0x7f595c293450>, <__main__.BloomFilter object at 0x7f595c293490>, <__main__.BloomFilter object at 0x7f595c2934d0>, <__main__.BloomFilter object at 0x7f595c293510>, <__main__.BloomFilter object at 0x7f595c293550>, <__main__.BloomFilter object at 0x7f595c293590>, <__main__.BloomFilter object at 0x7f595c2935d0>, <__main__.BloomFilter object at 0x7f595c293610>, <__main__.BloomFilter object at 0x7f595c293650>, <__main__.BloomFilter object at 0x7f595c293690>, <__main__.BloomFilter object at 0x7f595c2936d0>, <__main__.BloomFilter object at 0x7f595c293710>, <__main__.BloomFilter object at 0x7f595c293750>, <__main__.BloomFilter object at 0x7f595c293790>, <__main__.BloomFilter object at 0x7f595c2937d0>, <__main__.BloomFilter object at 0x7f595c293810>, <__main__.BloomFilter object at 0x7f595c293850>, <__main__.BloomFilter object at 0x7f595c293890>, <__main__.BloomFilter object at 0x7f595c2938d0>, <__main__.BloomFilter object at 0x7f595c293910>, <__main__.BloomFilter object at 0x7f595c293950>, <__main__.BloomFilter object at 0x7f595c293990>, <__main__.BloomFilter object at 0x7f595c2939d0>, <__main__.BloomFilter object at 0x7f595c293a10>, <__main__.BloomFilter object at 0x7f595c293a50>, <__main__.BloomFilter object at 0x7f595c293a90>, <__main__.BloomFilter object at 0x7f595c293ad0>, <__main__.BloomFilter object at 0x7f595c293b10>, <__main__.BloomFilter object at 0x7f595c293b50>, <__main__.BloomFilter object at 0x7f595c293b90>, <__main__.BloomFilter object at 0x7f595c293bd0>, <__main__.BloomFilter object at 0x7f595c293c10>, <__main__.BloomFilter object at 0x7f595c293c50>, <__main__.BloomFilter object at 0x7f595c293c90>, <__main__.BloomFilter object at 0x7f595c293cd0>, <__main__.BloomFilter object at 0x7f595c293d10>, <__main__.BloomFilter object at 0x7f595c293d50>, <__main__.BloomFilter object at 0x7f595c293d90>, <__main__.BloomFilter object at 0x7f595c293dd0>, <__main__.BloomFilter object at 0x7f595c293e10>, <__main__.BloomFilter object at 0x7f595c293e50>, <__main__.BloomFilter object at 0x7f595c293e90>, <__main__.BloomFilter object at 0x7f595c293ed0>, <__main__.BloomFilter object at 0x7f595c293f10>, <__main__.BloomFilter object at 0x7f595c293f50>, <__main__.BloomFilter object at 0x7f595c293f90>, <__main__.BloomFilter object at 0x7f595c293fd0>, <__main__.BloomFilter object at 0x7f595c29a050>, <__main__.BloomFilter object at 0x7f595c29a090>, <__main__.BloomFilter object at 0x7f595c29a0d0>, <__main__.BloomFilter object at 0x7f595c29a110>, <__main__.BloomFilter object at 0x7f595c29a150>, <__main__.BloomFilter object at 0x7f595c29a190>, <__main__.BloomFilter object at 0x7f595c29a1d0>, <__main__.BloomFilter object at 0x7f595c29a210>, <__main__.BloomFilter object at 0x7f595c29a250>, <__main__.BloomFilter object at 0x7f595c29a290>, <__main__.BloomFilter object at 0x7f595c29a2d0>, <__main__.BloomFilter object at 0x7f595c29a310>, <__main__.BloomFilter object at 0x7f595c29a350>, <__main__.BloomFilter object at 0x7f595c29a390>, <__main__.BloomFilter object at 0x7f595c29a3d0>, <__main__.BloomFilter object at 0x7f595c29a410>, <__main__.BloomFilter object at 0x7f595c29a450>, <__main__.BloomFilter object at 0x7f595c29a490>, <__main__.BloomFilter object at 0x7f595c29a4d0>, <__main__.BloomFilter object at 0x7f595c29a510>, <__main__.BloomFilter object at 0x7f595c29a550>, <__main__.BloomFilter object at 0x7f595c29a590>, <__main__.BloomFilter object at 0x7f595c29a5d0>, <__main__.BloomFilter object at 0x7f595c29a610>, <__main__.BloomFilter object at 0x7f595c29a650>, <__main__.BloomFilter object at 0x7f595c29a690>, <__main__.BloomFilter object at 0x7f595c29a6d0>, <__main__.BloomFilter object at 0x7f595c29a710>, <__main__.BloomFilter object at 0x7f595c29a750>, <__main__.BloomFilter object at 0x7f595c29a790>, <__main__.BloomFilter object at 0x7f595c29a7d0>, <__main__.BloomFilter object at 0x7f595c29a810>, <__main__.BloomFilter object at 0x7f595c29a850>, <__main__.BloomFilter object at 0x7f595c29a890>, <__main__.BloomFilter object at 0x7f595c29a8d0>, <__main__.BloomFilter object at 0x7f595c29a910>, <__main__.BloomFilter object at 0x7f595c29a950>, <__main__.BloomFilter object at 0x7f595c29a990>, <__main__.BloomFilter object at 0x7f595c29a9d0>, <__main__.BloomFilter object at 0x7f595c29aa10>, <__main__.BloomFilter object at 0x7f595c29aa50>, <__main__.BloomFilter object at 0x7f595c29aa90>, <__main__.BloomFilter object at 0x7f595c29aad0>, <__main__.BloomFilter object at 0x7f595c29ab10>, <__main__.BloomFilter object at 0x7f595c29ab50>, <__main__.BloomFilter object at 0x7f595c29ab90>, <__main__.BloomFilter object at 0x7f595c29abd0>, <__main__.BloomFilter object at 0x7f595c29ac10>, <__main__.BloomFilter object at 0x7f595c29ac50>, <__main__.BloomFilter object at 0x7f595c29ac90>, <__main__.BloomFilter object at 0x7f595c29acd0>, <__main__.BloomFilter object at 0x7f595c29ad10>, <__main__.BloomFilter object at 0x7f595c29ad50>, <__main__.BloomFilter object at 0x7f595c29ad90>, <__main__.BloomFilter object at 0x7f595c29add0>, <__main__.BloomFilter object at 0x7f595c29ae10>, <__main__.BloomFilter object at 0x7f595c29ae50>, <__main__.BloomFilter object at 0x7f595c29ae90>, <__main__.BloomFilter object at 0x7f595c29aed0>, <__main__.BloomFilter object at 0x7f595c29af10>, <__main__.BloomFilter object at 0x7f595c29af50>, <__main__.BloomFilter object at 0x7f595c29af90>, <__main__.BloomFilter object at 0x7f595c29afd0>, <__main__.BloomFilter object at 0x7f595c29e050>, <__main__.BloomFilter object at 0x7f595c29e090>, <__main__.BloomFilter object at 0x7f595c29e0d0>, <__main__.BloomFilter object at 0x7f595c29e110>, <__main__.BloomFilter object at 0x7f595c29e150>, <__main__.BloomFilter object at 0x7f595c29e190>, <__main__.BloomFilter object at 0x7f595c29e1d0>, <__main__.BloomFilter object at 0x7f595c29e210>, <__main__.BloomFilter object at 0x7f595c29e250>, <__main__.BloomFilter object at 0x7f595c29e290>, <__main__.BloomFilter object at 0x7f595c29e2d0>, <__main__.BloomFilter object at 0x7f595c29e310>, <__main__.BloomFilter object at 0x7f595c29e350>, <__main__.BloomFilter object at 0x7f595c29e390>, <__main__.BloomFilter object at 0x7f595c29e3d0>, <__main__.BloomFilter object at 0x7f595c29e410>, <__main__.BloomFilter object at 0x7f595c29e450>, <__main__.BloomFilter object at 0x7f595c29e490>, <__main__.BloomFilter object at 0x7f595c29e4d0>, <__main__.BloomFilter object at 0x7f595c29e510>, <__main__.BloomFilter object at 0x7f595c29e550>, <__main__.BloomFilter object at 0x7f595c29e590>, <__main__.BloomFilter object at 0x7f595c29e5d0>, <__main__.BloomFilter object at 0x7f595c29e610>, <__main__.BloomFilter object at 0x7f595c29e650>, <__main__.BloomFilter object at 0x7f595c29e690>, <__main__.BloomFilter object at 0x7f595c29e6d0>, <__main__.BloomFilter object at 0x7f595c29e710>, <__main__.BloomFilter object at 0x7f595c29e750>, <__main__.BloomFilter object at 0x7f595c29e790>, <__main__.BloomFilter object at 0x7f595c29e7d0>, <__main__.BloomFilter object at 0x7f595c29e810>, <__main__.BloomFilter object at 0x7f595c29e850>, <__main__.BloomFilter object at 0x7f595c29e890>, <__main__.BloomFilter object at 0x7f595c29e8d0>, <__main__.BloomFilter object at 0x7f595c29e910>, <__main__.BloomFilter object at 0x7f595c29e950>, <__main__.BloomFilter object at 0x7f595c29e990>, <__main__.BloomFilter object at 0x7f595c29e9d0>, <__main__.BloomFilter object at 0x7f595c29ea10>, <__main__.BloomFilter object at 0x7f595c29ea50>, <__main__.BloomFilter object at 0x7f595c29ea90>, <__main__.BloomFilter object at 0x7f595c29ead0>, <__main__.BloomFilter object at 0x7f595c29eb10>, <__main__.BloomFilter object at 0x7f595c29eb50>, <__main__.BloomFilter object at 0x7f595c29eb90>, <__main__.BloomFilter object at 0x7f595c29ebd0>, <__main__.BloomFilter object at 0x7f595c29ec10>, <__main__.BloomFilter object at 0x7f595c29ec50>, <__main__.BloomFilter object at 0x7f595c29ec90>, <__main__.BloomFilter object at 0x7f595c29ecd0>, <__main__.BloomFilter object at 0x7f595c29ed10>, <__main__.BloomFilter object at 0x7f595c29ed50>, <__main__.BloomFilter object at 0x7f595c29ed90>, <__main__.BloomFilter object at 0x7f595c29edd0>, <__main__.BloomFilter object at 0x7f595c29ee10>, <__main__.BloomFilter object at 0x7f595c29ee50>, <__main__.BloomFilter object at 0x7f595c29ee90>, <__main__.BloomFilter object at 0x7f595c29eed0>, <__main__.BloomFilter object at 0x7f595c29ef10>, <__main__.BloomFilter object at 0x7f595c29ef50>, <__main__.BloomFilter object at 0x7f595c29ef90>, <__main__.BloomFilter object at 0x7f595c29efd0>, <__main__.BloomFilter object at 0x7f595c2a5050>, <__main__.BloomFilter object at 0x7f595c2a5090>, <__main__.BloomFilter object at 0x7f595c2a50d0>, <__main__.BloomFilter object at 0x7f595c2a5110>, <__main__.BloomFilter object at 0x7f595c2a5150>, <__main__.BloomFilter object at 0x7f595c2a5190>, <__main__.BloomFilter object at 0x7f595c2a51d0>, <__main__.BloomFilter object at 0x7f595c2a5210>, <__main__.BloomFilter object at 0x7f595c2a5250>, <__main__.BloomFilter object at 0x7f595c2a5290>, <__main__.BloomFilter object at 0x7f595c2a52d0>, <__main__.BloomFilter object at 0x7f595c2a5310>, <__main__.BloomFilter object at 0x7f595c2a5350>, <__main__.BloomFilter object at 0x7f595c2a5390>, <__main__.BloomFilter object at 0x7f595c2a53d0>, <__main__.BloomFilter object at 0x7f595c2a5410>, <__main__.BloomFilter object at 0x7f595c2a5450>, <__main__.BloomFilter object at 0x7f595c2a5490>, <__main__.BloomFilter object at 0x7f595c2a54d0>, <__main__.BloomFilter object at 0x7f595c2a5510>, <__main__.BloomFilter object at 0x7f595c2a5550>, <__main__.BloomFilter object at 0x7f595c2a5590>, <__main__.BloomFilter object at 0x7f595c2a55d0>, <__main__.BloomFilter object at 0x7f595c2a5610>, <__main__.BloomFilter object at 0x7f595c2a5650>, <__main__.BloomFilter object at 0x7f595c2a5690>, <__main__.BloomFilter object at 0x7f595c2a56d0>, <__main__.BloomFilter object at 0x7f595c2a5710>, <__main__.BloomFilter object at 0x7f595c2a5750>, <__main__.BloomFilter object at 0x7f595c2a5790>, <__main__.BloomFilter object at 0x7f595c2a57d0>, <__main__.BloomFilter object at 0x7f595c2a5810>, <__main__.BloomFilter object at 0x7f595c2a5850>, <__main__.BloomFilter object at 0x7f595c2a5890>, <__main__.BloomFilter object at 0x7f595c2a58d0>, <__main__.BloomFilter object at 0x7f595c2a5910>, <__main__.BloomFilter object at 0x7f595c2a5950>, <__main__.BloomFilter object at 0x7f595c2a5990>, <__main__.BloomFilter object at 0x7f595c2a59d0>, <__main__.BloomFilter object at 0x7f595c2a5a10>, <__main__.BloomFilter object at 0x7f595c2a5a50>, <__main__.BloomFilter object at 0x7f595c2a5a90>, <__main__.BloomFilter object at 0x7f595c2a5ad0>, <__main__.BloomFilter object at 0x7f595c2a5b10>, <__main__.BloomFilter object at 0x7f595c2a5b50>, <__main__.BloomFilter object at 0x7f595c2a5b90>, <__main__.BloomFilter object at 0x7f595c2a5bd0>, <__main__.BloomFilter object at 0x7f595c2a5c10>, <__main__.BloomFilter object at 0x7f595c2a5c50>, <__main__.BloomFilter object at 0x7f595c2a5c90>, <__main__.BloomFilter object at 0x7f595c2a5cd0>, <__main__.BloomFilter object at 0x7f595c2a5d10>, <__main__.BloomFilter object at 0x7f595c2a5d50>, <__main__.BloomFilter object at 0x7f595c2a5d90>, <__main__.BloomFilter object at 0x7f595c2a5dd0>, <__main__.BloomFilter object at 0x7f595c2a5e10>, <__main__.BloomFilter object at 0x7f595c2a5e50>, <__main__.BloomFilter object at 0x7f595c2a5e90>, <__main__.BloomFilter object at 0x7f595c2a5ed0>, <__main__.BloomFilter object at 0x7f595c2a5f10>, <__main__.BloomFilter object at 0x7f595c2a5f50>, <__main__.BloomFilter object at 0x7f595c2a5f90>, <__main__.BloomFilter object at 0x7f595c2a5fd0>, <__main__.BloomFilter object at 0x7f595c2a9050>, <__main__.BloomFilter object at 0x7f595c2a9090>, <__main__.BloomFilter object at 0x7f595c2a90d0>, <__main__.BloomFilter object at 0x7f595c2a9110>, <__main__.BloomFilter object at 0x7f595c2a9150>, <__main__.BloomFilter object at 0x7f595c2a9190>, <__main__.BloomFilter object at 0x7f595c2a91d0>, <__main__.BloomFilter object at 0x7f595c2a9210>, <__main__.BloomFilter object at 0x7f595c2a9250>, <__main__.BloomFilter object at 0x7f595c2a9290>, <__main__.BloomFilter object at 0x7f595c2a92d0>, <__main__.BloomFilter object at 0x7f595c2a9310>, <__main__.BloomFilter object at 0x7f595c2a9350>, <__main__.BloomFilter object at 0x7f595c2a9390>, <__main__.BloomFilter object at 0x7f595c2a93d0>, <__main__.BloomFilter object at 0x7f595c2a9410>, <__main__.BloomFilter object at 0x7f595c2a9450>, <__main__.BloomFilter object at 0x7f595c2a9490>, <__main__.BloomFilter object at 0x7f595c2a94d0>, <__main__.BloomFilter object at 0x7f595c2a9510>, <__main__.BloomFilter object at 0x7f595c2a9550>, <__main__.BloomFilter object at 0x7f595c2a9590>, <__main__.BloomFilter object at 0x7f595c2a95d0>, <__main__.BloomFilter object at 0x7f595c2a9610>, <__main__.BloomFilter object at 0x7f595c2a9650>, <__main__.BloomFilter object at 0x7f595c2a9690>, <__main__.BloomFilter object at 0x7f595c2a96d0>, <__main__.BloomFilter object at 0x7f595c2a9710>, <__main__.BloomFilter object at 0x7f595c2a9750>, <__main__.BloomFilter object at 0x7f595c2a9790>, <__main__.BloomFilter object at 0x7f595c2a97d0>, <__main__.BloomFilter object at 0x7f595c2a9810>, <__main__.BloomFilter object at 0x7f595c2a9850>, <__main__.BloomFilter object at 0x7f595c2a9890>, <__main__.BloomFilter object at 0x7f595c2a98d0>, <__main__.BloomFilter object at 0x7f595c2a9910>, <__main__.BloomFilter object at 0x7f595c2a9950>, <__main__.BloomFilter object at 0x7f595c2a9990>, <__main__.BloomFilter object at 0x7f595c2a99d0>, <__main__.BloomFilter object at 0x7f595c2a9a10>, <__main__.BloomFilter object at 0x7f595c2a9a50>, <__main__.BloomFilter object at 0x7f595c2a9a90>, <__main__.BloomFilter object at 0x7f595c2a9ad0>, <__main__.BloomFilter object at 0x7f595c2a9b10>, <__main__.BloomFilter object at 0x7f595c2a9b50>, <__main__.BloomFilter object at 0x7f595c2a9b90>, <__main__.BloomFilter object at 0x7f595c2a9bd0>, <__main__.BloomFilter object at 0x7f595c2a9c10>, <__main__.BloomFilter object at 0x7f595c2a9c50>, <__main__.BloomFilter object at 0x7f595c2a9c90>, <__main__.BloomFilter object at 0x7f595c2a9cd0>, <__main__.BloomFilter object at 0x7f595c2a9d10>, <__main__.BloomFilter object at 0x7f595c2a9d50>, <__main__.BloomFilter object at 0x7f595c2a9d90>, <__main__.BloomFilter object at 0x7f595c2a9dd0>, <__main__.BloomFilter object at 0x7f595c2a9e10>, <__main__.BloomFilter object at 0x7f595c2a9e50>, <__main__.BloomFilter object at 0x7f595c2a9e90>, <__main__.BloomFilter object at 0x7f595c2a9ed0>, <__main__.BloomFilter object at 0x7f595c2a9f10>, <__main__.BloomFilter object at 0x7f595c2a9f50>, <__main__.BloomFilter object at 0x7f595c2a9f90>, <__main__.BloomFilter object at 0x7f595c2a9fd0>, <__main__.BloomFilter object at 0x7f595c2b0050>, <__main__.BloomFilter object at 0x7f595c2b0090>, <__main__.BloomFilter object at 0x7f595c2b00d0>, <__main__.BloomFilter object at 0x7f595c2b0110>, <__main__.BloomFilter object at 0x7f595c2b0150>, <__main__.BloomFilter object at 0x7f595c2b0190>, <__main__.BloomFilter object at 0x7f595c2b01d0>, <__main__.BloomFilter object at 0x7f595c2b0210>, <__main__.BloomFilter object at 0x7f595c2b0250>, <__main__.BloomFilter object at 0x7f595c2b0290>, <__main__.BloomFilter object at 0x7f595c2b02d0>, <__main__.BloomFilter object at 0x7f595c2b0310>, <__main__.BloomFilter object at 0x7f595c2b0350>, <__main__.BloomFilter object at 0x7f595c2b0390>, <__main__.BloomFilter object at 0x7f595c2b03d0>, <__main__.BloomFilter object at 0x7f595c2b0410>, <__main__.BloomFilter object at 0x7f595c2b0450>, <__main__.BloomFilter object at 0x7f595c2b0490>, <__main__.BloomFilter object at 0x7f595c2b04d0>, <__main__.BloomFilter object at 0x7f595c2b0510>, <__main__.BloomFilter object at 0x7f595c2b0550>, <__main__.BloomFilter object at 0x7f595c2b0590>, <__main__.BloomFilter object at 0x7f595c2b05d0>, <__main__.BloomFilter object at 0x7f595c2b0610>, <__main__.BloomFilter object at 0x7f595c2b0650>, <__main__.BloomFilter object at 0x7f595c2b0690>, <__main__.BloomFilter object at 0x7f595c2b06d0>, <__main__.BloomFilter object at 0x7f595c2b0710>, <__main__.BloomFilter object at 0x7f595c2b0750>, <__main__.BloomFilter object at 0x7f595c2b0790>, <__main__.BloomFilter object at 0x7f595c2b07d0>, <__main__.BloomFilter object at 0x7f595c2b0810>, <__main__.BloomFilter object at 0x7f595c2b0850>, <__main__.BloomFilter object at 0x7f595c2b0890>, <__main__.BloomFilter object at 0x7f595c2b08d0>, <__main__.BloomFilter object at 0x7f595c2b0910>, <__main__.BloomFilter object at 0x7f595c2b0950>, <__main__.BloomFilter object at 0x7f595c2b0990>, <__main__.BloomFilter object at 0x7f595c2b09d0>, <__main__.BloomFilter object at 0x7f595c2b0a10>, <__main__.BloomFilter object at 0x7f595c2b0a50>, <__main__.BloomFilter object at 0x7f595c2b0a90>, <__main__.BloomFilter object at 0x7f595c2b0ad0>, <__main__.BloomFilter object at 0x7f595c2b0b10>, <__main__.BloomFilter object at 0x7f595c2b0b50>, <__main__.BloomFilter object at 0x7f595c2b0b90>, <__main__.BloomFilter object at 0x7f595c2b0bd0>, <__main__.BloomFilter object at 0x7f595c2b0c10>, <__main__.BloomFilter object at 0x7f595c2b0c50>, <__main__.BloomFilter object at 0x7f595c2b0c90>, <__main__.BloomFilter object at 0x7f595c2b0cd0>, <__main__.BloomFilter object at 0x7f595c2b0d10>, <__main__.BloomFilter object at 0x7f595c2b0d50>, <__main__.BloomFilter object at 0x7f595c2b0d90>, <__main__.BloomFilter object at 0x7f595c2b0dd0>, <__main__.BloomFilter object at 0x7f595c2b0e10>, <__main__.BloomFilter object at 0x7f595c2b0e50>, <__main__.BloomFilter object at 0x7f595c2b0e90>, <__main__.BloomFilter object at 0x7f595c2b0ed0>, <__main__.BloomFilter object at 0x7f595c2b0f10>, <__main__.BloomFilter object at 0x7f595c2b0f50>, <__main__.BloomFilter object at 0x7f595c2b0f90>, <__main__.BloomFilter object at 0x7f595c2b0fd0>, <__main__.BloomFilter object at 0x7f595c2b4050>, <__main__.BloomFilter object at 0x7f595c2b4090>, <__main__.BloomFilter object at 0x7f595c2b40d0>, <__main__.BloomFilter object at 0x7f595c2b4110>, <__main__.BloomFilter object at 0x7f595c2b4150>, <__main__.BloomFilter object at 0x7f595c2b4190>, <__main__.BloomFilter object at 0x7f595c2b41d0>, <__main__.BloomFilter object at 0x7f595c2b4210>, <__main__.BloomFilter object at 0x7f595c2b4250>, <__main__.BloomFilter object at 0x7f595c2b4290>, <__main__.BloomFilter object at 0x7f595c2b42d0>, <__main__.BloomFilter object at 0x7f595c2b4310>, <__main__.BloomFilter object at 0x7f595c2b4350>, <__main__.BloomFilter object at 0x7f595c2b4390>, <__main__.BloomFilter object at 0x7f595c2b43d0>, <__main__.BloomFilter object at 0x7f595c2b4410>, <__main__.BloomFilter object at 0x7f595c2b4450>, <__main__.BloomFilter object at 0x7f595c2b4490>, <__main__.BloomFilter object at 0x7f595c2b44d0>, <__main__.BloomFilter object at 0x7f595c2b4510>, <__main__.BloomFilter object at 0x7f595c2b4550>, <__main__.BloomFilter object at 0x7f595c2b4590>, <__main__.BloomFilter object at 0x7f595c2b45d0>, <__main__.BloomFilter object at 0x7f595c2b4610>, <__main__.BloomFilter object at 0x7f595c2b4650>, <__main__.BloomFilter object at 0x7f595c2b4690>, <__main__.BloomFilter object at 0x7f595c2b46d0>, <__main__.BloomFilter object at 0x7f595c2b4710>, <__main__.BloomFilter object at 0x7f595c2b4750>, <__main__.BloomFilter object at 0x7f595c2b4790>, <__main__.BloomFilter object at 0x7f595c2b47d0>, <__main__.BloomFilter object at 0x7f595c2b4810>, <__main__.BloomFilter object at 0x7f595c2b4850>, <__main__.BloomFilter object at 0x7f595c2b4890>, <__main__.BloomFilter object at 0x7f595c2b48d0>, <__main__.BloomFilter object at 0x7f595c2b4910>, <__main__.BloomFilter object at 0x7f595c2b4950>, <__main__.BloomFilter object at 0x7f595c2b4990>, <__main__.BloomFilter object at 0x7f595c2b49d0>, <__main__.BloomFilter object at 0x7f595c2b4a10>, <__main__.BloomFilter object at 0x7f595c2b4a50>, <__main__.BloomFilter object at 0x7f595c2b4a90>, <__main__.BloomFilter object at 0x7f595c2b4ad0>, <__main__.BloomFilter object at 0x7f595c2b4b10>, <__main__.BloomFilter object at 0x7f595c2b4b50>, <__main__.BloomFilter object at 0x7f595c2b4b90>, <__main__.BloomFilter object at 0x7f595c2b4bd0>, <__main__.BloomFilter object at 0x7f595c2b4c10>, <__main__.BloomFilter object at 0x7f595c2b4c50>, <__main__.BloomFilter object at 0x7f595c2b4c90>, <__main__.BloomFilter object at 0x7f595c2b4cd0>, <__main__.BloomFilter object at 0x7f595c2b4d10>, <__main__.BloomFilter object at 0x7f595c2b4d50>, <__main__.BloomFilter object at 0x7f595c2b4d90>, <__main__.BloomFilter object at 0x7f595c2b4dd0>, <__main__.BloomFilter object at 0x7f595c2b4e10>, <__main__.BloomFilter object at 0x7f595c2b4e50>, <__main__.BloomFilter object at 0x7f595c2b4e90>, <__main__.BloomFilter object at 0x7f595c2b4ed0>, <__main__.BloomFilter object at 0x7f595c2b4f10>, <__main__.BloomFilter object at 0x7f595c2b4f50>, <__main__.BloomFilter object at 0x7f595c2b4f90>, <__main__.BloomFilter object at 0x7f595c2b4fd0>, <__main__.BloomFilter object at 0x7f595c2bb050>, <__main__.BloomFilter object at 0x7f595c2bb090>, <__main__.BloomFilter object at 0x7f595c2bb0d0>, <__main__.BloomFilter object at 0x7f595c2bb110>, <__main__.BloomFilter object at 0x7f595c2bb150>, <__main__.BloomFilter object at 0x7f595c2bb190>, <__main__.BloomFilter object at 0x7f595c2bb1d0>, <__main__.BloomFilter object at 0x7f595c2bb210>, <__main__.BloomFilter object at 0x7f595c2bb250>, <__main__.BloomFilter object at 0x7f595c2bb290>, <__main__.BloomFilter object at 0x7f595c2bb2d0>, <__main__.BloomFilter object at 0x7f595c2bb310>, <__main__.BloomFilter object at 0x7f595c2bb350>, <__main__.BloomFilter object at 0x7f595c2bb390>, <__main__.BloomFilter object at 0x7f595c2bb3d0>, <__main__.BloomFilter object at 0x7f595c2bb410>, <__main__.BloomFilter object at 0x7f595c2bb450>, <__main__.BloomFilter object at 0x7f595c2bb490>, <__main__.BloomFilter object at 0x7f595c2bb4d0>, <__main__.BloomFilter object at 0x7f595c2bb510>, <__main__.BloomFilter object at 0x7f595c2bb550>, <__main__.BloomFilter object at 0x7f595c2bb590>, <__main__.BloomFilter object at 0x7f595c2bb5d0>, <__main__.BloomFilter object at 0x7f595c2bb610>, <__main__.BloomFilter object at 0x7f595c2bb650>, <__main__.BloomFilter object at 0x7f595c2bb690>, <__main__.BloomFilter object at 0x7f595c2bb6d0>, <__main__.BloomFilter object at 0x7f595c2bb710>, <__main__.BloomFilter object at 0x7f595c2bb750>, <__main__.BloomFilter object at 0x7f595c2bb790>, <__main__.BloomFilter object at 0x7f595c2bb7d0>, <__main__.BloomFilter object at 0x7f595c2bb810>, <__main__.BloomFilter object at 0x7f595c2bb850>, <__main__.BloomFilter object at 0x7f595c2bb890>, <__main__.BloomFilter object at 0x7f595c2bb8d0>, <__main__.BloomFilter object at 0x7f595c2bb910>, <__main__.BloomFilter object at 0x7f595c2bb950>, <__main__.BloomFilter object at 0x7f595c2bb990>, <__main__.BloomFilter object at 0x7f595c2bb9d0>, <__main__.BloomFilter object at 0x7f595c2bba10>, <__main__.BloomFilter object at 0x7f595c2bba50>, <__main__.BloomFilter object at 0x7f595c2bba90>, <__main__.BloomFilter object at 0x7f595c2bbad0>, <__main__.BloomFilter object at 0x7f595c2bbb10>, <__main__.BloomFilter object at 0x7f595c2bbb50>, <__main__.BloomFilter object at 0x7f595c2bbb90>, <__main__.BloomFilter object at 0x7f595c2bbbd0>, <__main__.BloomFilter object at 0x7f595c2bbc10>, <__main__.BloomFilter object at 0x7f595c2bbc50>, <__main__.BloomFilter object at 0x7f595c2bbc90>, <__main__.BloomFilter object at 0x7f595c2bbcd0>, <__main__.BloomFilter object at 0x7f595c2bbd10>, <__main__.BloomFilter object at 0x7f595c2bbd50>, <__main__.BloomFilter object at 0x7f595c2bbd90>, <__main__.BloomFilter object at 0x7f595c2bbdd0>, <__main__.BloomFilter object at 0x7f595c2bbe10>, <__main__.BloomFilter object at 0x7f595c2bbe50>, <__main__.BloomFilter object at 0x7f595c2bbe90>, <__main__.BloomFilter object at 0x7f595c2bbed0>, <__main__.BloomFilter object at 0x7f595c2bbf10>, <__main__.BloomFilter object at 0x7f595c2bbf50>, <__main__.BloomFilter object at 0x7f595c2bbf90>, <__main__.BloomFilter object at 0x7f595c2bbfd0>, <__main__.BloomFilter object at 0x7f595c2bf050>, <__main__.BloomFilter object at 0x7f595c2bf090>, <__main__.BloomFilter object at 0x7f595c2bf0d0>, <__main__.BloomFilter object at 0x7f595c2bf110>, <__main__.BloomFilter object at 0x7f595c2bf150>, <__main__.BloomFilter object at 0x7f595c2bf190>, <__main__.BloomFilter object at 0x7f595c2bf1d0>, <__main__.BloomFilter object at 0x7f595c2bf210>, <__main__.BloomFilter object at 0x7f595c2bf250>, <__main__.BloomFilter object at 0x7f595c2bf290>, <__main__.BloomFilter object at 0x7f595c2bf2d0>, <__main__.BloomFilter object at 0x7f595c2bf310>, <__main__.BloomFilter object at 0x7f595c2bf350>, <__main__.BloomFilter object at 0x7f595c2bf390>, <__main__.BloomFilter object at 0x7f595c2bf3d0>, <__main__.BloomFilter object at 0x7f595c2bf410>, <__main__.BloomFilter object at 0x7f595c2bf450>, <__main__.BloomFilter object at 0x7f595c2bf490>, <__main__.BloomFilter object at 0x7f595c2bf4d0>, <__main__.BloomFilter object at 0x7f595c2bf510>, <__main__.BloomFilter object at 0x7f595c2bf550>, <__main__.BloomFilter object at 0x7f595c2bf590>, <__main__.BloomFilter object at 0x7f595c2bf5d0>, <__main__.BloomFilter object at 0x7f595c2bf610>, <__main__.BloomFilter object at 0x7f595c2bf650>, <__main__.BloomFilter object at 0x7f595c2bf690>, <__main__.BloomFilter object at 0x7f595c2bf6d0>, <__main__.BloomFilter object at 0x7f595c2bf710>, <__main__.BloomFilter object at 0x7f595c2bf750>, <__main__.BloomFilter object at 0x7f595c2bf790>, <__main__.BloomFilter object at 0x7f595c2bf7d0>, <__main__.BloomFilter object at 0x7f595c2bf810>, <__main__.BloomFilter object at 0x7f595c2bf850>, <__main__.BloomFilter object at 0x7f595c2bf890>, <__main__.BloomFilter object at 0x7f595c2bf8d0>, <__main__.BloomFilter object at 0x7f595c2bf910>, <__main__.BloomFilter object at 0x7f595c2bf950>, <__main__.BloomFilter object at 0x7f595c2bf990>, <__main__.BloomFilter object at 0x7f595c2bf9d0>, <__main__.BloomFilter object at 0x7f595c2bfa10>, <__main__.BloomFilter object at 0x7f595c2bfa50>, <__main__.BloomFilter object at 0x7f595c2bfa90>, <__main__.BloomFilter object at 0x7f595c2bfad0>, <__main__.BloomFilter object at 0x7f595c2bfb10>, <__main__.BloomFilter object at 0x7f595c2bfb50>, <__main__.BloomFilter object at 0x7f595c2bfb90>, <__main__.BloomFilter object at 0x7f595c2bfbd0>, <__main__.BloomFilter object at 0x7f595c2bfc10>, <__main__.BloomFilter object at 0x7f595c2bfc50>, <__main__.BloomFilter object at 0x7f595c2bfc90>, <__main__.BloomFilter object at 0x7f595c2bfcd0>, <__main__.BloomFilter object at 0x7f595c2bfd10>, <__main__.BloomFilter object at 0x7f595c2bfd50>, <__main__.BloomFilter object at 0x7f595c2bfd90>, <__main__.BloomFilter object at 0x7f595c2bfdd0>, <__main__.BloomFilter object at 0x7f595c2bfe10>, <__main__.BloomFilter object at 0x7f595c2bfe50>, <__main__.BloomFilter object at 0x7f595c2bfe90>, <__main__.BloomFilter object at 0x7f595c2bfed0>, <__main__.BloomFilter object at 0x7f595c2bff10>, <__main__.BloomFilter object at 0x7f595c2bff50>, <__main__.BloomFilter object at 0x7f595c2bff90>, <__main__.BloomFilter object at 0x7f595c2bffd0>, <__main__.BloomFilter object at 0x7f595c2c6050>, <__main__.BloomFilter object at 0x7f595c2c6090>, <__main__.BloomFilter object at 0x7f595c2c60d0>, <__main__.BloomFilter object at 0x7f595c2c6110>, <__main__.BloomFilter object at 0x7f595c2c6150>, <__main__.BloomFilter object at 0x7f595c2c6190>, <__main__.BloomFilter object at 0x7f595c2c61d0>, <__main__.BloomFilter object at 0x7f595c2c6210>, <__main__.BloomFilter object at 0x7f595c2c6250>, <__main__.BloomFilter object at 0x7f595c2c6290>, <__main__.BloomFilter object at 0x7f595c2c62d0>, <__main__.BloomFilter object at 0x7f595c2c6310>, <__main__.BloomFilter object at 0x7f595c2c6350>, <__main__.BloomFilter object at 0x7f595c2c6390>, <__main__.BloomFilter object at 0x7f595c2c63d0>, <__main__.BloomFilter object at 0x7f595c2c6410>, <__main__.BloomFilter object at 0x7f595c2c6450>, <__main__.BloomFilter object at 0x7f595c2c6490>, <__main__.BloomFilter object at 0x7f595c2c64d0>, <__main__.BloomFilter object at 0x7f595c2c6510>, <__main__.BloomFilter object at 0x7f595c2c6550>, <__main__.BloomFilter object at 0x7f595c2c6590>, <__main__.BloomFilter object at 0x7f595c2c65d0>, <__main__.BloomFilter object at 0x7f595c2c6610>, <__main__.BloomFilter object at 0x7f595c2c6650>, <__main__.BloomFilter object at 0x7f595c2c6690>, <__main__.BloomFilter object at 0x7f595c2c66d0>, <__main__.BloomFilter object at 0x7f595c2c6710>, <__main__.BloomFilter object at 0x7f595c2c6750>, <__main__.BloomFilter object at 0x7f595c2c6790>, <__main__.BloomFilter object at 0x7f595c2c67d0>, <__main__.BloomFilter object at 0x7f595c2c6810>, <__main__.BloomFilter object at 0x7f595c2c6850>, <__main__.BloomFilter object at 0x7f595c2c6890>, <__main__.BloomFilter object at 0x7f595c2c68d0>, <__main__.BloomFilter object at 0x7f595c2c6910>, <__main__.BloomFilter object at 0x7f595c2c6950>, <__main__.BloomFilter object at 0x7f595c2c6990>, <__main__.BloomFilter object at 0x7f595c2c69d0>, <__main__.BloomFilter object at 0x7f595c2c6a10>, <__main__.BloomFilter object at 0x7f595c2c6a50>, <__main__.BloomFilter object at 0x7f595c2c6a90>, <__main__.BloomFilter object at 0x7f595c2c6ad0>, <__main__.BloomFilter object at 0x7f595c2c6b10>, <__main__.BloomFilter object at 0x7f595c2c6b50>, <__main__.BloomFilter object at 0x7f595c2c6b90>, <__main__.BloomFilter object at 0x7f595c2c6bd0>, <__main__.BloomFilter object at 0x7f595c2c6c10>, <__main__.BloomFilter object at 0x7f595c2c6c50>, <__main__.BloomFilter object at 0x7f595c2c6c90>, <__main__.BloomFilter object at 0x7f595c2c6cd0>, <__main__.BloomFilter object at 0x7f595c2c6d10>, <__main__.BloomFilter object at 0x7f595c2c6d50>, <__main__.BloomFilter object at 0x7f595c2c6d90>, <__main__.BloomFilter object at 0x7f595c2c6dd0>, <__main__.BloomFilter object at 0x7f595c2c6e10>, <__main__.BloomFilter object at 0x7f595c2c6e50>, <__main__.BloomFilter object at 0x7f595c2c6e90>, <__main__.BloomFilter object at 0x7f595c2c6ed0>, <__main__.BloomFilter object at 0x7f595c2c6f10>, <__main__.BloomFilter object at 0x7f595c2c6f50>, <__main__.BloomFilter object at 0x7f595c2c6f90>, <__main__.BloomFilter object at 0x7f595c2c6fd0>, <__main__.BloomFilter object at 0x7f595c2ca050>, <__main__.BloomFilter object at 0x7f595c2ca090>, <__main__.BloomFilter object at 0x7f595c2ca0d0>, <__main__.BloomFilter object at 0x7f595c2ca110>, <__main__.BloomFilter object at 0x7f595c2ca150>, <__main__.BloomFilter object at 0x7f595c2ca190>, <__main__.BloomFilter object at 0x7f595c2ca1d0>, <__main__.BloomFilter object at 0x7f595c2ca210>, <__main__.BloomFilter object at 0x7f595c2ca250>, <__main__.BloomFilter object at 0x7f595c2ca290>, <__main__.BloomFilter object at 0x7f595c2ca2d0>, <__main__.BloomFilter object at 0x7f595c2ca310>, <__main__.BloomFilter object at 0x7f595c2ca350>, <__main__.BloomFilter object at 0x7f595c2ca390>, <__main__.BloomFilter object at 0x7f595c2ca3d0>, <__main__.BloomFilter object at 0x7f595c2ca410>, <__main__.BloomFilter object at 0x7f595c2ca450>, <__main__.BloomFilter object at 0x7f595c2ca490>, <__main__.BloomFilter object at 0x7f595c2ca4d0>, <__main__.BloomFilter object at 0x7f595c2ca510>, <__main__.BloomFilter object at 0x7f595c2ca550>, <__main__.BloomFilter object at 0x7f595c2ca590>, <__main__.BloomFilter object at 0x7f595c2ca5d0>, <__main__.BloomFilter object at 0x7f595c2ca610>, <__main__.BloomFilter object at 0x7f595c2ca650>, <__main__.BloomFilter object at 0x7f595c2ca690>, <__main__.BloomFilter object at 0x7f595c2ca6d0>, <__main__.BloomFilter object at 0x7f595c2ca710>, <__main__.BloomFilter object at 0x7f595c2ca750>, <__main__.BloomFilter object at 0x7f595c2ca790>, <__main__.BloomFilter object at 0x7f595c2ca7d0>, <__main__.BloomFilter object at 0x7f595c2ca810>, <__main__.BloomFilter object at 0x7f595c2ca850>, <__main__.BloomFilter object at 0x7f595c2ca890>, <__main__.BloomFilter object at 0x7f595c2ca8d0>, <__main__.BloomFilter object at 0x7f595c2ca910>, <__main__.BloomFilter object at 0x7f595c2ca950>, <__main__.BloomFilter object at 0x7f595c2ca990>, <__main__.BloomFilter object at 0x7f595c2ca9d0>, <__main__.BloomFilter object at 0x7f595c2caa10>, <__main__.BloomFilter object at 0x7f595c2caa50>, <__main__.BloomFilter object at 0x7f595c2caa90>, <__main__.BloomFilter object at 0x7f595c2caad0>, <__main__.BloomFilter object at 0x7f595c2cab10>, <__main__.BloomFilter object at 0x7f595c2cab50>, <__main__.BloomFilter object at 0x7f595c2cab90>, <__main__.BloomFilter object at 0x7f595c2cabd0>, <__main__.BloomFilter object at 0x7f595c2cac10>, <__main__.BloomFilter object at 0x7f595c2cac50>, <__main__.BloomFilter object at 0x7f595c2cac90>, <__main__.BloomFilter object at 0x7f595c2cacd0>, <__main__.BloomFilter object at 0x7f595c2cad10>, <__main__.BloomFilter object at 0x7f595c2cad50>, <__main__.BloomFilter object at 0x7f595c2cad90>, <__main__.BloomFilter object at 0x7f595c2cadd0>, <__main__.BloomFilter object at 0x7f595c2cae10>, <__main__.BloomFilter object at 0x7f595c2cae50>, <__main__.BloomFilter object at 0x7f595c2cae90>, <__main__.BloomFilter object at 0x7f595c2caed0>, <__main__.BloomFilter object at 0x7f595c2caf10>, <__main__.BloomFilter object at 0x7f595c2caf50>, <__main__.BloomFilter object at 0x7f595c2caf90>, <__main__.BloomFilter object at 0x7f595c2cafd0>, <__main__.BloomFilter object at 0x7f595c251050>, <__main__.BloomFilter object at 0x7f595c251090>, <__main__.BloomFilter object at 0x7f595c2510d0>, <__main__.BloomFilter object at 0x7f595c251110>, <__main__.BloomFilter object at 0x7f595c251150>, <__main__.BloomFilter object at 0x7f595c251190>, <__main__.BloomFilter object at 0x7f595c2511d0>, <__main__.BloomFilter object at 0x7f595c251210>, <__main__.BloomFilter object at 0x7f595c251250>, <__main__.BloomFilter object at 0x7f595c251290>, <__main__.BloomFilter object at 0x7f595c2512d0>, <__main__.BloomFilter object at 0x7f595c251310>, <__main__.BloomFilter object at 0x7f595c251350>, <__main__.BloomFilter object at 0x7f595c251390>, <__main__.BloomFilter object at 0x7f595c2513d0>, <__main__.BloomFilter object at 0x7f595c251410>, <__main__.BloomFilter object at 0x7f595c251450>, <__main__.BloomFilter object at 0x7f595c251490>, <__main__.BloomFilter object at 0x7f595c2514d0>, <__main__.BloomFilter object at 0x7f595c251510>, <__main__.BloomFilter object at 0x7f595c251550>, <__main__.BloomFilter object at 0x7f595c251590>, <__main__.BloomFilter object at 0x7f595c2515d0>, <__main__.BloomFilter object at 0x7f595c251610>, <__main__.BloomFilter object at 0x7f595c251650>, <__main__.BloomFilter object at 0x7f595c251690>, <__main__.BloomFilter object at 0x7f595c2516d0>, <__main__.BloomFilter object at 0x7f595c251710>, <__main__.BloomFilter object at 0x7f595c251750>, <__main__.BloomFilter object at 0x7f595c251790>, <__main__.BloomFilter object at 0x7f595c2517d0>, <__main__.BloomFilter object at 0x7f595c251810>, <__main__.BloomFilter object at 0x7f595c251850>, <__main__.BloomFilter object at 0x7f595c251890>, <__main__.BloomFilter object at 0x7f595c2518d0>, <__main__.BloomFilter object at 0x7f595c251910>, <__main__.BloomFilter object at 0x7f595c251950>, <__main__.BloomFilter object at 0x7f595c251990>, <__main__.BloomFilter object at 0x7f595c2519d0>, <__main__.BloomFilter object at 0x7f595c251a10>, <__main__.BloomFilter object at 0x7f595c251a50>, <__main__.BloomFilter object at 0x7f595c251a90>, <__main__.BloomFilter object at 0x7f595c251ad0>, <__main__.BloomFilter object at 0x7f595c251b10>, <__main__.BloomFilter object at 0x7f595c251b50>, <__main__.BloomFilter object at 0x7f595c251b90>, <__main__.BloomFilter object at 0x7f595c251bd0>, <__main__.BloomFilter object at 0x7f595c251c10>, <__main__.BloomFilter object at 0x7f595c251c50>, <__main__.BloomFilter object at 0x7f595c251c90>, <__main__.BloomFilter object at 0x7f595c251cd0>, <__main__.BloomFilter object at 0x7f595c251d10>, <__main__.BloomFilter object at 0x7f595c251d50>, <__main__.BloomFilter object at 0x7f595c251d90>, <__main__.BloomFilter object at 0x7f595c251dd0>, <__main__.BloomFilter object at 0x7f595c251e10>, <__main__.BloomFilter object at 0x7f595c251e50>, <__main__.BloomFilter object at 0x7f595c251e90>, <__main__.BloomFilter object at 0x7f595c251ed0>, <__main__.BloomFilter object at 0x7f595c251f10>, <__main__.BloomFilter object at 0x7f595c251f50>, <__main__.BloomFilter object at 0x7f595c251f90>, <__main__.BloomFilter object at 0x7f595c251fd0>, <__main__.BloomFilter object at 0x7f595c255050>, <__main__.BloomFilter object at 0x7f595c255090>, <__main__.BloomFilter object at 0x7f595c2550d0>, <__main__.BloomFilter object at 0x7f595c255110>, <__main__.BloomFilter object at 0x7f595c255150>, <__main__.BloomFilter object at 0x7f595c255190>, <__main__.BloomFilter object at 0x7f595c2551d0>, <__main__.BloomFilter object at 0x7f595c255210>, <__main__.BloomFilter object at 0x7f595c255250>, <__main__.BloomFilter object at 0x7f595c255290>, <__main__.BloomFilter object at 0x7f595c2552d0>, <__main__.BloomFilter object at 0x7f595c255310>, <__main__.BloomFilter object at 0x7f595c255350>, <__main__.BloomFilter object at 0x7f595c255390>, <__main__.BloomFilter object at 0x7f595c2553d0>, <__main__.BloomFilter object at 0x7f595c255410>, <__main__.BloomFilter object at 0x7f595c255450>, <__main__.BloomFilter object at 0x7f595c255490>, <__main__.BloomFilter object at 0x7f595c2554d0>, <__main__.BloomFilter object at 0x7f595c255510>, <__main__.BloomFilter object at 0x7f595c255550>, <__main__.BloomFilter object at 0x7f595c255590>, <__main__.BloomFilter object at 0x7f595c2555d0>, <__main__.BloomFilter object at 0x7f595c255610>, <__main__.BloomFilter object at 0x7f595c255650>, <__main__.BloomFilter object at 0x7f595c255690>, <__main__.BloomFilter object at 0x7f595c2556d0>, <__main__.BloomFilter object at 0x7f595c255710>, <__main__.BloomFilter object at 0x7f595c255750>, <__main__.BloomFilter object at 0x7f595c255790>, <__main__.BloomFilter object at 0x7f595c2557d0>, <__main__.BloomFilter object at 0x7f595c255810>, <__main__.BloomFilter object at 0x7f595c255850>, <__main__.BloomFilter object at 0x7f595c255890>, <__main__.BloomFilter object at 0x7f595c2558d0>, <__main__.BloomFilter object at 0x7f595c255910>, <__main__.BloomFilter object at 0x7f595c255950>, <__main__.BloomFilter object at 0x7f595c255990>, <__main__.BloomFilter object at 0x7f595c2559d0>, <__main__.BloomFilter object at 0x7f595c255a10>, <__main__.BloomFilter object at 0x7f595c255a50>, <__main__.BloomFilter object at 0x7f595c255a90>, <__main__.BloomFilter object at 0x7f595c255ad0>, <__main__.BloomFilter object at 0x7f595c255b10>, <__main__.BloomFilter object at 0x7f595c255b50>, <__main__.BloomFilter object at 0x7f595c255b90>, <__main__.BloomFilter object at 0x7f595c255bd0>, <__main__.BloomFilter object at 0x7f595c255c10>, <__main__.BloomFilter object at 0x7f595c255c50>, <__main__.BloomFilter object at 0x7f595c255c90>, <__main__.BloomFilter object at 0x7f595c255cd0>, <__main__.BloomFilter object at 0x7f595c255d10>, <__main__.BloomFilter object at 0x7f595c255d50>, <__main__.BloomFilter object at 0x7f595c255d90>, <__main__.BloomFilter object at 0x7f595c255dd0>, <__main__.BloomFilter object at 0x7f595c255e10>, <__main__.BloomFilter object at 0x7f595c255e50>, <__main__.BloomFilter object at 0x7f595c255e90>, <__main__.BloomFilter object at 0x7f595c255ed0>, <__main__.BloomFilter object at 0x7f595c255f10>, <__main__.BloomFilter object at 0x7f595c255f50>, <__main__.BloomFilter object at 0x7f595c255f90>, <__main__.BloomFilter object at 0x7f595c255fd0>, <__main__.BloomFilter object at 0x7f595c25c050>, <__main__.BloomFilter object at 0x7f595c25c090>, <__main__.BloomFilter object at 0x7f595c25c0d0>, <__main__.BloomFilter object at 0x7f595c25c110>, <__main__.BloomFilter object at 0x7f595c25c150>, <__main__.BloomFilter object at 0x7f595c25c190>, <__main__.BloomFilter object at 0x7f595c25c1d0>, <__main__.BloomFilter object at 0x7f595c25c210>, <__main__.BloomFilter object at 0x7f595c25c250>, <__main__.BloomFilter object at 0x7f595c25c290>, <__main__.BloomFilter object at 0x7f595c25c2d0>, <__main__.BloomFilter object at 0x7f595c25c310>, <__main__.BloomFilter object at 0x7f595c25c350>, <__main__.BloomFilter object at 0x7f595c25c390>, <__main__.BloomFilter object at 0x7f595c25c3d0>, <__main__.BloomFilter object at 0x7f595c25c410>, <__main__.BloomFilter object at 0x7f595c25c450>, <__main__.BloomFilter object at 0x7f595c25c490>, <__main__.BloomFilter object at 0x7f595c25c4d0>, <__main__.BloomFilter object at 0x7f595c25c510>, <__main__.BloomFilter object at 0x7f595c25c550>, <__main__.BloomFilter object at 0x7f595c25c590>, <__main__.BloomFilter object at 0x7f595c25c5d0>, <__main__.BloomFilter object at 0x7f595c25c610>, <__main__.BloomFilter object at 0x7f595c25c650>, <__main__.BloomFilter object at 0x7f595c25c690>, <__main__.BloomFilter object at 0x7f595c25c6d0>, <__main__.BloomFilter object at 0x7f595c25c710>, <__main__.BloomFilter object at 0x7f595c25c750>, <__main__.BloomFilter object at 0x7f595c25c790>, <__main__.BloomFilter object at 0x7f595c25c7d0>, <__main__.BloomFilter object at 0x7f595c25c810>, <__main__.BloomFilter object at 0x7f595c25c850>, <__main__.BloomFilter object at 0x7f595c25c890>, <__main__.BloomFilter object at 0x7f595c25c8d0>, <__main__.BloomFilter object at 0x7f595c25c910>, <__main__.BloomFilter object at 0x7f595c25c950>, <__main__.BloomFilter object at 0x7f595c25c990>, <__main__.BloomFilter object at 0x7f595c25c9d0>, <__main__.BloomFilter object at 0x7f595c25ca10>, <__main__.BloomFilter object at 0x7f595c25ca50>, <__main__.BloomFilter object at 0x7f595c25ca90>, <__main__.BloomFilter object at 0x7f595c25cad0>, <__main__.BloomFilter object at 0x7f595c25cb10>, <__main__.BloomFilter object at 0x7f595c25cb50>, <__main__.BloomFilter object at 0x7f595c25cb90>, <__main__.BloomFilter object at 0x7f595c25cbd0>, <__main__.BloomFilter object at 0x7f595c25cc10>, <__main__.BloomFilter object at 0x7f595c25cc50>, <__main__.BloomFilter object at 0x7f595c25cc90>, <__main__.BloomFilter object at 0x7f595c25ccd0>, <__main__.BloomFilter object at 0x7f595c25cd10>, <__main__.BloomFilter object at 0x7f595c25cd50>, <__main__.BloomFilter object at 0x7f595c25cd90>, <__main__.BloomFilter object at 0x7f595c25cdd0>, <__main__.BloomFilter object at 0x7f595c25ce10>, <__main__.BloomFilter object at 0x7f595c25ce50>, <__main__.BloomFilter object at 0x7f595c25ce90>, <__main__.BloomFilter object at 0x7f595c25ced0>, <__main__.BloomFilter object at 0x7f595c25cf10>, <__main__.BloomFilter object at 0x7f595c25cf50>, <__main__.BloomFilter object at 0x7f595c25cf90>, <__main__.BloomFilter object at 0x7f595c25cfd0>, <__main__.BloomFilter object at 0x7f595c260050>, <__main__.BloomFilter object at 0x7f595c260090>, <__main__.BloomFilter object at 0x7f595c2600d0>, <__main__.BloomFilter object at 0x7f595c260110>, <__main__.BloomFilter object at 0x7f595c260150>, <__main__.BloomFilter object at 0x7f595c260190>, <__main__.BloomFilter object at 0x7f595c2601d0>, <__main__.BloomFilter object at 0x7f595c260210>, <__main__.BloomFilter object at 0x7f595c260250>, <__main__.BloomFilter object at 0x7f595c260290>, <__main__.BloomFilter object at 0x7f595c2602d0>, <__main__.BloomFilter object at 0x7f595c260310>, <__main__.BloomFilter object at 0x7f595c260350>, <__main__.BloomFilter object at 0x7f595c260390>, <__main__.BloomFilter object at 0x7f595c2603d0>, <__main__.BloomFilter object at 0x7f595c260410>, <__main__.BloomFilter object at 0x7f595c260450>, <__main__.BloomFilter object at 0x7f595c260490>, <__main__.BloomFilter object at 0x7f595c2604d0>, <__main__.BloomFilter object at 0x7f595c260510>, <__main__.BloomFilter object at 0x7f595c260550>, <__main__.BloomFilter object at 0x7f595c260590>, <__main__.BloomFilter object at 0x7f595c2605d0>, <__main__.BloomFilter object at 0x7f595c260610>, <__main__.BloomFilter object at 0x7f595c260650>, <__main__.BloomFilter object at 0x7f595c260690>, <__main__.BloomFilter object at 0x7f595c2606d0>, <__main__.BloomFilter object at 0x7f595c260710>, <__main__.BloomFilter object at 0x7f595c260750>, <__main__.BloomFilter object at 0x7f595c260790>, <__main__.BloomFilter object at 0x7f595c2607d0>, <__main__.BloomFilter object at 0x7f595c260810>, <__main__.BloomFilter object at 0x7f595c260850>, <__main__.BloomFilter object at 0x7f595c260890>, <__main__.BloomFilter object at 0x7f595c2608d0>, <__main__.BloomFilter object at 0x7f595c260910>, <__main__.BloomFilter object at 0x7f595c260950>, <__main__.BloomFilter object at 0x7f595c260990>, <__main__.BloomFilter object at 0x7f595c2609d0>, <__main__.BloomFilter object at 0x7f595c260a10>, <__main__.BloomFilter object at 0x7f595c260a50>, <__main__.BloomFilter object at 0x7f595c260a90>, <__main__.BloomFilter object at 0x7f595c260ad0>, <__main__.BloomFilter object at 0x7f595c260b10>, <__main__.BloomFilter object at 0x7f595c260b50>, <__main__.BloomFilter object at 0x7f595c260b90>, <__main__.BloomFilter object at 0x7f595c260bd0>, <__main__.BloomFilter object at 0x7f595c260c10>, <__main__.BloomFilter object at 0x7f595c260c50>, <__main__.BloomFilter object at 0x7f595c260c90>, <__main__.BloomFilter object at 0x7f595c260cd0>, <__main__.BloomFilter object at 0x7f595c260d10>, <__main__.BloomFilter object at 0x7f595c260d50>, <__main__.BloomFilter object at 0x7f595c260d90>, <__main__.BloomFilter object at 0x7f595c260dd0>, <__main__.BloomFilter object at 0x7f595c260e10>, <__main__.BloomFilter object at 0x7f595c260e50>, <__main__.BloomFilter object at 0x7f595c260e90>, <__main__.BloomFilter object at 0x7f595c260ed0>, <__main__.BloomFilter object at 0x7f595c260f10>, <__main__.BloomFilter object at 0x7f595c260f50>, <__main__.BloomFilter object at 0x7f595c260f90>, <__main__.BloomFilter object at 0x7f595c260fd0>, <__main__.BloomFilter object at 0x7f595c267050>, <__main__.BloomFilter object at 0x7f595c267090>, <__main__.BloomFilter object at 0x7f595c2670d0>, <__main__.BloomFilter object at 0x7f595c267110>, <__main__.BloomFilter object at 0x7f595c267150>, <__main__.BloomFilter object at 0x7f595c267190>, <__main__.BloomFilter object at 0x7f595c2671d0>, <__main__.BloomFilter object at 0x7f595c267210>, <__main__.BloomFilter object at 0x7f595c267250>, <__main__.BloomFilter object at 0x7f595c267290>, <__main__.BloomFilter object at 0x7f595c2672d0>, <__main__.BloomFilter object at 0x7f595c267310>, <__main__.BloomFilter object at 0x7f595c267350>, <__main__.BloomFilter object at 0x7f595c267390>, <__main__.BloomFilter object at 0x7f595c2673d0>, <__main__.BloomFilter object at 0x7f595c267410>, <__main__.BloomFilter object at 0x7f595c267450>, <__main__.BloomFilter object at 0x7f595c267490>, <__main__.BloomFilter object at 0x7f595c2674d0>, <__main__.BloomFilter object at 0x7f595c267510>, <__main__.BloomFilter object at 0x7f595c267550>, <__main__.BloomFilter object at 0x7f595c267590>, <__main__.BloomFilter object at 0x7f595c2675d0>, <__main__.BloomFilter object at 0x7f595c267610>, <__main__.BloomFilter object at 0x7f595c267650>, <__main__.BloomFilter object at 0x7f595c267690>, <__main__.BloomFilter object at 0x7f595c2676d0>, <__main__.BloomFilter object at 0x7f595c267710>, <__main__.BloomFilter object at 0x7f595c267750>, <__main__.BloomFilter object at 0x7f595c267790>, <__main__.BloomFilter object at 0x7f595c2677d0>, <__main__.BloomFilter object at 0x7f595c267810>, <__main__.BloomFilter object at 0x7f595c267850>, <__main__.BloomFilter object at 0x7f595c267890>, <__main__.BloomFilter object at 0x7f595c2678d0>, <__main__.BloomFilter object at 0x7f595c267910>, <__main__.BloomFilter object at 0x7f595c267950>, <__main__.BloomFilter object at 0x7f595c267990>, <__main__.BloomFilter object at 0x7f595c2679d0>, <__main__.BloomFilter object at 0x7f595c267a10>, <__main__.BloomFilter object at 0x7f595c267a50>, <__main__.BloomFilter object at 0x7f595c267a90>, <__main__.BloomFilter object at 0x7f595c267ad0>, <__main__.BloomFilter object at 0x7f595c267b10>, <__main__.BloomFilter object at 0x7f595c267b50>, <__main__.BloomFilter object at 0x7f595c267b90>, <__main__.BloomFilter object at 0x7f595c267bd0>, <__main__.BloomFilter object at 0x7f595c267c10>, <__main__.BloomFilter object at 0x7f595c267c50>, <__main__.BloomFilter object at 0x7f595c267c90>, <__main__.BloomFilter object at 0x7f595c267cd0>, <__main__.BloomFilter object at 0x7f595c267d10>, <__main__.BloomFilter object at 0x7f595c267d50>, <__main__.BloomFilter object at 0x7f595c267d90>, <__main__.BloomFilter object at 0x7f595c267dd0>, <__main__.BloomFilter object at 0x7f595c267e10>, <__main__.BloomFilter object at 0x7f595c267e50>, <__main__.BloomFilter object at 0x7f595c267e90>, <__main__.BloomFilter object at 0x7f595c267ed0>, <__main__.BloomFilter object at 0x7f595c267f10>, <__main__.BloomFilter object at 0x7f595c267f50>, <__main__.BloomFilter object at 0x7f595c267f90>, <__main__.BloomFilter object at 0x7f595c267fd0>, <__main__.BloomFilter object at 0x7f595c26b050>, <__main__.BloomFilter object at 0x7f595c26b090>, <__main__.BloomFilter object at 0x7f595c26b0d0>, <__main__.BloomFilter object at 0x7f595c26b110>, <__main__.BloomFilter object at 0x7f595c26b150>, <__main__.BloomFilter object at 0x7f595c26b190>, <__main__.BloomFilter object at 0x7f595c26b1d0>, <__main__.BloomFilter object at 0x7f595c26b210>, <__main__.BloomFilter object at 0x7f595c26b250>, <__main__.BloomFilter object at 0x7f595c26b290>, <__main__.BloomFilter object at 0x7f595c26b2d0>, <__main__.BloomFilter object at 0x7f595c26b310>, <__main__.BloomFilter object at 0x7f595c26b350>, <__main__.BloomFilter object at 0x7f595c26b390>, <__main__.BloomFilter object at 0x7f595c26b3d0>, <__main__.BloomFilter object at 0x7f595c26b410>, <__main__.BloomFilter object at 0x7f595c26b450>, <__main__.BloomFilter object at 0x7f595c26b490>, <__main__.BloomFilter object at 0x7f595c26b4d0>, <__main__.BloomFilter object at 0x7f595c26b510>, <__main__.BloomFilter object at 0x7f595c26b550>, <__main__.BloomFilter object at 0x7f595c26b590>, <__main__.BloomFilter object at 0x7f595c26b5d0>, <__main__.BloomFilter object at 0x7f595c26b610>, <__main__.BloomFilter object at 0x7f595c26b650>, <__main__.BloomFilter object at 0x7f595c26b690>, <__main__.BloomFilter object at 0x7f595c26b6d0>, <__main__.BloomFilter object at 0x7f595c26b710>, <__main__.BloomFilter object at 0x7f595c26b750>, <__main__.BloomFilter object at 0x7f595c26b790>, <__main__.BloomFilter object at 0x7f595c26b7d0>, <__main__.BloomFilter object at 0x7f595c26b810>, <__main__.BloomFilter object at 0x7f595c26b850>, <__main__.BloomFilter object at 0x7f595c26b890>, <__main__.BloomFilter object at 0x7f595c26b8d0>, <__main__.BloomFilter object at 0x7f595c26b910>, <__main__.BloomFilter object at 0x7f595c26b950>, <__main__.BloomFilter object at 0x7f595c26b990>, <__main__.BloomFilter object at 0x7f595c26b9d0>, <__main__.BloomFilter object at 0x7f595c26ba10>, <__main__.BloomFilter object at 0x7f595c26ba50>, <__main__.BloomFilter object at 0x7f595c26ba90>, <__main__.BloomFilter object at 0x7f595c26bad0>, <__main__.BloomFilter object at 0x7f595c26bb10>, <__main__.BloomFilter object at 0x7f595c26bb50>, <__main__.BloomFilter object at 0x7f595c26bb90>, <__main__.BloomFilter object at 0x7f595c26bbd0>, <__main__.BloomFilter object at 0x7f595c26bc10>, <__main__.BloomFilter object at 0x7f595c26bc50>, <__main__.BloomFilter object at 0x7f595c26bc90>, <__main__.BloomFilter object at 0x7f595c26bcd0>, <__main__.BloomFilter object at 0x7f595c26bd10>, <__main__.BloomFilter object at 0x7f595c26bd50>, <__main__.BloomFilter object at 0x7f595c26bd90>, <__main__.BloomFilter object at 0x7f595c26bdd0>, <__main__.BloomFilter object at 0x7f595c26be10>, <__main__.BloomFilter object at 0x7f595c26be50>, <__main__.BloomFilter object at 0x7f595c26be90>, <__main__.BloomFilter object at 0x7f595c26bed0>, <__main__.BloomFilter object at 0x7f595c26bf10>, <__main__.BloomFilter object at 0x7f595c26bf50>, <__main__.BloomFilter object at 0x7f595c26bf90>, <__main__.BloomFilter object at 0x7f595c26bfd0>, <__main__.BloomFilter object at 0x7f595c272050>, <__main__.BloomFilter object at 0x7f595c272090>, <__main__.BloomFilter object at 0x7f595c2720d0>, <__main__.BloomFilter object at 0x7f595c272110>, <__main__.BloomFilter object at 0x7f595c272150>, <__main__.BloomFilter object at 0x7f595c272190>, <__main__.BloomFilter object at 0x7f595c2721d0>, <__main__.BloomFilter object at 0x7f595c272210>, <__main__.BloomFilter object at 0x7f595c272250>, <__main__.BloomFilter object at 0x7f595c272290>, <__main__.BloomFilter object at 0x7f595c2722d0>, <__main__.BloomFilter object at 0x7f595c272310>, <__main__.BloomFilter object at 0x7f595c272350>, <__main__.BloomFilter object at 0x7f595c272390>, <__main__.BloomFilter object at 0x7f595c2723d0>, <__main__.BloomFilter object at 0x7f595c272410>, <__main__.BloomFilter object at 0x7f595c272450>, <__main__.BloomFilter object at 0x7f595c272490>, <__main__.BloomFilter object at 0x7f595c2724d0>, <__main__.BloomFilter object at 0x7f595c272510>, <__main__.BloomFilter object at 0x7f595c272550>, <__main__.BloomFilter object at 0x7f595c272590>, <__main__.BloomFilter object at 0x7f595c2725d0>, <__main__.BloomFilter object at 0x7f595c272610>, <__main__.BloomFilter object at 0x7f595c272650>, <__main__.BloomFilter object at 0x7f595c272690>, <__main__.BloomFilter object at 0x7f595c2726d0>, <__main__.BloomFilter object at 0x7f595c272710>, <__main__.BloomFilter object at 0x7f595c272750>, <__main__.BloomFilter object at 0x7f595c272790>, <__main__.BloomFilter object at 0x7f595c2727d0>, <__main__.BloomFilter object at 0x7f595c272810>, <__main__.BloomFilter object at 0x7f595c272850>, <__main__.BloomFilter object at 0x7f595c272890>, <__main__.BloomFilter object at 0x7f595c2728d0>, <__main__.BloomFilter object at 0x7f595c272910>, <__main__.BloomFilter object at 0x7f595c272950>, <__main__.BloomFilter object at 0x7f595c272990>, <__main__.BloomFilter object at 0x7f595c2729d0>, <__main__.BloomFilter object at 0x7f595c272a10>, <__main__.BloomFilter object at 0x7f595c272a50>, <__main__.BloomFilter object at 0x7f595c272a90>, <__main__.BloomFilter object at 0x7f595c272ad0>, <__main__.BloomFilter object at 0x7f595c272b10>, <__main__.BloomFilter object at 0x7f595c272b50>, <__main__.BloomFilter object at 0x7f595c272b90>, <__main__.BloomFilter object at 0x7f595c272bd0>, <__main__.BloomFilter object at 0x7f595c272c10>, <__main__.BloomFilter object at 0x7f595c272c50>, <__main__.BloomFilter object at 0x7f595c272c90>, <__main__.BloomFilter object at 0x7f595c272cd0>, <__main__.BloomFilter object at 0x7f595c272d10>, <__main__.BloomFilter object at 0x7f595c272d50>, <__main__.BloomFilter object at 0x7f595c272d90>, <__main__.BloomFilter object at 0x7f595c272dd0>, <__main__.BloomFilter object at 0x7f595c272e10>, <__main__.BloomFilter object at 0x7f595c272e50>, <__main__.BloomFilter object at 0x7f595c272e90>, <__main__.BloomFilter object at 0x7f595c272ed0>, <__main__.BloomFilter object at 0x7f595c272f10>, <__main__.BloomFilter object at 0x7f595c272f50>, <__main__.BloomFilter object at 0x7f595c272f90>, <__main__.BloomFilter object at 0x7f595c272fd0>, <__main__.BloomFilter object at 0x7f595c276050>, <__main__.BloomFilter object at 0x7f595c276090>, <__main__.BloomFilter object at 0x7f595c2760d0>, <__main__.BloomFilter object at 0x7f595c276110>, <__main__.BloomFilter object at 0x7f595c276150>, <__main__.BloomFilter object at 0x7f595c276190>, <__main__.BloomFilter object at 0x7f595c2761d0>, <__main__.BloomFilter object at 0x7f595c276210>, <__main__.BloomFilter object at 0x7f595c276250>, <__main__.BloomFilter object at 0x7f595c276290>, <__main__.BloomFilter object at 0x7f595c2762d0>, <__main__.BloomFilter object at 0x7f595c276310>, <__main__.BloomFilter object at 0x7f595c276350>, <__main__.BloomFilter object at 0x7f595c276390>, <__main__.BloomFilter object at 0x7f595c2763d0>, <__main__.BloomFilter object at 0x7f595c276410>, <__main__.BloomFilter object at 0x7f595c276450>, <__main__.BloomFilter object at 0x7f595c276490>, <__main__.BloomFilter object at 0x7f595c2764d0>, <__main__.BloomFilter object at 0x7f595c276510>, <__main__.BloomFilter object at 0x7f595c276550>, <__main__.BloomFilter object at 0x7f595c276590>, <__main__.BloomFilter object at 0x7f595c2765d0>, <__main__.BloomFilter object at 0x7f595c276610>, <__main__.BloomFilter object at 0x7f595c276650>, <__main__.BloomFilter object at 0x7f595c276690>, <__main__.BloomFilter object at 0x7f595c2766d0>, <__main__.BloomFilter object at 0x7f595c276710>, <__main__.BloomFilter object at 0x7f595c276750>, <__main__.BloomFilter object at 0x7f595c276790>, <__main__.BloomFilter object at 0x7f595c2767d0>, <__main__.BloomFilter object at 0x7f595c276810>, <__main__.BloomFilter object at 0x7f595c276850>, <__main__.BloomFilter object at 0x7f595c276890>, <__main__.BloomFilter object at 0x7f595c2768d0>, <__main__.BloomFilter object at 0x7f595c276910>, <__main__.BloomFilter object at 0x7f595c276950>, <__main__.BloomFilter object at 0x7f595c276990>, <__main__.BloomFilter object at 0x7f595c2769d0>, <__main__.BloomFilter object at 0x7f595c276a10>, <__main__.BloomFilter object at 0x7f595c276a50>, <__main__.BloomFilter object at 0x7f595c276a90>, <__main__.BloomFilter object at 0x7f595c276ad0>, <__main__.BloomFilter object at 0x7f595c276b10>, <__main__.BloomFilter object at 0x7f595c276b50>, <__main__.BloomFilter object at 0x7f595c276b90>, <__main__.BloomFilter object at 0x7f595c276bd0>, <__main__.BloomFilter object at 0x7f595c276c10>, <__main__.BloomFilter object at 0x7f595c276c50>, <__main__.BloomFilter object at 0x7f595c276c90>, <__main__.BloomFilter object at 0x7f595c276cd0>, <__main__.BloomFilter object at 0x7f595c276d10>, <__main__.BloomFilter object at 0x7f595c276d50>, <__main__.BloomFilter object at 0x7f595c276d90>, <__main__.BloomFilter object at 0x7f595c276dd0>, <__main__.BloomFilter object at 0x7f595c276e10>, <__main__.BloomFilter object at 0x7f595c276e50>, <__main__.BloomFilter object at 0x7f595c276e90>, <__main__.BloomFilter object at 0x7f595c276ed0>, <__main__.BloomFilter object at 0x7f595c276f10>, <__main__.BloomFilter object at 0x7f595c276f50>, <__main__.BloomFilter object at 0x7f595c276f90>, <__main__.BloomFilter object at 0x7f595c276fd0>, <__main__.BloomFilter object at 0x7f595c27d050>, <__main__.BloomFilter object at 0x7f595c27d090>, <__main__.BloomFilter object at 0x7f595c27d0d0>, <__main__.BloomFilter object at 0x7f595c27d110>, <__main__.BloomFilter object at 0x7f595c27d150>, <__main__.BloomFilter object at 0x7f595c27d190>, <__main__.BloomFilter object at 0x7f595c27d1d0>, <__main__.BloomFilter object at 0x7f595c27d210>, <__main__.BloomFilter object at 0x7f595c27d250>, <__main__.BloomFilter object at 0x7f595c27d290>, <__main__.BloomFilter object at 0x7f595c27d2d0>, <__main__.BloomFilter object at 0x7f595c27d310>, <__main__.BloomFilter object at 0x7f595c27d350>, <__main__.BloomFilter object at 0x7f595c27d390>, <__main__.BloomFilter object at 0x7f595c27d3d0>, <__main__.BloomFilter object at 0x7f595c27d410>, <__main__.BloomFilter object at 0x7f595c27d450>, <__main__.BloomFilter object at 0x7f595c27d490>, <__main__.BloomFilter object at 0x7f595c27d4d0>, <__main__.BloomFilter object at 0x7f595c27d510>, <__main__.BloomFilter object at 0x7f595c27d550>, <__main__.BloomFilter object at 0x7f595c27d590>, <__main__.BloomFilter object at 0x7f595c27d5d0>, <__main__.BloomFilter object at 0x7f595c27d610>, <__main__.BloomFilter object at 0x7f595c27d650>, <__main__.BloomFilter object at 0x7f595c27d690>, <__main__.BloomFilter object at 0x7f595c27d6d0>, <__main__.BloomFilter object at 0x7f595c27d710>, <__main__.BloomFilter object at 0x7f595c27d750>, <__main__.BloomFilter object at 0x7f595c27d790>, <__main__.BloomFilter object at 0x7f595c27d7d0>, <__main__.BloomFilter object at 0x7f595c27d810>, <__main__.BloomFilter object at 0x7f595c27d850>, <__main__.BloomFilter object at 0x7f595c27d890>, <__main__.BloomFilter object at 0x7f595c27d8d0>, <__main__.BloomFilter object at 0x7f595c27d910>, <__main__.BloomFilter object at 0x7f595c27d950>, <__main__.BloomFilter object at 0x7f595c27d990>, <__main__.BloomFilter object at 0x7f595c27d9d0>, <__main__.BloomFilter object at 0x7f595c27da10>, <__main__.BloomFilter object at 0x7f595c27da50>, <__main__.BloomFilter object at 0x7f595c27da90>, <__main__.BloomFilter object at 0x7f595c27dad0>, <__main__.BloomFilter object at 0x7f595c27db10>, <__main__.BloomFilter object at 0x7f595c27db50>, <__main__.BloomFilter object at 0x7f595c27db90>, <__main__.BloomFilter object at 0x7f595c27dbd0>, <__main__.BloomFilter object at 0x7f595c27dc10>, <__main__.BloomFilter object at 0x7f595c27dc50>, <__main__.BloomFilter object at 0x7f595c27dc90>, <__main__.BloomFilter object at 0x7f595c27dcd0>, <__main__.BloomFilter object at 0x7f595c27dd10>, <__main__.BloomFilter object at 0x7f595c27dd50>, <__main__.BloomFilter object at 0x7f595c27dd90>, <__main__.BloomFilter object at 0x7f595c27ddd0>, <__main__.BloomFilter object at 0x7f595c27de10>, <__main__.BloomFilter object at 0x7f595c27de50>, <__main__.BloomFilter object at 0x7f595c27de90>, <__main__.BloomFilter object at 0x7f595c27ded0>, <__main__.BloomFilter object at 0x7f595c27df10>, <__main__.BloomFilter object at 0x7f595c27df50>, <__main__.BloomFilter object at 0x7f595c27df90>, <__main__.BloomFilter object at 0x7f595c27dfd0>, <__main__.BloomFilter object at 0x7f595c281050>, <__main__.BloomFilter object at 0x7f595c281090>, <__main__.BloomFilter object at 0x7f595c2810d0>, <__main__.BloomFilter object at 0x7f595c281110>, <__main__.BloomFilter object at 0x7f595c281150>, <__main__.BloomFilter object at 0x7f595c281190>, <__main__.BloomFilter object at 0x7f595c2811d0>, <__main__.BloomFilter object at 0x7f595c281210>, <__main__.BloomFilter object at 0x7f595c281250>, <__main__.BloomFilter object at 0x7f595c281290>, <__main__.BloomFilter object at 0x7f595c2812d0>, <__main__.BloomFilter object at 0x7f595c281310>, <__main__.BloomFilter object at 0x7f595c281350>, <__main__.BloomFilter object at 0x7f595c281390>, <__main__.BloomFilter object at 0x7f595c2813d0>, <__main__.BloomFilter object at 0x7f595c281410>, <__main__.BloomFilter object at 0x7f595c281450>, <__main__.BloomFilter object at 0x7f595c281490>, <__main__.BloomFilter object at 0x7f595c2814d0>, <__main__.BloomFilter object at 0x7f595c281510>, <__main__.BloomFilter object at 0x7f595c281550>, <__main__.BloomFilter object at 0x7f595c281590>, <__main__.BloomFilter object at 0x7f595c2815d0>, <__main__.BloomFilter object at 0x7f595c281610>, <__main__.BloomFilter object at 0x7f595c281650>, <__main__.BloomFilter object at 0x7f595c281690>, <__main__.BloomFilter object at 0x7f595c2816d0>, <__main__.BloomFilter object at 0x7f595c281710>, <__main__.BloomFilter object at 0x7f595c281750>, <__main__.BloomFilter object at 0x7f595c281790>, <__main__.BloomFilter object at 0x7f595c2817d0>, <__main__.BloomFilter object at 0x7f595c281810>, <__main__.BloomFilter object at 0x7f595c281850>, <__main__.BloomFilter object at 0x7f595c281890>, <__main__.BloomFilter object at 0x7f595c2818d0>, <__main__.BloomFilter object at 0x7f595c281910>, <__main__.BloomFilter object at 0x7f595c281950>, <__main__.BloomFilter object at 0x7f595c281990>, <__main__.BloomFilter object at 0x7f595c2819d0>, <__main__.BloomFilter object at 0x7f595c281a10>, <__main__.BloomFilter object at 0x7f595c281a50>, <__main__.BloomFilter object at 0x7f595c281a90>, <__main__.BloomFilter object at 0x7f595c281ad0>, <__main__.BloomFilter object at 0x7f595c281b10>, <__main__.BloomFilter object at 0x7f595c281b50>, <__main__.BloomFilter object at 0x7f595c281b90>, <__main__.BloomFilter object at 0x7f595c281bd0>, <__main__.BloomFilter object at 0x7f595c281c10>, <__main__.BloomFilter object at 0x7f595c281c50>, <__main__.BloomFilter object at 0x7f595c281c90>, <__main__.BloomFilter object at 0x7f595c281cd0>, <__main__.BloomFilter object at 0x7f595c281d10>, <__main__.BloomFilter object at 0x7f595c281d50>, <__main__.BloomFilter object at 0x7f595c281d90>, <__main__.BloomFilter object at 0x7f595c281dd0>, <__main__.BloomFilter object at 0x7f595c281e10>, <__main__.BloomFilter object at 0x7f595c281e50>, <__main__.BloomFilter object at 0x7f595c281e90>, <__main__.BloomFilter object at 0x7f595c281ed0>, <__main__.BloomFilter object at 0x7f595c281f10>, <__main__.BloomFilter object at 0x7f595c281f50>, <__main__.BloomFilter object at 0x7f595c281f90>, <__main__.BloomFilter object at 0x7f595c281fd0>, <__main__.BloomFilter object at 0x7f595c288050>, <__main__.BloomFilter object at 0x7f595c288090>, <__main__.BloomFilter object at 0x7f595c2880d0>, <__main__.BloomFilter object at 0x7f595c288110>, <__main__.BloomFilter object at 0x7f595c288150>, <__main__.BloomFilter object at 0x7f595c288190>, <__main__.BloomFilter object at 0x7f595c2881d0>, <__main__.BloomFilter object at 0x7f595c288210>, <__main__.BloomFilter object at 0x7f595c288250>, <__main__.BloomFilter object at 0x7f595c288290>, <__main__.BloomFilter object at 0x7f595c2882d0>, <__main__.BloomFilter object at 0x7f595c288310>, <__main__.BloomFilter object at 0x7f595c288350>, <__main__.BloomFilter object at 0x7f595c288390>, <__main__.BloomFilter object at 0x7f595c2883d0>, <__main__.BloomFilter object at 0x7f595c288410>, <__main__.BloomFilter object at 0x7f595c288450>, <__main__.BloomFilter object at 0x7f595c288490>, <__main__.BloomFilter object at 0x7f595c2884d0>, <__main__.BloomFilter object at 0x7f595c288510>, <__main__.BloomFilter object at 0x7f595c288550>, <__main__.BloomFilter object at 0x7f595c288590>, <__main__.BloomFilter object at 0x7f595c2885d0>, <__main__.BloomFilter object at 0x7f595c288610>, <__main__.BloomFilter object at 0x7f595c288650>, <__main__.BloomFilter object at 0x7f595c288690>, <__main__.BloomFilter object at 0x7f595c2886d0>]\n",
            "bitarray('00000000000000000000000000000000000000000000000000000000000000000000000000000000000000000000000000000000000000000000000000000000000000000000100000000000000000000000000000000000000000000000000000000000000000000000000000000100000000000000000000000000000000000000000000000000000000000000000')\n"
          ]
        }
      ]
    },
    {
      "cell_type": "code",
      "metadata": {
        "id": "Gmb_GbhREEkU",
        "colab": {
          "base_uri": "https://localhost:8080/"
        },
        "outputId": "74b0e246-1396-46b7-eff1-f0710a237469"
      },
      "source": [
        "# export dbf\n",
        "# export layer 1 static\n",
        "dbf_df = pd.DataFrame(data = {\n",
        "    'block_id': [],\n",
        "    'ubf_id': [],\n",
        "    'bit_array': [],\n",
        "})\n",
        "\n",
        "\n",
        "for i in range(len(dbf_list)):\n",
        "  for j in range(len(dbf_list[i])):\n",
        "    bit_array = ''.join(str(x) for x in dbf_list[i][j].bit_array)\n",
        "\n",
        "    dbf_df = dbf_df.append({\n",
        "        'block_id': i,\n",
        "        'ubf_id': j,\n",
        "        'bit_array': bit_array\n",
        "    }, ignore_index=True)\n",
        "  \n",
        "print(dbf_df)"
      ],
      "execution_count": null,
      "outputs": [
        {
          "output_type": "stream",
          "name": "stdout",
          "text": [
            "        block_id  ubf_id                                          bit_array\n",
            "0            0.0     0.0  0000000000000000000000000000000000000000000000...\n",
            "1            0.0     1.0  0000000000000000000000000000000000000000000000...\n",
            "2            0.0     2.0  0000000000000000000000000000000000000000000000...\n",
            "3            0.0     3.0  0000000000000000000000000000000000000000000000...\n",
            "4            0.0     4.0  0000000000000000000000000000000000000000000000...\n",
            "...          ...     ...                                                ...\n",
            "106293      51.0  2044.0  0000000000000000000000000000000000000000000000...\n",
            "106294      51.0  2045.0  0000000000000000000000000000000000000000000000...\n",
            "106295      51.0  2046.0  0000000000000000000000000000000000000000000000...\n",
            "106296      51.0  2047.0  0000000000000000000000000000000000000000000000...\n",
            "106297      51.0  2048.0  0000000000000000000000000000000000000000000000...\n",
            "\n",
            "[106298 rows x 3 columns]\n"
          ]
        }
      ]
    },
    {
      "cell_type": "markdown",
      "source": [
        "Download CSV Layer 2"
      ],
      "metadata": {
        "id": "CNdJn-9Wnm_1"
      }
    },
    {
      "cell_type": "code",
      "source": [
        "## UBF1\n",
        "ubf1_df.to_csv('ubf1.csv', index=False)\n",
        "files.download('ubf1.csv')\n",
        "\n",
        "## UBF2\n",
        "ubf2_df.to_csv('ubf2.csv', index=False)\n",
        "files.download('ubf2.csv')\n",
        "\n",
        "## DBF\n",
        "dbf_df.to_csv('dbf.csv', index=False)\n",
        "files.download('dbf.csv')"
      ],
      "metadata": {
        "id": "xXUSjNPfnr3Y",
        "colab": {
          "base_uri": "https://localhost:8080/"
        },
        "outputId": "151571be-f4cc-4445-a6ff-3694ea9f7203"
      },
      "execution_count": null,
      "outputs": [
        {
          "output_type": "display_data",
          "data": {
            "application/javascript": [
              "\n",
              "    async function download(id, filename, size) {\n",
              "      if (!google.colab.kernel.accessAllowed) {\n",
              "        return;\n",
              "      }\n",
              "      const div = document.createElement('div');\n",
              "      const label = document.createElement('label');\n",
              "      label.textContent = `Downloading \"${filename}\": `;\n",
              "      div.appendChild(label);\n",
              "      const progress = document.createElement('progress');\n",
              "      progress.max = size;\n",
              "      div.appendChild(progress);\n",
              "      document.body.appendChild(div);\n",
              "\n",
              "      const buffers = [];\n",
              "      let downloaded = 0;\n",
              "\n",
              "      const channel = await google.colab.kernel.comms.open(id);\n",
              "      // Send a message to notify the kernel that we're ready.\n",
              "      channel.send({})\n",
              "\n",
              "      for await (const message of channel.messages) {\n",
              "        // Send a message to notify the kernel that we're ready.\n",
              "        channel.send({})\n",
              "        if (message.buffers) {\n",
              "          for (const buffer of message.buffers) {\n",
              "            buffers.push(buffer);\n",
              "            downloaded += buffer.byteLength;\n",
              "            progress.value = downloaded;\n",
              "          }\n",
              "        }\n",
              "      }\n",
              "      const blob = new Blob(buffers, {type: 'application/binary'});\n",
              "      const a = document.createElement('a');\n",
              "      a.href = window.URL.createObjectURL(blob);\n",
              "      a.download = filename;\n",
              "      div.appendChild(a);\n",
              "      a.click();\n",
              "      div.remove();\n",
              "    }\n",
              "  "
            ],
            "text/plain": [
              "<IPython.core.display.Javascript object>"
            ]
          },
          "metadata": {}
        },
        {
          "output_type": "display_data",
          "data": {
            "application/javascript": [
              "download(\"download_99bb60bc-dfe9-440b-b7f4-14a9bf4031ef\", \"ubf1.csv\", 21454456)"
            ],
            "text/plain": [
              "<IPython.core.display.Javascript object>"
            ]
          },
          "metadata": {}
        },
        {
          "output_type": "display_data",
          "data": {
            "application/javascript": [
              "\n",
              "    async function download(id, filename, size) {\n",
              "      if (!google.colab.kernel.accessAllowed) {\n",
              "        return;\n",
              "      }\n",
              "      const div = document.createElement('div');\n",
              "      const label = document.createElement('label');\n",
              "      label.textContent = `Downloading \"${filename}\": `;\n",
              "      div.appendChild(label);\n",
              "      const progress = document.createElement('progress');\n",
              "      progress.max = size;\n",
              "      div.appendChild(progress);\n",
              "      document.body.appendChild(div);\n",
              "\n",
              "      const buffers = [];\n",
              "      let downloaded = 0;\n",
              "\n",
              "      const channel = await google.colab.kernel.comms.open(id);\n",
              "      // Send a message to notify the kernel that we're ready.\n",
              "      channel.send({})\n",
              "\n",
              "      for await (const message of channel.messages) {\n",
              "        // Send a message to notify the kernel that we're ready.\n",
              "        channel.send({})\n",
              "        if (message.buffers) {\n",
              "          for (const buffer of message.buffers) {\n",
              "            buffers.push(buffer);\n",
              "            downloaded += buffer.byteLength;\n",
              "            progress.value = downloaded;\n",
              "          }\n",
              "        }\n",
              "      }\n",
              "      const blob = new Blob(buffers, {type: 'application/binary'});\n",
              "      const a = document.createElement('a');\n",
              "      a.href = window.URL.createObjectURL(blob);\n",
              "      a.download = filename;\n",
              "      div.appendChild(a);\n",
              "      a.click();\n",
              "      div.remove();\n",
              "    }\n",
              "  "
            ],
            "text/plain": [
              "<IPython.core.display.Javascript object>"
            ]
          },
          "metadata": {}
        },
        {
          "output_type": "display_data",
          "data": {
            "application/javascript": [
              "download(\"download_bf6d443e-8644-46fb-a0f1-f685e4b427d4\", \"ubf2.csv\", 61304)"
            ],
            "text/plain": [
              "<IPython.core.display.Javascript object>"
            ]
          },
          "metadata": {}
        },
        {
          "output_type": "display_data",
          "data": {
            "application/javascript": [
              "\n",
              "    async function download(id, filename, size) {\n",
              "      if (!google.colab.kernel.accessAllowed) {\n",
              "        return;\n",
              "      }\n",
              "      const div = document.createElement('div');\n",
              "      const label = document.createElement('label');\n",
              "      label.textContent = `Downloading \"${filename}\": `;\n",
              "      div.appendChild(label);\n",
              "      const progress = document.createElement('progress');\n",
              "      progress.max = size;\n",
              "      div.appendChild(progress);\n",
              "      document.body.appendChild(div);\n",
              "\n",
              "      const buffers = [];\n",
              "      let downloaded = 0;\n",
              "\n",
              "      const channel = await google.colab.kernel.comms.open(id);\n",
              "      // Send a message to notify the kernel that we're ready.\n",
              "      channel.send({})\n",
              "\n",
              "      for await (const message of channel.messages) {\n",
              "        // Send a message to notify the kernel that we're ready.\n",
              "        channel.send({})\n",
              "        if (message.buffers) {\n",
              "          for (const buffer of message.buffers) {\n",
              "            buffers.push(buffer);\n",
              "            downloaded += buffer.byteLength;\n",
              "            progress.value = downloaded;\n",
              "          }\n",
              "        }\n",
              "      }\n",
              "      const blob = new Blob(buffers, {type: 'application/binary'});\n",
              "      const a = document.createElement('a');\n",
              "      a.href = window.URL.createObjectURL(blob);\n",
              "      a.download = filename;\n",
              "      div.appendChild(a);\n",
              "      a.click();\n",
              "      div.remove();\n",
              "    }\n",
              "  "
            ],
            "text/plain": [
              "<IPython.core.display.Javascript object>"
            ]
          },
          "metadata": {}
        },
        {
          "output_type": "display_data",
          "data": {
            "application/javascript": [
              "download(\"download_fd42b9ec-b0d5-4f0f-9113-4db8dcbbbc9a\", \"dbf.csv\", 31811266)"
            ],
            "text/plain": [
              "<IPython.core.display.Javascript object>"
            ]
          },
          "metadata": {}
        }
      ]
    }
  ]
}