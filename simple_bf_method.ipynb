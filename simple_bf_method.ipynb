{
  "nbformat": 4,
  "nbformat_minor": 2,
  "metadata": {
    "colab": {
      "name": "simple bf method.ipynb",
      "provenance": [],
      "collapsed_sections": []
    },
    "kernelspec": {
      "name": "python3",
      "display_name": "Python 3.9.6 64-bit"
    },
    "language_info": {
      "name": "python",
      "version": "3.9.6",
      "mimetype": "text/x-python",
      "codemirror_mode": {
        "name": "ipython",
        "version": 3
      },
      "pygments_lexer": "ipython3",
      "nbconvert_exporter": "python",
      "file_extension": ".py"
    },
    "interpreter": {
      "hash": "b0fa6594d8f4cbf19f97940f81e996739fb7646882a419484c72d19e05852a7e"
    }
  },
  "cells": [
    {
      "cell_type": "markdown",
      "source": [
        "# Implementation of Bloom Filter"
      ],
      "metadata": {
        "id": "AVydGivTICv7"
      }
    },
    {
      "cell_type": "markdown",
      "source": [
        "Library"
      ],
      "metadata": {
        "id": "0ZDL5a8wJP0B"
      }
    },
    {
      "cell_type": "code",
      "execution_count": 31,
      "source": [
        "# !pip install bitarray\n",
        "# !pip install pyodbc\n",
        "# !pip install hashlib\n",
        "\n",
        "import math\n",
        "import hashlib\n",
        "from bitarray import bitarray\n",
        "\n",
        "#using bitarray so there's no chance value will be neither 0 or 1"
      ],
      "outputs": [],
      "metadata": {
        "id": "IIXuc6e-G25h",
        "colab": {
          "base_uri": "https://localhost:8080/"
        },
        "outputId": "d937b629-6c6e-4828-ea61-fd7c1b179f05"
      }
    },
    {
      "cell_type": "markdown",
      "source": [
        "Class: __Bloom Filter__\n",
        "> Consist:\n",
        "- Function: __init__: to initialize the class, functions, and class methods functions used\n",
        "- Function: __add__: to insert a specified desired element to the array\n",
        "- Function: __check__: to an existence of a specified element in the array\n",
        "- Function: (classmethod) __get_size__: to calculate the size of the array\n",
        "- Function: (classmethod) __get_hash_count__: to calculate the hash count needed to hash a specified element"
      ],
      "metadata": {
        "id": "mEAV-rFdJRMX"
      }
    },
    {
      "cell_type": "code",
      "execution_count": 32,
      "source": [
        "class BloomFilter(object):\n",
        "\n",
        "\t'''\n",
        "\tClass for Bloom filter, using SHA256 hash function\n",
        "\t'''\n",
        "\n",
        "\tdef __init__(self, items_count, fp_prob):\n",
        "\t\t'''\n",
        "    Bloom Filter is a bit of array of specified size (m) and initially sets to zero\n",
        "\n",
        "    Glosarium:\n",
        "\t\t  n = items_count : int\n",
        "\t\t\t  Number of items expected to be stored in bloom filter\n",
        "\t\t  p = fp_prob : float\n",
        "\t\t\t  False Positive probability in decimal\n",
        "      k = hash count\n",
        "        Hash count needed for specified value. Formula commented alongside the function.\n",
        "      m = size of array\n",
        "        m CAN'T BE INPUTED MANUALLY without calculating the items count and hash count. Otherwise, collision increases.\n",
        "\t\t'''\n",
        "\n",
        "\t\t# Initialize false positive probability in decimal\n",
        "\t\tself.fp_prob = fp_prob\n",
        "\n",
        "\t\t# Initialize size (m) of bit array to use\n",
        "\t\tself.size = self.get_size(items_count, fp_prob)\n",
        "\n",
        "\t\t# Initialize number of hash functions (k) to use\n",
        "\t\tself.hash_count = self.get_hash_count(self.size, items_count)\n",
        "\n",
        "\t\t# Initialize bit array of given size\n",
        "    # Creating the array that will use the bloom filter method\n",
        "\t\tself.bit_array = bitarray(self.size)\n",
        "\n",
        "\t\t# Initialize all bits as 0\n",
        "\t\tself.bit_array.setall(0)\n",
        "\n",
        "\tdef add(self, item):\n",
        "\t\t'''\n",
        "\t\tEncode and insert an item into the filter\n",
        "\t\t'''\n",
        "\t\tdigests = []\n",
        "\t\tfor i in range(self.hash_count):\n",
        "\n",
        "\t\t\t# create digest for given item.\n",
        "\t\t\t# using SHA256\n",
        "      # checking the bit value\n",
        "      # set bit value = position mod m\n",
        "\t\t\tdigest = int(hashlib.sha256(item.encode()).hexdigest(),16) % self.size\n",
        "\t\t\tdigests.append(digest)\n",
        "\n",
        "\t\t\t# set the bit True in bit_array\n",
        "\t\t\tself.bit_array[digest] = True\n",
        "\n",
        "\tdef check(self, item):\n",
        "\t\t'''\n",
        "\t\tCheck for existence of an item in filter\n",
        "\t\t'''\n",
        "\t\tfor i in range(self.hash_count):\n",
        "\t\t\tdigest = int(hashlib.sha256(item.encode()).hexdigest(),16) % self.size\n",
        "\t\t\tif self.bit_array[digest] == False:\n",
        "\n",
        "\t\t\t\t# if any of bit is False then,its not present\n",
        "\t\t\t\t# in filter\n",
        "\t\t\t\t# else there is probability that it exist\n",
        "\t\t\t\treturn False\n",
        "\t\treturn True\n",
        "\n",
        "\t@classmethod\n",
        "\tdef get_size(self, n, p):\n",
        "\t\t'''\n",
        "\t\tReturn the size of bit array(m) to used using\n",
        "\t\tfollowing formula\n",
        "\t\tm = -(n * lg(p)) / (lg(2)^2)\n",
        "\t\tn : int\n",
        "\t\t\tnumber of items expected to be stored in filter\n",
        "\t\tp : float\n",
        "\t\t\tFalse Positive probability in decimal\n",
        "\t\t'''\n",
        "\t\tm = -(n * math.log(p))/(math.log(2)**2)\n",
        "\t\treturn int(m)\n",
        "\n",
        "\t@classmethod\n",
        "\tdef get_hash_count(self, m, n):\n",
        "\t\t'''\n",
        "\t\tReturn the hash function(k) to be used using\n",
        "\t\tfollowing formula\n",
        "\t\tk = (m/n) * lg(2)\n",
        "\n",
        "\t\tm : int\n",
        "\t\t\tsize of bit array\n",
        "\t\tn : int\n",
        "\t\t\tnumber of items expected to be stored in filter\n",
        "\t\t'''\n",
        "\t\tk = (m/n) * math.log(2)\n",
        "\t\treturn int(k)"
      ],
      "outputs": [],
      "metadata": {
        "id": "d1Fe_nF1IHGl"
      }
    },
    {
      "cell_type": "markdown",
      "source": [
        "Function to insert and query multiple array with bloom filter method to the blockchain."
      ],
      "metadata": {
        "id": "_mBed15ys20p"
      }
    },
    {
      "cell_type": "code",
      "execution_count": 33,
      "source": [
        "def create_list(array_count, element_count, fp_prob):\n",
        "  '''\n",
        "  Function to create multiple array that recall bloom filter method.\n",
        "  '''\n",
        "  array_bf = []\n",
        "  a = array_count\n",
        "  n = element_count\n",
        "  p = fp_prob\n",
        "\n",
        "  for i in range(a):\n",
        "    BF = BloomFilter(n, p)\n",
        "    array_bf.append(BF)\n",
        "\n",
        "  return array_bf"
      ],
      "outputs": [],
      "metadata": {
        "id": "rrx8Kr3StEwN"
      }
    },
    {
      "cell_type": "markdown",
      "source": [
        "Code **Test**"
      ],
      "metadata": {
        "id": "biDI7lIeH_d9"
      }
    },
    {
      "cell_type": "code",
      "execution_count": 34,
      "source": [
        "n = 20 # number of items to add\n",
        "p = 0.05 # false positive probability\n",
        "\n",
        "list_bf = create_list(2, n, p)\n",
        "\n",
        "print(list_bf)\n",
        "\n",
        "# insert\n",
        "data_1 = ['one', 'two', 'three', 'four', 'five',\n",
        "          'six', 'seven', 'eight', 'nine', 'ten',\n",
        "          'eleven', 'twelve', 'thirteen', 'fourteen', 'fifteen',\n",
        "          'sixteen', 'seventeen', 'eighteen', 'nineteen', 'twenty']\n",
        "\n",
        "data_2 = ['satu', 'dua', 'tiga', 'empat', 'lima',\n",
        "          'enam', 'tujuh', 'delapan', 'sembilan', 'sepuluh',\n",
        "          'sebelas', 'duabelas', 'tigabelas', 'empatbelas', 'limabelas',\n",
        "          'enambelas', 'tujuhbelas', 'delapanbelas', 'sembilanbelas', 'duapuluh']\n",
        "\n",
        "for item in data_1:\n",
        "  list_bf[0].add(item)\n",
        "\n",
        "for item in data_2:\n",
        "  list_bf[1].add(item)\n",
        "\n",
        "\"\"\"\n",
        "NOTES: Array initialised starts from 0\n",
        "\"\"\"\n",
        "\n",
        "# query\n",
        "data_test = ['one1', 'satu1', 'twoo', 'duaa', 'three', 'tiga']\n",
        "for element in data_test:\n",
        "  isExist = False\n",
        "  for i in range(len(list_bf)):\n",
        "    if (list_bf[i].check(element) == True):\n",
        "      isExist = True\n",
        "      break\n",
        "      \n",
        "  if isExist:\n",
        "    print(\"'{}' is probably present in list number: \".format(element) + str(i) )\n",
        "  else:\n",
        "    print(\"'{}' is not exist in any list.\".format(element))\n",
        "\n",
        "list_bf[1].add('e308822895456863432914fa75c81bcf38167393674141414141426739366a5776425a6c536c51456a49636d524b5645343575656e7a6c5073346730304d6d65495730727946325157585852694d514542584c5f6e43454b546b44585051386b696c56705532642d65452d536d594c75334f6f6747504f44486e7a67484d5479616a7a6950764e79756c6f6350676870595a73715a4f577050707569736d482d9edd20b51ccb22e8e3cedf9778f6597047773bd594d41f50633d7e0a474270d52db23bb44c53167b53e33100e3667fb8f7d34eb696624a59589661716e0d2f6dac2b88b37cb76f2beda9648665af1ef4f7e09bf32c86e3e5bd18d66f326bf076c73e66c5bd5d454622678d9248e0844a9f675a0335a0abdbdb6e2bf06fddfbe5')"
      ],
      "outputs": [
        {
          "output_type": "stream",
          "name": "stdout",
          "text": [
            "[<__main__.BloomFilter object at 0x1153986d0>, <__main__.BloomFilter object at 0x115398520>]\n",
            "'one1' is not exist in any list.\n",
            "'satu1' is not exist in any list.\n",
            "'twoo' is not exist in any list.\n",
            "'duaa' is not exist in any list.\n",
            "'three' is probably present in list number: 0\n",
            "'tiga' is probably present in list number: 1\n"
          ]
        }
      ],
      "metadata": {
        "id": "uokONWzMJgmC"
      }
    },
    {
      "cell_type": "markdown",
      "source": [
        "Integrate with Database Test"
      ],
      "metadata": {
        "id": "l_9SWP-v5BlE"
      }
    },
    {
      "cell_type": "code",
      "execution_count": 58,
      "source": [
        "# !pip install pymysql\n",
        "import pymysql\n",
        "\n",
        "p = 0.05\n",
        "\n",
        "cnx = pymysql.connect (\n",
        "    host='localhost',\n",
        "    database='bloomfilter',\n",
        "    user='admin',\n",
        "    password='rhTLym-rj20TgE_0')\n",
        "\n",
        "cursor = cnx.cursor()\n",
        "\n",
        "cursor.execute(\"SELECT COUNT(*) FROM (SELECT DISTINCT block_id FROM table2) AS block_id_count\")\n",
        "block_count = cursor.fetchone()\n",
        "\n",
        "# print(block_count)\n",
        "\n",
        "list_BF = create_list(block_count[0], 6, p)\n",
        "\n",
        "# print(list_BF)\n",
        "\n",
        "cursor.execute(\"SELECT * FROM table2\")\n",
        "block_content = cursor.fetchall()\n",
        "\n",
        "for bc in block_content:\n",
        "    block_id = int(bc[1])\n",
        "    data = bc[2]\n",
        "\n",
        "    list_BF[block_id].add(data)\n",
        "\n",
        "cek = 0\n",
        "for bc in block_content:\n",
        "    block_id = int(bc[1])\n",
        "    data = bc[2]\n",
        "    cek_data = list_BF[block_id].check('e308822895456863432914fa75c81bcf3816739367414141414142675f774866434b4f722d755a2d4c45637133722d6f314545637a6f6f765f325265385075474666683054486c4a54736a4649705259684f4677534d6d736b3449463648387268784c74394b66415355734a545864706f36644c56384135777755676476395050575243537474484f6c3874636e44794b36384b42665a327571427038557339b36cf62812612780a0742c2e98230a47e744f5bc5e896f3cc4133db4f31840795b116fffe71bb6fb48d33702b34c617275a8e92180a00e3a1baa0ddf71efd0a190d85ffa3d6f71701d21732584db788f5db2f0985aa66ce130776a894ab99acc512f00f001a3b92f502f2136064203d14c0cc8652238e087bd6d7400da01cc69')\n",
        "    cek += 1\n",
        "\n",
        "print(cek)\n",
        "print(len(list_BF))\n",
        "print(list_BF)\n",
        "\n",
        "\n",
        "cnx.close()"
      ],
      "outputs": [
        {
          "output_type": "stream",
          "name": "stdout",
          "text": [
            "600\n",
            "100\n",
            "[<__main__.BloomFilter object at 0x1154a23a0>, <__main__.BloomFilter object at 0x11538bd90>, <__main__.BloomFilter object at 0x1156e4310>, <__main__.BloomFilter object at 0x1157a0880>, <__main__.BloomFilter object at 0x1156a7970>, <__main__.BloomFilter object at 0x1156a7910>, <__main__.BloomFilter object at 0x1153aa220>, <__main__.BloomFilter object at 0x1158bba90>, <__main__.BloomFilter object at 0x1158bb3d0>, <__main__.BloomFilter object at 0x11578b580>, <__main__.BloomFilter object at 0x11578b040>, <__main__.BloomFilter object at 0x11578b8b0>, <__main__.BloomFilter object at 0x115aa2a00>, <__main__.BloomFilter object at 0x115aa22b0>, <__main__.BloomFilter object at 0x115aa27f0>, <__main__.BloomFilter object at 0x115aa2cd0>, <__main__.BloomFilter object at 0x115aa25e0>, <__main__.BloomFilter object at 0x115aa2d30>, <__main__.BloomFilter object at 0x115aa2be0>, <__main__.BloomFilter object at 0x115aa2d90>, <__main__.BloomFilter object at 0x115aa2b50>, <__main__.BloomFilter object at 0x1158aafd0>, <__main__.BloomFilter object at 0x1158aa5b0>, <__main__.BloomFilter object at 0x11529bca0>, <__main__.BloomFilter object at 0x11529b430>, <__main__.BloomFilter object at 0x11529b100>, <__main__.BloomFilter object at 0x11529b2b0>, <__main__.BloomFilter object at 0x11529b130>, <__main__.BloomFilter object at 0x11529b550>, <__main__.BloomFilter object at 0x11529bf70>, <__main__.BloomFilter object at 0x11529b610>, <__main__.BloomFilter object at 0x115516100>, <__main__.BloomFilter object at 0x115516700>, <__main__.BloomFilter object at 0x1153f6460>, <__main__.BloomFilter object at 0x1153f6dc0>, <__main__.BloomFilter object at 0x1153f6400>, <__main__.BloomFilter object at 0x1153f6670>, <__main__.BloomFilter object at 0x1153f6d60>, <__main__.BloomFilter object at 0x115a97b50>, <__main__.BloomFilter object at 0x115aa00a0>, <__main__.BloomFilter object at 0x115aa0790>, <__main__.BloomFilter object at 0x115aa0b80>, <__main__.BloomFilter object at 0x115484490>, <__main__.BloomFilter object at 0x115484d30>, <__main__.BloomFilter object at 0x115484790>, <__main__.BloomFilter object at 0x1154846d0>, <__main__.BloomFilter object at 0x115133880>, <__main__.BloomFilter object at 0x1156cdd00>, <__main__.BloomFilter object at 0x115890280>, <__main__.BloomFilter object at 0x1155b6340>, <__main__.BloomFilter object at 0x1155b6f10>, <__main__.BloomFilter object at 0x1155b6ca0>, <__main__.BloomFilter object at 0x1155b6e50>, <__main__.BloomFilter object at 0x1155b6130>, <__main__.BloomFilter object at 0x1155b68e0>, <__main__.BloomFilter object at 0x1155b6eb0>, <__main__.BloomFilter object at 0x1158e8d30>, <__main__.BloomFilter object at 0x1158e8f10>, <__main__.BloomFilter object at 0x1158e8bb0>, <__main__.BloomFilter object at 0x1158e8370>, <__main__.BloomFilter object at 0x1158e8a90>, <__main__.BloomFilter object at 0x1158e85e0>, <__main__.BloomFilter object at 0x1158e8b50>, <__main__.BloomFilter object at 0x1158e8880>, <__main__.BloomFilter object at 0x1158e8b20>, <__main__.BloomFilter object at 0x1158e8760>, <__main__.BloomFilter object at 0x1158e8670>, <__main__.BloomFilter object at 0x1158e8ee0>, <__main__.BloomFilter object at 0x1158e8790>, <__main__.BloomFilter object at 0x115773c70>, <__main__.BloomFilter object at 0x1157731c0>, <__main__.BloomFilter object at 0x115773ac0>, <__main__.BloomFilter object at 0x1157733a0>, <__main__.BloomFilter object at 0x115773520>, <__main__.BloomFilter object at 0x115773340>, <__main__.BloomFilter object at 0x1157734c0>, <__main__.BloomFilter object at 0x115773e80>, <__main__.BloomFilter object at 0x1157738e0>, <__main__.BloomFilter object at 0x115773820>, <__main__.BloomFilter object at 0x115773400>, <__main__.BloomFilter object at 0x115773d90>, <__main__.BloomFilter object at 0x115773130>, <__main__.BloomFilter object at 0x115773100>, <__main__.BloomFilter object at 0x115773160>, <__main__.BloomFilter object at 0x115773280>, <__main__.BloomFilter object at 0x115773190>, <__main__.BloomFilter object at 0x1153cc760>, <__main__.BloomFilter object at 0x1153cceb0>, <__main__.BloomFilter object at 0x1153ccd30>, <__main__.BloomFilter object at 0x11576baf0>, <__main__.BloomFilter object at 0x11576b640>, <__main__.BloomFilter object at 0x11576ba30>, <__main__.BloomFilter object at 0x115586850>, <__main__.BloomFilter object at 0x115586550>, <__main__.BloomFilter object at 0x115586dc0>, <__main__.BloomFilter object at 0x115586130>, <__main__.BloomFilter object at 0x115586490>, <__main__.BloomFilter object at 0x115586250>, <__main__.BloomFilter object at 0x115586a30>, <__main__.BloomFilter object at 0x1155868e0>]\n"
          ]
        }
      ],
      "metadata": {
        "colab": {
          "base_uri": "https://localhost:8080/",
          "height": 496
        },
        "id": "8JxdWgUQ5E4z",
        "outputId": "30cb69d9-bbdd-43fb-f787-a6c16a8017b3"
      }
    }
  ]
}